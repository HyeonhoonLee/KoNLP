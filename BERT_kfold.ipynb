{
  "nbformat": 4,
  "nbformat_minor": 0,
  "metadata": {
    "kernelspec": {
      "display_name": "Python 3",
      "language": "python",
      "name": "python3"
    },
    "language_info": {
      "codemirror_mode": {
        "name": "ipython",
        "version": 3
      },
      "file_extension": ".py",
      "mimetype": "text/x-python",
      "name": "python",
      "nbconvert_exporter": "python",
      "pygments_lexer": "ipython3",
      "version": "3.6.8"
    },
    "pycharm": {
      "stem_cell": {
        "cell_type": "raw",
        "metadata": {
          "collapsed": false
        },
        "source": []
      }
    },
    "colab": {
      "name": "BERT_kfold.ipynb",
      "provenance": [],
      "collapsed_sections": [],
      "include_colab_link": true
    },
    "accelerator": "GPU"
  },
  "cells": [
    {
      "cell_type": "markdown",
      "metadata": {
        "id": "view-in-github",
        "colab_type": "text"
      },
      "source": [
        "<a href=\"https://colab.research.google.com/github/HyeonhoonLee/KoNLP/blob/master/BERT_kfold.ipynb\" target=\"_parent\"><img src=\"https://colab.research.google.com/assets/colab-badge.svg\" alt=\"Open In Colab\"/></a>"
      ]
    },
    {
      "cell_type": "markdown",
      "metadata": {
        "id": "7yDz-z2xOttO"
      },
      "source": [
        "## 1. EDA"
      ]
    },
    {
      "cell_type": "code",
      "metadata": {
        "id": "QkYqRRxePBrs",
        "colab": {
          "base_uri": "https://localhost:8080/"
        },
        "outputId": "4a7d7b7a-18b7-4d38-eddd-fd46db45a18b"
      },
      "source": [
        "from google.colab import drive\n",
        "drive.mount('/content/drive')"
      ],
      "execution_count": 211,
      "outputs": [
        {
          "output_type": "stream",
          "text": [
            "Drive already mounted at /content/drive; to attempt to forcibly remount, call drive.mount(\"/content/drive\", force_remount=True).\n"
          ],
          "name": "stdout"
        }
      ]
    },
    {
      "cell_type": "code",
      "metadata": {
        "pycharm": {
          "is_executing": false
        },
        "id": "-g4iLcZ6OttQ"
      },
      "source": [
        "import numpy as np \n",
        "import pandas as pd\n",
        "import sklearn \n",
        "from sklearn import model_selection\n",
        "import os\n",
        "import matplotlib.pyplot as plt\n",
        "import seaborn as sns\n",
        "from wordcloud import WordCloud\n",
        "%matplotlib inline"
      ],
      "execution_count": 212,
      "outputs": []
    },
    {
      "cell_type": "code",
      "metadata": {
        "id": "ikYl6zF_Z4tF"
      },
      "source": [
        "num_classes=26"
      ],
      "execution_count": 213,
      "outputs": []
    },
    {
      "cell_type": "code",
      "metadata": {
        "pycharm": {
          "is_executing": false
        },
        "id": "iuwiWb5sOttT"
      },
      "source": [
        "DATA_IN_PATH = '/content/drive/My Drive/Colab Notebooks/meditact/'"
      ],
      "execution_count": 214,
      "outputs": []
    },
    {
      "cell_type": "code",
      "metadata": {
        "pycharm": {
          "is_executing": false
        },
        "id": "2bD6dyZdOttW",
        "colab": {
          "base_uri": "https://localhost:8080/"
        },
        "outputId": "1cbb7182-901f-4f0e-9eeb-873785f1c74f"
      },
      "source": [
        "print(\"파일 크기 : \")\n",
        "for file in os.listdir(DATA_IN_PATH):\n",
        "    if 'csv' in file :\n",
        "        print(file.ljust(30) + str(round(os.path.getsize(DATA_IN_PATH + file) / 1000000, 2)) + 'MB')"
      ],
      "execution_count": 215,
      "outputs": [
        {
          "output_type": "stream",
          "text": [
            "파일 크기 : \n",
            "PRE_FINAL.csv                 1.38MB\n",
            "OSAM_FINAL.csv                2.9MB\n"
          ],
          "name": "stdout"
        }
      ]
    },
    {
      "cell_type": "code",
      "metadata": {
        "id": "QVXwU5ySQrqy",
        "colab": {
          "base_uri": "https://localhost:8080/",
          "height": 204
        },
        "outputId": "043e1f01-7d53-491b-ed24-abf10adba25d"
      },
      "source": [
        "#loading csv data\n",
        "all_data = pd.read_csv(DATA_IN_PATH + 'OSAM_FINAL.csv', quoting = 2)\n",
        "all_data.head()"
      ],
      "execution_count": 216,
      "outputs": [
        {
          "output_type": "execute_result",
          "data": {
            "text/html": [
              "<div>\n",
              "<style scoped>\n",
              "    .dataframe tbody tr th:only-of-type {\n",
              "        vertical-align: middle;\n",
              "    }\n",
              "\n",
              "    .dataframe tbody tr th {\n",
              "        vertical-align: top;\n",
              "    }\n",
              "\n",
              "    .dataframe thead th {\n",
              "        text-align: right;\n",
              "    }\n",
              "</style>\n",
              "<table border=\"1\" class=\"dataframe\">\n",
              "  <thead>\n",
              "    <tr style=\"text-align: right;\">\n",
              "      <th></th>\n",
              "      <th>symptom</th>\n",
              "      <th>class</th>\n",
              "    </tr>\n",
              "  </thead>\n",
              "  <tbody>\n",
              "    <tr>\n",
              "      <th>0</th>\n",
              "      <td>질문하겠습니다. 이어폰을 음량을 0으로 하고 끼고만 있어도 귀에 안 좋나요?</td>\n",
              "      <td>ENT</td>\n",
              "    </tr>\n",
              "    <tr>\n",
              "      <th>1</th>\n",
              "      <td>독감예방주사</td>\n",
              "      <td>IP</td>\n",
              "    </tr>\n",
              "    <tr>\n",
              "      <th>2</th>\n",
              "      <td>목에 음식물 그대로 끼어서 계속 이물감이 있습니다</td>\n",
              "      <td>ENT</td>\n",
              "    </tr>\n",
              "    <tr>\n",
              "      <th>3</th>\n",
              "      <td>케겔운동 궁금한것</td>\n",
              "      <td>REHM</td>\n",
              "    </tr>\n",
              "    <tr>\n",
              "      <th>4</th>\n",
              "      <td>등 통증 관련문의</td>\n",
              "      <td>NS</td>\n",
              "    </tr>\n",
              "  </tbody>\n",
              "</table>\n",
              "</div>"
            ],
            "text/plain": [
              "                                      symptom class\n",
              "0  질문하겠습니다. 이어폰을 음량을 0으로 하고 끼고만 있어도 귀에 안 좋나요?   ENT\n",
              "1                                      독감예방주사    IP\n",
              "2                 목에 음식물 그대로 끼어서 계속 이물감이 있습니다   ENT\n",
              "3                                   케겔운동 궁금한것  REHM\n",
              "4                                   등 통증 관련문의    NS"
            ]
          },
          "metadata": {
            "tags": []
          },
          "execution_count": 216
        }
      ]
    },
    {
      "cell_type": "code",
      "metadata": {
        "id": "YijzGlUvQ7qw",
        "colab": {
          "base_uri": "https://localhost:8080/"
        },
        "outputId": "a34e80de-47b6-4288-de3b-89bbea68ce28"
      },
      "source": [
        "# all_data의 전체 길이\n",
        "len(all_data)"
      ],
      "execution_count": 217,
      "outputs": [
        {
          "output_type": "execute_result",
          "data": {
            "text/plain": [
              "51134"
            ]
          },
          "metadata": {
            "tags": []
          },
          "execution_count": 217
        }
      ]
    },
    {
      "cell_type": "code",
      "metadata": {
        "id": "ViZsnvi3VB68"
      },
      "source": [
        "#stratififed split to train_data, test_data\n",
        "\n",
        "#from sklearn.model_selection import StratifiedShuffleSplit\n",
        "\n",
        "#split = StratifiedShuffleSplit(n_splits=1, test_size=0.2, random_state=seed)\n",
        "\n",
        "#for train_idx, test_idx in split.split(all_data, all_data[\"class\"]):\n",
        "#    train_data = all_data.loc[train_idx]\n",
        "#    test_data = all_data.loc[test_idx]"
      ],
      "execution_count": 218,
      "outputs": []
    },
    {
      "cell_type": "code",
      "metadata": {
        "pycharm": {
          "is_executing": false
        },
        "id": "XH2S7EVuOttu"
      },
      "source": [
        "# 보통은 문자열이 아닌 데이터는 삭제하나, 증상의 경우 발열, 체중 등과 같은 내용이 중요하므로 숫자도 살려둔다.\n",
        "#train_symptom = [symptom for symptom in train_data['symptom'] if type(symptom) is (str or int or float)]"
      ],
      "execution_count": 219,
      "outputs": []
    },
    {
      "cell_type": "code",
      "metadata": {
        "id": "dm7YB7_foxpq"
      },
      "source": [
        "# DERM: 피부과 / GS: 외과 / IP: 호흡기내과 / FM: 가정의학과 / GI: 소화기내과 / OPH: 안과\n",
        "# NR: 신경과 / ENT: 이비인후과 / PSY : 신경정신과 / HEON: 혈액종양내과 / RHEU: 류마티스내과\n",
        "# REHM: 재활의학과 / NS: 신경외과 / AN: 마취통증의학과 / DENT: 치과 / PS: 성형외과\n",
        "# RAD: 영상의학과 / CS: 흉부외과 / INFC: 감염내과 / RAON: 방사선종양학과 / OS: 정형외과 \n",
        "# EMR: 응급의학과 / ENDO: 내분비내과 / CA: 순환기내과 / KTM: 한방과 / OBGY: 산부인과\n",
        "# URO: 비뇨기과 / ALL: 알레르기 내과 / NPH: 신장내과 / OEM:직업환경의학과 / COAN: 대장항문외과\n",
        "# LAB: 진단검사의학과 "
      ],
      "execution_count": 220,
      "outputs": []
    },
    {
      "cell_type": "code",
      "metadata": {
        "id": "xebYAPY8tVri",
        "colab": {
          "base_uri": "https://localhost:8080/",
          "height": 204
        },
        "outputId": "af8b4be6-534f-458e-a9a3-9c84bf1e9e17"
      },
      "source": [
        "# convert class from string to integer\n",
        "class_to_label = {'DERM': 0, 'GS': 1, 'IP': 2, 'GI':3, 'OPH':4,\n",
        "                  'NR': 5, 'ENT': 6, 'PSY': 7, 'HEON': 8, 'RHEU': 9,\n",
        "                  'REHM': 10, 'NS': 11, 'AN': 12, 'DENT': 13, 'PS': 14,\n",
        "                  'CS': 15, 'INFC': 16, 'OS': 17,\n",
        "                  'EMR': 18, 'ENDO': 19, 'CA': 20, 'KTM': 21, 'OBGY': 22,\n",
        "                  'URO': 23, 'ALL': 24, 'NPH': 25}\n",
        "all_data['label'] = all_data['class'].map(class_to_label)\n",
        "all_data.head()"
      ],
      "execution_count": 221,
      "outputs": [
        {
          "output_type": "execute_result",
          "data": {
            "text/html": [
              "<div>\n",
              "<style scoped>\n",
              "    .dataframe tbody tr th:only-of-type {\n",
              "        vertical-align: middle;\n",
              "    }\n",
              "\n",
              "    .dataframe tbody tr th {\n",
              "        vertical-align: top;\n",
              "    }\n",
              "\n",
              "    .dataframe thead th {\n",
              "        text-align: right;\n",
              "    }\n",
              "</style>\n",
              "<table border=\"1\" class=\"dataframe\">\n",
              "  <thead>\n",
              "    <tr style=\"text-align: right;\">\n",
              "      <th></th>\n",
              "      <th>symptom</th>\n",
              "      <th>class</th>\n",
              "      <th>label</th>\n",
              "    </tr>\n",
              "  </thead>\n",
              "  <tbody>\n",
              "    <tr>\n",
              "      <th>0</th>\n",
              "      <td>질문하겠습니다. 이어폰을 음량을 0으로 하고 끼고만 있어도 귀에 안 좋나요?</td>\n",
              "      <td>ENT</td>\n",
              "      <td>6</td>\n",
              "    </tr>\n",
              "    <tr>\n",
              "      <th>1</th>\n",
              "      <td>독감예방주사</td>\n",
              "      <td>IP</td>\n",
              "      <td>2</td>\n",
              "    </tr>\n",
              "    <tr>\n",
              "      <th>2</th>\n",
              "      <td>목에 음식물 그대로 끼어서 계속 이물감이 있습니다</td>\n",
              "      <td>ENT</td>\n",
              "      <td>6</td>\n",
              "    </tr>\n",
              "    <tr>\n",
              "      <th>3</th>\n",
              "      <td>케겔운동 궁금한것</td>\n",
              "      <td>REHM</td>\n",
              "      <td>10</td>\n",
              "    </tr>\n",
              "    <tr>\n",
              "      <th>4</th>\n",
              "      <td>등 통증 관련문의</td>\n",
              "      <td>NS</td>\n",
              "      <td>11</td>\n",
              "    </tr>\n",
              "  </tbody>\n",
              "</table>\n",
              "</div>"
            ],
            "text/plain": [
              "                                      symptom class  label\n",
              "0  질문하겠습니다. 이어폰을 음량을 0으로 하고 끼고만 있어도 귀에 안 좋나요?   ENT      6\n",
              "1                                      독감예방주사    IP      2\n",
              "2                 목에 음식물 그대로 끼어서 계속 이물감이 있습니다   ENT      6\n",
              "3                                   케겔운동 궁금한것  REHM     10\n",
              "4                                   등 통증 관련문의    NS     11"
            ]
          },
          "metadata": {
            "tags": []
          },
          "execution_count": 221
        }
      ]
    },
    {
      "cell_type": "markdown",
      "metadata": {
        "id": "hcAJvcUQOtt_"
      },
      "source": [
        "## 2. BERT를 이용한 fine tuning"
      ]
    },
    {
      "cell_type": "code",
      "metadata": {
        "id": "sSW5G8i_OANS",
        "colab": {
          "base_uri": "https://localhost:8080/"
        },
        "outputId": "fab4c9d8-cc04-47ee-fb54-990ae17d2009"
      },
      "source": [
        "# installing transforemrs\n",
        "!pip install transformers"
      ],
      "execution_count": 222,
      "outputs": [
        {
          "output_type": "stream",
          "text": [
            "Requirement already satisfied: transformers in /usr/local/lib/python3.6/dist-packages (4.1.1)\n",
            "Requirement already satisfied: dataclasses; python_version < \"3.7\" in /usr/local/lib/python3.6/dist-packages (from transformers) (0.8)\n",
            "Requirement already satisfied: filelock in /usr/local/lib/python3.6/dist-packages (from transformers) (3.0.12)\n",
            "Requirement already satisfied: tokenizers==0.9.4 in /usr/local/lib/python3.6/dist-packages (from transformers) (0.9.4)\n",
            "Requirement already satisfied: regex!=2019.12.17 in /usr/local/lib/python3.6/dist-packages (from transformers) (2019.12.20)\n",
            "Requirement already satisfied: packaging in /usr/local/lib/python3.6/dist-packages (from transformers) (20.8)\n",
            "Requirement already satisfied: sacremoses in /usr/local/lib/python3.6/dist-packages (from transformers) (0.0.43)\n",
            "Requirement already satisfied: tqdm>=4.27 in /usr/local/lib/python3.6/dist-packages (from transformers) (4.41.1)\n",
            "Requirement already satisfied: numpy in /usr/local/lib/python3.6/dist-packages (from transformers) (1.19.4)\n",
            "Requirement already satisfied: requests in /usr/local/lib/python3.6/dist-packages (from transformers) (2.23.0)\n",
            "Requirement already satisfied: pyparsing>=2.0.2 in /usr/local/lib/python3.6/dist-packages (from packaging->transformers) (2.4.7)\n",
            "Requirement already satisfied: joblib in /usr/local/lib/python3.6/dist-packages (from sacremoses->transformers) (1.0.0)\n",
            "Requirement already satisfied: click in /usr/local/lib/python3.6/dist-packages (from sacremoses->transformers) (7.1.2)\n",
            "Requirement already satisfied: six in /usr/local/lib/python3.6/dist-packages (from sacremoses->transformers) (1.15.0)\n",
            "Requirement already satisfied: urllib3!=1.25.0,!=1.25.1,<1.26,>=1.21.1 in /usr/local/lib/python3.6/dist-packages (from requests->transformers) (1.24.3)\n",
            "Requirement already satisfied: chardet<4,>=3.0.2 in /usr/local/lib/python3.6/dist-packages (from requests->transformers) (3.0.4)\n",
            "Requirement already satisfied: idna<3,>=2.5 in /usr/local/lib/python3.6/dist-packages (from requests->transformers) (2.10)\n",
            "Requirement already satisfied: certifi>=2017.4.17 in /usr/local/lib/python3.6/dist-packages (from requests->transformers) (2020.12.5)\n"
          ],
          "name": "stdout"
        }
      ]
    },
    {
      "cell_type": "code",
      "metadata": {
        "id": "_Ucx5zEiL_T4"
      },
      "source": [
        "import re\n",
        "from tqdm import tqdm\n",
        "\n",
        "import tensorflow as tf\n",
        "import tensorflow.keras as keras\n",
        "from transformers import *"
      ],
      "execution_count": 238,
      "outputs": []
    },
    {
      "cell_type": "code",
      "metadata": {
        "id": "zjeQkp1XL_UB"
      },
      "source": [
        "BATCH_SIZE = 32\r\n",
        "NUM_EPOCHS = 10\r\n",
        "MAX_LEN = 30 # EDA상 3사분위 수가 word수가 7이었다. token 갯수는 대략 30으로 가정해본다.\r\n",
        "DATA_OUT_PATH = '/content/drive/My Drive/Workspace/Meditact/data/'\r\n",
        "\r\n",
        "tokenizer = BertTokenizer.from_pretrained(\"bert-base-multilingual-cased\", cache_dir='bert_ckpt', do_lower_case=False)"
      ],
      "execution_count": 224,
      "outputs": []
    },
    {
      "cell_type": "markdown",
      "metadata": {
        "id": "AVA28X6_L_UE"
      },
      "source": [
        "### 토크나이저 테스트"
      ]
    },
    {
      "cell_type": "code",
      "metadata": {
        "id": "um3Uyw6sL_UF",
        "colab": {
          "base_uri": "https://localhost:8080/"
        },
        "outputId": "94d18e2b-9442-49d1-a748-de755ce5f369"
      },
      "source": [
        "test_sentence = \"안녕하세요, 반갑습니다.\"\n",
        "\n",
        "encode = tokenizer.encode(test_sentence)\n",
        "token_print = [tokenizer.decode(token) for token in encode]\n",
        "\n",
        "print(encode)\n",
        "print(token_print)"
      ],
      "execution_count": 225,
      "outputs": [
        {
          "output_type": "stream",
          "text": [
            "[101, 9521, 118741, 35506, 24982, 48549, 117, 9321, 118610, 119081, 48345, 119, 102]\n",
            "['[ C L S ]', '안', '# # 녕', '# # 하', '# # 세', '# # 요', ',', '반', '# # 갑', '# # 습', '# # 니 다', '.', '[ S E P ]']\n"
          ],
          "name": "stdout"
        }
      ]
    },
    {
      "cell_type": "code",
      "metadata": {
        "id": "Nhg3buN2L_UN",
        "colab": {
          "base_uri": "https://localhost:8080/"
        },
        "outputId": "727cdba2-ff61-45c0-8138-f4913f1419cc"
      },
      "source": [
        "# 스페셜 토큰\n",
        "print(tokenizer.all_special_tokens, \"\\n\", tokenizer.all_special_ids)\n",
        "\n",
        "# 토크나이저 테스트하기\n",
        "kor_encode = tokenizer.encode(\"안녕하세요, 반갑습니다. \")\n",
        "eng_encode = tokenizer.encode(\"Hello world\")\n",
        "\n",
        "kor_decode = tokenizer.decode(kor_encode)\n",
        "eng_decode = tokenizer.decode(eng_encode)\n",
        "\n",
        "print(kor_encode)\n",
        "print(eng_encode)\n",
        "print(kor_decode)\n",
        "print(eng_decode)"
      ],
      "execution_count": 226,
      "outputs": [
        {
          "output_type": "stream",
          "text": [
            "['[UNK]', '[SEP]', '[PAD]', '[CLS]', '[MASK]'] \n",
            " [100, 102, 0, 101, 103]\n",
            "[101, 9521, 118741, 35506, 24982, 48549, 117, 9321, 118610, 119081, 48345, 119, 102]\n",
            "[101, 31178, 11356, 102]\n",
            "[CLS] 안녕하세요, 반갑습니다. [SEP]\n",
            "[CLS] Hello world [SEP]\n"
          ],
          "name": "stdout"
        }
      ]
    },
    {
      "cell_type": "markdown",
      "metadata": {
        "id": "LADqGwjyL_UK"
      },
      "source": [
        "### Symptom to Specialty Classification (SSC)"
      ]
    },
    {
      "cell_type": "code",
      "metadata": {
        "id": "teTPLjiCL_UP"
      },
      "source": [
        "# Bert Tokenizer\n",
        "\n",
        "# 참조: https://huggingface.co/transformers/main_classes/tokenizer.html?highlight=encode_plus#transformers.PreTrainedTokenizer.encode_plus\n",
        "\n",
        "def bert_tokenizer(sent, MAX_LEN, truncation=True):\n",
        "    \n",
        "    encoded_dict = tokenizer.encode_plus(\n",
        "        text = sent,\n",
        "        add_special_tokens = True, # Add '[CLS]' and '[SEP]'\n",
        "        max_length = MAX_LEN,           # Pad & truncate all sentences.  \n",
        "        pad_to_max_length = True,\n",
        "        return_attention_mask = True,\n",
        "        truncation = True   # Construct attn. masks.\n",
        "        \n",
        "    )\n",
        "    \n",
        "    input_id = encoded_dict['input_ids']\n",
        "    attention_mask = encoded_dict['attention_mask'] # And its attention mask (simply differentiates padding from non-padding).\n",
        "    token_type_id = encoded_dict['token_type_ids'] # differentiate two sentences\n",
        "    \n",
        "    return input_id, attention_mask, token_type_id"
      ],
      "execution_count": 227,
      "outputs": []
    },
    {
      "cell_type": "code",
      "metadata": {
        "id": "YNYfpctLL_UR",
        "colab": {
          "base_uri": "https://localhost:8080/"
        },
        "outputId": "13e2d3cb-ba2e-4cc8-85fa-b0212bdfeca6"
      },
      "source": [
        "# all\n",
        "\n",
        "input_ids = []\n",
        "attention_masks = []\n",
        "token_type_ids = []\n",
        "all_data_labels = []\n",
        "\n",
        "for all_sent, all_label in tqdm(zip(all_data[\"symptom\"], all_data[\"label\"]), total=len(all_data)):\n",
        "    try:\n",
        "        input_id, attention_mask, token_type_id = bert_tokenizer(all_sent, MAX_LEN)\n",
        "        \n",
        "        input_ids.append(input_id)\n",
        "        attention_masks.append(attention_mask)\n",
        "        token_type_ids.append(token_type_id)\n",
        "        all_data_labels.append(all_label)\n",
        "\n",
        "    except Exception as e:\n",
        "        print(e)\n",
        "        print(all_sent)\n",
        "        pass\n",
        "\n",
        "all_symptom_input_ids = np.array(input_ids, dtype=int)\n",
        "all_symptom_attention_masks = np.array(attention_masks, dtype=int)\n",
        "all_symptom_type_ids = np.array(token_type_ids, dtype=int)\n",
        "all_symptom_inputs = (all_symptom_input_ids, all_symptom_attention_masks, all_symptom_type_ids)\n",
        "\n",
        "\n",
        "all_data_labels = np.asarray(all_data_labels, dtype=np.int32)\n",
        "### one-hot encoding\n",
        "all_data_labels = keras.utils.to_categorical(all_data_labels)\n",
        "\n",
        "print(\"# sents: {}, # labels: {}\".format(len(all_symptom_input_ids), len(all_data_labels)))"
      ],
      "execution_count": 239,
      "outputs": [
        {
          "output_type": "stream",
          "text": [
            "  0%|          | 0/51134 [00:00<?, ?it/s]/usr/local/lib/python3.6/dist-packages/transformers/tokenization_utils_base.py:2179: FutureWarning: The `pad_to_max_length` argument is deprecated and will be removed in a future version, use `padding=True` or `padding='longest'` to pad to the longest sequence in the batch, or use `padding='max_length'` to pad to a max length. In this case, you can give a specific length with `max_length` (e.g. `max_length=45`) or leave max_length to None to pad to the maximal input size of the model (e.g. 512 for Bert).\n",
            "  FutureWarning,\n",
            "100%|██████████| 51134/51134 [00:12<00:00, 4070.97it/s]\n"
          ],
          "name": "stderr"
        },
        {
          "output_type": "stream",
          "text": [
            "# sents: 51134, # labels: 51134\n"
          ],
          "name": "stdout"
        }
      ]
    },
    {
      "cell_type": "code",
      "metadata": {
        "colab": {
          "base_uri": "https://localhost:8080/"
        },
        "id": "KPlYgoHgsskr",
        "outputId": "8dbc041f-e6b0-486b-c04e-19eef88ab89d"
      },
      "source": [
        "## model_selection module에 맞는 배열로 변경\n",
        "arrayed_input = np.asarray(all_symptom_inputs)\n",
        "transposed_input = np.transpose(arrayed_input, (1,0,2))\n",
        "transposed_input.shape"
      ],
      "execution_count": 251,
      "outputs": [
        {
          "output_type": "execute_result",
          "data": {
            "text/plain": [
              "(51134, 3, 30)"
            ]
          },
          "metadata": {
            "tags": []
          },
          "execution_count": 251
        }
      ]
    },
    {
      "cell_type": "code",
      "metadata": {
        "id": "UZL3jOmDL_UT",
        "colab": {
          "base_uri": "https://localhost:8080/"
        },
        "outputId": "0fbc47d6-f6a6-4563-81d0-552713f1df3e"
      },
      "source": [
        "# 최대 길이: 30\n",
        "input_id = all_symptom_input_ids[1]\n",
        "attention_mask = all_symptom_attention_masks[1]\n",
        "token_type_id = all_symptom_type_ids[1]\n",
        "\n",
        "print(input_id)\n",
        "print(attention_mask)\n",
        "print(token_type_id)\n",
        "print(tokenizer.decode(input_id))"
      ],
      "execution_count": 252,
      "outputs": [
        {
          "output_type": "stream",
          "text": [
            "[   101   9088 105197  96279  42337  16323  12945    102      0      0\n",
            "      0      0      0      0      0      0      0      0      0      0\n",
            "      0      0      0      0      0      0      0      0      0      0]\n",
            "[1 1 1 1 1 1 1 1 0 0 0 0 0 0 0 0 0 0 0 0 0 0 0 0 0 0 0 0 0 0]\n",
            "[0 0 0 0 0 0 0 0 0 0 0 0 0 0 0 0 0 0 0 0 0 0 0 0 0 0 0 0 0 0]\n",
            "[CLS] 독감예방주사 [SEP] [PAD] [PAD] [PAD] [PAD] [PAD] [PAD] [PAD] [PAD] [PAD] [PAD] [PAD] [PAD] [PAD] [PAD] [PAD] [PAD] [PAD] [PAD] [PAD] [PAD] [PAD] [PAD]\n"
          ],
          "name": "stdout"
        }
      ]
    },
    {
      "cell_type": "code",
      "metadata": {
        "colab": {
          "base_uri": "https://localhost:8080/"
        },
        "id": "MXqm2toJsRnJ",
        "outputId": "9f1b40f6-fd21-4c91-a4b6-198a698be6c1"
      },
      "source": [
        "all_data_labels[1]"
      ],
      "execution_count": 253,
      "outputs": [
        {
          "output_type": "execute_result",
          "data": {
            "text/plain": [
              "array([0., 0., 1., 0., 0., 0., 0., 0., 0., 0., 0., 0., 0., 0., 0., 0., 0.,\n",
              "       0., 0., 0., 0., 0., 0., 0., 0., 0.], dtype=float32)"
            ]
          },
          "metadata": {
            "tags": []
          },
          "execution_count": 253
        }
      ]
    },
    {
      "cell_type": "code",
      "metadata": {
        "id": "eGFGLK7YL_UW"
      },
      "source": [
        "class TFBertClassifier(tf.keras.Model):\n",
        "    def __init__(self, model_name, dir_path, num_class):\n",
        "        super(TFBertClassifier, self).__init__()\n",
        "\n",
        "        self.bert = TFBertModel.from_pretrained(model_name, cache_dir=dir_path)\n",
        "        self.dropout = tf.keras.layers.Dropout(self.bert.config.hidden_dropout_prob)\n",
        "        self.classifier = tf.keras.layers.Dense(num_class, \n",
        "                                                kernel_initializer=tf.keras.initializers.TruncatedNormal(self.bert.config.initializer_range),\n",
        "                                                activation = 'softmax', ## softmax를 활성화함수로 추가함으로써 categoricalcrossentropy 계산이 가능하게 만들어줌.\n",
        "                                                name=\"classifier\")\n",
        "        \n",
        "    def call(self, inputs, attention_mask=None, token_type_ids=None, training=False): \n",
        "        ## split해서 다시 튜플로 만들기\n",
        "        s0, s1, s2 = tf.split(inputs, 3, axis=1)\n",
        "        inputs = all_symptom_input_ids, all_symptom_attention_masks, all_symptom_type_ids = s0[:,0,:], s1[:,0,:], s2[:,0,:]\n",
        "        outputs = self.bert(inputs, attention_mask=attention_mask, token_type_ids=token_type_ids)\n",
        "        pooled_output = outputs[1] \n",
        "        pooled_output = self.dropout(pooled_output, training=training)\n",
        "        logits = self.classifier(pooled_output)\n",
        "\n",
        "        return logits"
      ],
      "execution_count": 291,
      "outputs": []
    },
    {
      "cell_type": "code",
      "metadata": {
        "id": "ZXXxG5bSShlX"
      },
      "source": [
        "from keras import backend as K\r\n",
        "\r\n",
        "def recall_m(y_true, y_pred):\r\n",
        "    true_positives = K.sum(K.round(K.clip(y_true * y_pred, 0, 1)))\r\n",
        "    possible_positives = K.sum(K.round(K.clip(y_true, 0, 1)))\r\n",
        "    recall = true_positives / (possible_positives + K.epsilon())\r\n",
        "    return recall\r\n",
        "\r\n",
        "def precision_m(y_true, y_pred):\r\n",
        "    true_positives = K.sum(K.round(K.clip(y_true * y_pred, 0, 1)))\r\n",
        "    predicted_positives = K.sum(K.round(K.clip(y_pred, 0, 1)))\r\n",
        "    precision = true_positives / (predicted_positives + K.epsilon())\r\n",
        "    return precision\r\n",
        "\r\n",
        "def f1_m(y_true, y_pred):\r\n",
        "    precision = precision_m(y_true, y_pred)\r\n",
        "    recall = recall_m(y_true, y_pred)\r\n",
        "    return 2*((precision*recall)/(precision+recall+K.epsilon()))"
      ],
      "execution_count": 292,
      "outputs": []
    },
    {
      "cell_type": "code",
      "metadata": {
        "id": "X_CgxOwMXTbH"
      },
      "source": [
        "def create_model():\r\n",
        "    model = TFBertClassifier(model_name='bert-base-multilingual-cased',\r\n",
        "                                  dir_path='bert_ckpt',\r\n",
        "                                  num_class=num_classes)\r\n",
        "    optimizer = tf.keras.optimizers.Adam(5e-5)\r\n",
        "    loss = tf.keras.losses.CategoricalCrossentropy(from_logits=False)\r\n",
        "    model.compile(optimizer=optimizer, loss=loss, metrics=[f1_m, precision_m, recall_m, 'AUC'], experimental_run_tf_function=False)\r\n",
        "\r\n",
        "    return model\r\n",
        "    "
      ],
      "execution_count": 293,
      "outputs": []
    },
    {
      "cell_type": "code",
      "metadata": {
        "id": "5-d70Uwl0oi9"
      },
      "source": [
        "from sklearn import model_selection\n",
        "from keras.callbacks import EarlyStopping\n",
        "\n",
        "kfold = model_selection.KFold(n_splits=10, shuffle=True, random_state=1234)"
      ],
      "execution_count": 294,
      "outputs": []
    },
    {
      "cell_type": "code",
      "metadata": {
        "id": "uSEZBajzYIid",
        "colab": {
          "base_uri": "https://localhost:8080/"
        },
        "outputId": "725a3db8-74b2-488b-9b22-0ca96c2e1a64"
      },
      "source": [
        "fold_no = 1\r\n",
        "f1_per_fold = []\r\n",
        "precision_per_fold = []\r\n",
        "recall_per_fold = []\r\n",
        "auc_per_fold = []\r\n",
        "\r\n",
        "es = EarlyStopping(monitor='val_loss', min_delta=0.0001,patience=2)\r\n",
        "\r\n",
        "for train, test in kfold.split(transposed_input, all_data_labels):\r\n",
        "\r\n",
        "    # Define the model architecture\r\n",
        "    model = create_model()\r\n",
        "    # Generate a print\r\n",
        "    print('------------------------------------------------------------------------')\r\n",
        "    print(f'Training for fold {fold_no} ...')\r\n",
        "\r\n",
        "    # Fit data to model\r\n",
        "    history = model.fit(transposed_input[train], all_data_labels[train],\r\n",
        "                batch_size=100,\r\n",
        "                epochs=30,\r\n",
        "                verbose=1,\r\n",
        "                validation_data = (transposed_input[test], all_data_labels[test]),\r\n",
        "                callbacks=[es])\r\n",
        "    scores = model.evaluate(transposed_input[test], all_data_labels[test], verbose=1)\r\n",
        "    print(f'Score for fold {fold_no}:')\r\n",
        "    print('loss :', scores[0])\r\n",
        "    print('f1 score :', scores[1])\r\n",
        "    print('precision score :', scores[2])\r\n",
        "    print('recall score :', scores[3])\r\n",
        "    print('AUC score :', scores[4])\r\n",
        "    print('------------------------------------------------------------------------')\r\n",
        "\r\n",
        "    f1_per_fold.append(scores[1])\r\n",
        "    precision_per_fold.append(scores[2])\r\n",
        "    recall_per_fold.append(scores[3])\r\n",
        "    auc_per_fold.append(scores[4])\r\n",
        "    fold_no = fold_no + 1\r\n"
      ],
      "execution_count": 296,
      "outputs": [
        {
          "output_type": "stream",
          "text": [
            "Some layers from the model checkpoint at bert-base-multilingual-cased were not used when initializing TFBertModel: ['mlm___cls', 'nsp___cls']\n",
            "- This IS expected if you are initializing TFBertModel from the checkpoint of a model trained on another task or with another architecture (e.g. initializing a BertForSequenceClassification model from a BertForPreTraining model).\n",
            "- This IS NOT expected if you are initializing TFBertModel from the checkpoint of a model that you expect to be exactly identical (initializing a BertForSequenceClassification model from a BertForSequenceClassification model).\n",
            "All the layers of TFBertModel were initialized from the model checkpoint at bert-base-multilingual-cased.\n",
            "If your task is similar to the task the model of the checkpoint was trained on, you can already use TFBertModel for predictions without further training.\n",
            "The parameters `output_attentions`, `output_hidden_states` and `use_cache` cannot be updated when calling a model.They have to be set to True/False in the config object (i.e.: `config=XConfig.from_pretrained('name', output_attentions=True)`).\n",
            "The parameter `return_dict` cannot be set in graph mode and will always be set to `True`.\n"
          ],
          "name": "stderr"
        },
        {
          "output_type": "stream",
          "text": [
            "------------------------------------------------------------------------\n",
            "Training for fold 1 ...\n",
            "Epoch 1/30\n"
          ],
          "name": "stdout"
        },
        {
          "output_type": "stream",
          "text": [
            "The parameters `output_attentions`, `output_hidden_states` and `use_cache` cannot be updated when calling a model.They have to be set to True/False in the config object (i.e.: `config=XConfig.from_pretrained('name', output_attentions=True)`).\n",
            "The parameter `return_dict` cannot be set in graph mode and will always be set to `True`.\n"
          ],
          "name": "stderr"
        },
        {
          "output_type": "stream",
          "text": [
            "461/461 [==============================] - ETA: 0s - loss: 2.8115 - f1_m: 0.0000e+00 - precision_m: 0.0000e+00 - recall_m: 0.0000e+00 - auc: 0.7631"
          ],
          "name": "stdout"
        },
        {
          "output_type": "stream",
          "text": [
            "The parameters `output_attentions`, `output_hidden_states` and `use_cache` cannot be updated when calling a model.They have to be set to True/False in the config object (i.e.: `config=XConfig.from_pretrained('name', output_attentions=True)`).\n",
            "The parameter `return_dict` cannot be set in graph mode and will always be set to `True`.\n"
          ],
          "name": "stderr"
        },
        {
          "output_type": "stream",
          "text": [
            "\b\b\b\b\b\b\b\b\b\b\b\b\b\b\b\b\b\b\b\b\b\b\b\b\b\b\b\b\b\b\b\b\b\b\b\b\b\b\b\b\b\b\b\b\b\b\b\b\b\b\b\b\b\b\b\b\b\b\b\b\b\b\b\b\b\b\b\b\b\b\b\b\b\b\b\b\b\b\b\b\b\b\b\b\b\b\b\b\b\b\b\b\b\b\b\b\b\b\b\b\b\b\b\b\b\b\b\b\b\b\b\b\b\b\b\b\b\b\b\b\b\b\b\b\b\b\b\b\b\b\b\b\b\b\b\b\b\b\b\b\b\b\b\b\b\b\b\r461/461 [==============================] - 128s 240ms/step - loss: 2.8114 - f1_m: 0.0000e+00 - precision_m: 0.0000e+00 - recall_m: 0.0000e+00 - auc: 0.7631 - val_loss: 2.8003 - val_f1_m: 0.0000e+00 - val_precision_m: 0.0000e+00 - val_recall_m: 0.0000e+00 - val_auc: 0.7689\n",
            "Epoch 2/30\n",
            "461/461 [==============================] - 107s 233ms/step - loss: 2.7817 - f1_m: 4.2485e-04 - precision_m: 0.0061 - recall_m: 2.2935e-04 - auc: 0.7724 - val_loss: 2.7428 - val_f1_m: 0.0000e+00 - val_precision_m: 0.0000e+00 - val_recall_m: 0.0000e+00 - val_auc: 0.7849\n",
            "Epoch 3/30\n",
            "461/461 [==============================] - 108s 233ms/step - loss: 1.9649 - f1_m: 0.3323 - precision_m: 0.5887 - recall_m: 0.2543 - auc: 0.8897 - val_loss: 1.0864 - val_f1_m: 0.7011 - val_precision_m: 0.7873 - val_recall_m: 0.6337 - val_auc: 0.9627\n",
            "Epoch 4/30\n",
            "461/461 [==============================] - 108s 233ms/step - loss: 0.9702 - f1_m: 0.7223 - precision_m: 0.8229 - recall_m: 0.6447 - auc: 0.9706 - val_loss: 0.9641 - val_f1_m: 0.7280 - val_precision_m: 0.8008 - val_recall_m: 0.6686 - val_auc: 0.9685\n",
            "Epoch 5/30\n",
            "461/461 [==============================] - 108s 234ms/step - loss: 0.7587 - f1_m: 0.7817 - precision_m: 0.8488 - recall_m: 0.7250 - auc: 0.9813 - val_loss: 0.8855 - val_f1_m: 0.7566 - val_precision_m: 0.8163 - val_recall_m: 0.7062 - val_auc: 0.9718\n",
            "Epoch 6/30\n",
            "461/461 [==============================] - 107s 233ms/step - loss: 0.6226 - f1_m: 0.8147 - precision_m: 0.8685 - recall_m: 0.7677 - auc: 0.9872 - val_loss: 0.9025 - val_f1_m: 0.7600 - val_precision_m: 0.8049 - val_recall_m: 0.7210 - val_auc: 0.9684\n",
            "Epoch 7/30\n",
            "461/461 [==============================] - 107s 233ms/step - loss: 0.5088 - f1_m: 0.8458 - precision_m: 0.8875 - recall_m: 0.8083 - auc: 0.9907 - val_loss: 0.9078 - val_f1_m: 0.7650 - val_precision_m: 0.8051 - val_recall_m: 0.7293 - val_auc: 0.9663\n",
            "160/160 [==============================] - 7s 44ms/step - loss: 0.9078 - f1_m: 0.7659 - precision_m: 0.8065 - recall_m: 0.7307 - auc: 0.9663\n",
            "Score for fold 1:\n",
            "loss : 0.907843828201294\n",
            "f1 score : 0.7659469842910767\n",
            "precision score : 0.806542694568634\n",
            "recall score : 0.730739176273346\n",
            "AUC score : 0.9662802815437317\n",
            "------------------------------------------------------------------------\n"
          ],
          "name": "stdout"
        },
        {
          "output_type": "stream",
          "text": [
            "Some layers from the model checkpoint at bert-base-multilingual-cased were not used when initializing TFBertModel: ['mlm___cls', 'nsp___cls']\n",
            "- This IS expected if you are initializing TFBertModel from the checkpoint of a model trained on another task or with another architecture (e.g. initializing a BertForSequenceClassification model from a BertForPreTraining model).\n",
            "- This IS NOT expected if you are initializing TFBertModel from the checkpoint of a model that you expect to be exactly identical (initializing a BertForSequenceClassification model from a BertForSequenceClassification model).\n",
            "All the layers of TFBertModel were initialized from the model checkpoint at bert-base-multilingual-cased.\n",
            "If your task is similar to the task the model of the checkpoint was trained on, you can already use TFBertModel for predictions without further training.\n",
            "The parameters `output_attentions`, `output_hidden_states` and `use_cache` cannot be updated when calling a model.They have to be set to True/False in the config object (i.e.: `config=XConfig.from_pretrained('name', output_attentions=True)`).\n",
            "The parameter `return_dict` cannot be set in graph mode and will always be set to `True`.\n"
          ],
          "name": "stderr"
        },
        {
          "output_type": "stream",
          "text": [
            "------------------------------------------------------------------------\n",
            "Training for fold 2 ...\n",
            "Epoch 1/30\n"
          ],
          "name": "stdout"
        },
        {
          "output_type": "stream",
          "text": [
            "The parameters `output_attentions`, `output_hidden_states` and `use_cache` cannot be updated when calling a model.They have to be set to True/False in the config object (i.e.: `config=XConfig.from_pretrained('name', output_attentions=True)`).\n",
            "The parameter `return_dict` cannot be set in graph mode and will always be set to `True`.\n"
          ],
          "name": "stderr"
        },
        {
          "output_type": "stream",
          "text": [
            "461/461 [==============================] - ETA: 0s - loss: 1.9466 - f1_m: 0.3697 - precision_m: 0.5966 - recall_m: 0.2880 - auc: 0.8838"
          ],
          "name": "stdout"
        },
        {
          "output_type": "stream",
          "text": [
            "The parameters `output_attentions`, `output_hidden_states` and `use_cache` cannot be updated when calling a model.They have to be set to True/False in the config object (i.e.: `config=XConfig.from_pretrained('name', output_attentions=True)`).\n",
            "The parameter `return_dict` cannot be set in graph mode and will always be set to `True`.\n"
          ],
          "name": "stderr"
        },
        {
          "output_type": "stream",
          "text": [
            "\b\b\b\b\b\b\b\b\b\b\b\b\b\b\b\b\b\b\b\b\b\b\b\b\b\b\b\b\b\b\b\b\b\b\b\b\b\b\b\b\b\b\b\b\b\b\b\b\b\b\b\b\b\b\b\b\b\b\b\b\b\b\b\b\b\b\b\b\b\b\b\b\b\b\b\b\b\b\b\b\b\b\b\b\b\b\b\b\b\b\b\b\b\b\b\b\b\b\b\b\b\b\b\b\b\b\b\b\b\b\b\b\b\b\b\b\b\b\b\b\b\b\b\b\b\b\b\b\b\b\b\b\b\b\b\r461/461 [==============================] - 128s 240ms/step - loss: 1.9456 - f1_m: 0.3701 - precision_m: 0.5969 - recall_m: 0.2884 - auc: 0.8839 - val_loss: 0.9867 - val_f1_m: 0.7345 - val_precision_m: 0.8017 - val_recall_m: 0.6791 - val_auc: 0.9672\n",
            "Epoch 2/30\n",
            "461/461 [==============================] - 107s 233ms/step - loss: 0.9245 - f1_m: 0.7403 - precision_m: 0.8336 - recall_m: 0.6669 - auc: 0.9737 - val_loss: 0.9116 - val_f1_m: 0.7469 - val_precision_m: 0.8137 - val_recall_m: 0.6918 - val_auc: 0.9715\n",
            "Epoch 3/30\n",
            "461/461 [==============================] - 107s 233ms/step - loss: 0.6992 - f1_m: 0.7972 - precision_m: 0.8588 - recall_m: 0.7445 - auc: 0.9834 - val_loss: 0.8840 - val_f1_m: 0.7621 - val_precision_m: 0.8158 - val_recall_m: 0.7160 - val_auc: 0.9704\n",
            "Epoch 4/30\n",
            "461/461 [==============================] - 108s 234ms/step - loss: 0.5835 - f1_m: 0.8273 - precision_m: 0.8757 - recall_m: 0.7845 - auc: 0.9879 - val_loss: 0.8838 - val_f1_m: 0.7712 - val_precision_m: 0.8097 - val_recall_m: 0.7370 - val_auc: 0.9669\n",
            "Epoch 5/30\n",
            "461/461 [==============================] - 107s 233ms/step - loss: 0.4774 - f1_m: 0.8542 - precision_m: 0.8910 - recall_m: 0.8207 - auc: 0.9915 - val_loss: 0.8933 - val_f1_m: 0.7748 - val_precision_m: 0.8103 - val_recall_m: 0.7428 - val_auc: 0.9666\n",
            "Epoch 6/30\n",
            "461/461 [==============================] - 107s 233ms/step - loss: 0.3875 - f1_m: 0.8813 - precision_m: 0.9072 - recall_m: 0.8570 - auc: 0.9939 - val_loss: 0.9549 - val_f1_m: 0.7675 - val_precision_m: 0.8005 - val_recall_m: 0.7380 - val_auc: 0.9613\n",
            "160/160 [==============================] - 7s 43ms/step - loss: 0.9549 - f1_m: 0.7652 - precision_m: 0.7969 - recall_m: 0.7373 - auc: 0.9613\n",
            "Score for fold 2:\n",
            "loss : 0.9549314975738525\n",
            "f1 score : 0.7652348279953003\n",
            "precision score : 0.7968573570251465\n",
            "recall score : 0.7372746467590332\n",
            "AUC score : 0.9613082408905029\n",
            "------------------------------------------------------------------------\n"
          ],
          "name": "stdout"
        },
        {
          "output_type": "stream",
          "text": [
            "Some layers from the model checkpoint at bert-base-multilingual-cased were not used when initializing TFBertModel: ['mlm___cls', 'nsp___cls']\n",
            "- This IS expected if you are initializing TFBertModel from the checkpoint of a model trained on another task or with another architecture (e.g. initializing a BertForSequenceClassification model from a BertForPreTraining model).\n",
            "- This IS NOT expected if you are initializing TFBertModel from the checkpoint of a model that you expect to be exactly identical (initializing a BertForSequenceClassification model from a BertForSequenceClassification model).\n",
            "All the layers of TFBertModel were initialized from the model checkpoint at bert-base-multilingual-cased.\n",
            "If your task is similar to the task the model of the checkpoint was trained on, you can already use TFBertModel for predictions without further training.\n",
            "The parameters `output_attentions`, `output_hidden_states` and `use_cache` cannot be updated when calling a model.They have to be set to True/False in the config object (i.e.: `config=XConfig.from_pretrained('name', output_attentions=True)`).\n",
            "The parameter `return_dict` cannot be set in graph mode and will always be set to `True`.\n"
          ],
          "name": "stderr"
        },
        {
          "output_type": "stream",
          "text": [
            "------------------------------------------------------------------------\n",
            "Training for fold 3 ...\n",
            "Epoch 1/30\n"
          ],
          "name": "stdout"
        },
        {
          "output_type": "stream",
          "text": [
            "The parameters `output_attentions`, `output_hidden_states` and `use_cache` cannot be updated when calling a model.They have to be set to True/False in the config object (i.e.: `config=XConfig.from_pretrained('name', output_attentions=True)`).\n",
            "The parameter `return_dict` cannot be set in graph mode and will always be set to `True`.\n"
          ],
          "name": "stderr"
        },
        {
          "output_type": "stream",
          "text": [
            "461/461 [==============================] - ETA: 0s - loss: 2.0213 - f1_m: 0.3446 - precision_m: 0.5597 - recall_m: 0.2677 - auc: 0.8737"
          ],
          "name": "stdout"
        },
        {
          "output_type": "stream",
          "text": [
            "The parameters `output_attentions`, `output_hidden_states` and `use_cache` cannot be updated when calling a model.They have to be set to True/False in the config object (i.e.: `config=XConfig.from_pretrained('name', output_attentions=True)`).\n",
            "The parameter `return_dict` cannot be set in graph mode and will always be set to `True`.\n"
          ],
          "name": "stderr"
        },
        {
          "output_type": "stream",
          "text": [
            "\b\b\b\b\b\b\b\b\b\b\b\b\b\b\b\b\b\b\b\b\b\b\b\b\b\b\b\b\b\b\b\b\b\b\b\b\b\b\b\b\b\b\b\b\b\b\b\b\b\b\b\b\b\b\b\b\b\b\b\b\b\b\b\b\b\b\b\b\b\b\b\b\b\b\b\b\b\b\b\b\b\b\b\b\b\b\b\b\b\b\b\b\b\b\b\b\b\b\b\b\b\b\b\b\b\b\b\b\b\b\b\b\b\b\b\b\b\b\b\b\b\b\b\b\b\b\b\b\b\b\b\b\b\b\b\r461/461 [==============================] - 127s 242ms/step - loss: 2.0202 - f1_m: 0.3450 - precision_m: 0.5601 - recall_m: 0.2681 - auc: 0.8738 - val_loss: 1.0345 - val_f1_m: 0.7240 - val_precision_m: 0.8066 - val_recall_m: 0.6585 - val_auc: 0.9632\n",
            "Epoch 2/30\n",
            "461/461 [==============================] - 107s 233ms/step - loss: 0.9421 - f1_m: 0.7375 - precision_m: 0.8275 - recall_m: 0.6659 - auc: 0.9724 - val_loss: 0.9092 - val_f1_m: 0.7478 - val_precision_m: 0.8197 - val_recall_m: 0.6889 - val_auc: 0.9715\n",
            "Epoch 3/30\n",
            "461/461 [==============================] - 108s 234ms/step - loss: 0.7213 - f1_m: 0.7909 - precision_m: 0.8540 - recall_m: 0.7371 - auc: 0.9833 - val_loss: 0.8941 - val_f1_m: 0.7593 - val_precision_m: 0.8064 - val_recall_m: 0.7179 - val_auc: 0.9708\n",
            "Epoch 4/30\n",
            "461/461 [==============================] - 107s 233ms/step - loss: 0.5967 - f1_m: 0.8243 - precision_m: 0.8715 - recall_m: 0.7823 - auc: 0.9874 - val_loss: 0.8893 - val_f1_m: 0.7664 - val_precision_m: 0.8056 - val_recall_m: 0.7314 - val_auc: 0.9686\n",
            "Epoch 5/30\n",
            "461/461 [==============================] - 107s 233ms/step - loss: 0.4892 - f1_m: 0.8521 - precision_m: 0.8887 - recall_m: 0.8188 - auc: 0.9907 - val_loss: 0.8818 - val_f1_m: 0.7718 - val_precision_m: 0.8042 - val_recall_m: 0.7425 - val_auc: 0.9676\n",
            "Epoch 6/30\n",
            "461/461 [==============================] - 108s 233ms/step - loss: 0.4090 - f1_m: 0.8745 - precision_m: 0.9027 - recall_m: 0.8483 - auc: 0.9934 - val_loss: 0.9531 - val_f1_m: 0.7656 - val_precision_m: 0.7942 - val_recall_m: 0.7395 - val_auc: 0.9619\n",
            "Epoch 7/30\n",
            "461/461 [==============================] - 107s 233ms/step - loss: 0.3343 - f1_m: 0.8960 - precision_m: 0.9179 - recall_m: 0.8753 - auc: 0.9952 - val_loss: 0.9740 - val_f1_m: 0.7668 - val_precision_m: 0.7902 - val_recall_m: 0.7451 - val_auc: 0.9602\n",
            "160/160 [==============================] - 7s 44ms/step - loss: 0.9740 - f1_m: 0.7677 - precision_m: 0.7906 - recall_m: 0.7468 - auc: 0.9602\n",
            "Score for fold 3:\n",
            "loss : 0.9739838242530823\n",
            "f1 score : 0.7676792740821838\n",
            "precision score : 0.7905973196029663\n",
            "recall score : 0.746799886226654\n",
            "AUC score : 0.960239589214325\n",
            "------------------------------------------------------------------------\n"
          ],
          "name": "stdout"
        },
        {
          "output_type": "stream",
          "text": [
            "Some layers from the model checkpoint at bert-base-multilingual-cased were not used when initializing TFBertModel: ['mlm___cls', 'nsp___cls']\n",
            "- This IS expected if you are initializing TFBertModel from the checkpoint of a model trained on another task or with another architecture (e.g. initializing a BertForSequenceClassification model from a BertForPreTraining model).\n",
            "- This IS NOT expected if you are initializing TFBertModel from the checkpoint of a model that you expect to be exactly identical (initializing a BertForSequenceClassification model from a BertForSequenceClassification model).\n",
            "All the layers of TFBertModel were initialized from the model checkpoint at bert-base-multilingual-cased.\n",
            "If your task is similar to the task the model of the checkpoint was trained on, you can already use TFBertModel for predictions without further training.\n",
            "The parameters `output_attentions`, `output_hidden_states` and `use_cache` cannot be updated when calling a model.They have to be set to True/False in the config object (i.e.: `config=XConfig.from_pretrained('name', output_attentions=True)`).\n",
            "The parameter `return_dict` cannot be set in graph mode and will always be set to `True`.\n"
          ],
          "name": "stderr"
        },
        {
          "output_type": "stream",
          "text": [
            "------------------------------------------------------------------------\n",
            "Training for fold 4 ...\n",
            "Epoch 1/30\n"
          ],
          "name": "stdout"
        },
        {
          "output_type": "stream",
          "text": [
            "The parameters `output_attentions`, `output_hidden_states` and `use_cache` cannot be updated when calling a model.They have to be set to True/False in the config object (i.e.: `config=XConfig.from_pretrained('name', output_attentions=True)`).\n",
            "The parameter `return_dict` cannot be set in graph mode and will always be set to `True`.\n"
          ],
          "name": "stderr"
        },
        {
          "output_type": "stream",
          "text": [
            "461/461 [==============================] - ETA: 0s - loss: 2.0242 - f1_m: 0.3473 - precision_m: 0.5791 - recall_m: 0.2688 - auc: 0.8729"
          ],
          "name": "stdout"
        },
        {
          "output_type": "stream",
          "text": [
            "The parameters `output_attentions`, `output_hidden_states` and `use_cache` cannot be updated when calling a model.They have to be set to True/False in the config object (i.e.: `config=XConfig.from_pretrained('name', output_attentions=True)`).\n",
            "The parameter `return_dict` cannot be set in graph mode and will always be set to `True`.\n"
          ],
          "name": "stderr"
        },
        {
          "output_type": "stream",
          "text": [
            "\b\b\b\b\b\b\b\b\b\b\b\b\b\b\b\b\b\b\b\b\b\b\b\b\b\b\b\b\b\b\b\b\b\b\b\b\b\b\b\b\b\b\b\b\b\b\b\b\b\b\b\b\b\b\b\b\b\b\b\b\b\b\b\b\b\b\b\b\b\b\b\b\b\b\b\b\b\b\b\b\b\b\b\b\b\b\b\b\b\b\b\b\b\b\b\b\b\b\b\b\b\b\b\b\b\b\b\b\b\b\b\b\b\b\b\b\b\b\b\b\b\b\b\b\b\b\b\b\b\b\b\b\b\b\b\r461/461 [==============================] - 128s 242ms/step - loss: 2.0231 - f1_m: 0.3477 - precision_m: 0.5795 - recall_m: 0.2691 - auc: 0.8730 - val_loss: 1.0313 - val_f1_m: 0.7206 - val_precision_m: 0.7906 - val_recall_m: 0.6634 - val_auc: 0.9662\n",
            "Epoch 2/30\n",
            "461/461 [==============================] - 108s 233ms/step - loss: 0.9199 - f1_m: 0.7448 - precision_m: 0.8370 - recall_m: 0.6716 - auc: 0.9733 - val_loss: 0.9116 - val_f1_m: 0.7549 - val_precision_m: 0.8082 - val_recall_m: 0.7093 - val_auc: 0.9695\n",
            "Epoch 3/30\n",
            "461/461 [==============================] - 107s 233ms/step - loss: 0.7188 - f1_m: 0.7941 - precision_m: 0.8577 - recall_m: 0.7399 - auc: 0.9827 - val_loss: 0.8871 - val_f1_m: 0.7619 - val_precision_m: 0.8096 - val_recall_m: 0.7205 - val_auc: 0.9707\n",
            "Epoch 4/30\n",
            "461/461 [==============================] - 107s 232ms/step - loss: 0.5857 - f1_m: 0.8284 - precision_m: 0.8760 - recall_m: 0.7862 - auc: 0.9875 - val_loss: 0.8836 - val_f1_m: 0.7621 - val_precision_m: 0.8008 - val_recall_m: 0.7276 - val_auc: 0.9706\n",
            "Epoch 5/30\n",
            "461/461 [==============================] - 107s 233ms/step - loss: 0.4793 - f1_m: 0.8560 - precision_m: 0.8920 - recall_m: 0.8233 - auc: 0.9913 - val_loss: 0.9149 - val_f1_m: 0.7574 - val_precision_m: 0.7953 - val_recall_m: 0.7236 - val_auc: 0.9676\n",
            "Epoch 6/30\n",
            "461/461 [==============================] - 107s 233ms/step - loss: 0.3889 - f1_m: 0.8837 - precision_m: 0.9110 - recall_m: 0.8583 - auc: 0.9933 - val_loss: 0.9548 - val_f1_m: 0.7700 - val_precision_m: 0.7939 - val_recall_m: 0.7478 - val_auc: 0.9620\n",
            "160/160 [==============================] - 7s 44ms/step - loss: 0.9548 - f1_m: 0.7688 - precision_m: 0.7927 - recall_m: 0.7471 - auc: 0.9620\n",
            "Score for fold 4:\n",
            "loss : 0.9547560811042786\n",
            "f1 score : 0.7687845826148987\n",
            "precision score : 0.7927215099334717\n",
            "recall score : 0.747145414352417\n",
            "AUC score : 0.9619508981704712\n",
            "------------------------------------------------------------------------\n"
          ],
          "name": "stdout"
        },
        {
          "output_type": "stream",
          "text": [
            "Some layers from the model checkpoint at bert-base-multilingual-cased were not used when initializing TFBertModel: ['mlm___cls', 'nsp___cls']\n",
            "- This IS expected if you are initializing TFBertModel from the checkpoint of a model trained on another task or with another architecture (e.g. initializing a BertForSequenceClassification model from a BertForPreTraining model).\n",
            "- This IS NOT expected if you are initializing TFBertModel from the checkpoint of a model that you expect to be exactly identical (initializing a BertForSequenceClassification model from a BertForSequenceClassification model).\n",
            "All the layers of TFBertModel were initialized from the model checkpoint at bert-base-multilingual-cased.\n",
            "If your task is similar to the task the model of the checkpoint was trained on, you can already use TFBertModel for predictions without further training.\n",
            "The parameters `output_attentions`, `output_hidden_states` and `use_cache` cannot be updated when calling a model.They have to be set to True/False in the config object (i.e.: `config=XConfig.from_pretrained('name', output_attentions=True)`).\n",
            "The parameter `return_dict` cannot be set in graph mode and will always be set to `True`.\n"
          ],
          "name": "stderr"
        },
        {
          "output_type": "stream",
          "text": [
            "------------------------------------------------------------------------\n",
            "Training for fold 5 ...\n",
            "Epoch 1/30\n"
          ],
          "name": "stdout"
        },
        {
          "output_type": "stream",
          "text": [
            "The parameters `output_attentions`, `output_hidden_states` and `use_cache` cannot be updated when calling a model.They have to be set to True/False in the config object (i.e.: `config=XConfig.from_pretrained('name', output_attentions=True)`).\n",
            "The parameter `return_dict` cannot be set in graph mode and will always be set to `True`.\n"
          ],
          "name": "stderr"
        },
        {
          "output_type": "stream",
          "text": [
            "461/461 [==============================] - ETA: 0s - loss: 2.0107 - f1_m: 0.3461 - precision_m: 0.5740 - recall_m: 0.2681 - auc: 0.8761"
          ],
          "name": "stdout"
        },
        {
          "output_type": "stream",
          "text": [
            "The parameters `output_attentions`, `output_hidden_states` and `use_cache` cannot be updated when calling a model.They have to be set to True/False in the config object (i.e.: `config=XConfig.from_pretrained('name', output_attentions=True)`).\n",
            "The parameter `return_dict` cannot be set in graph mode and will always be set to `True`.\n"
          ],
          "name": "stderr"
        },
        {
          "output_type": "stream",
          "text": [
            "\b\b\b\b\b\b\b\b\b\b\b\b\b\b\b\b\b\b\b\b\b\b\b\b\b\b\b\b\b\b\b\b\b\b\b\b\b\b\b\b\b\b\b\b\b\b\b\b\b\b\b\b\b\b\b\b\b\b\b\b\b\b\b\b\b\b\b\b\b\b\b\b\b\b\b\b\b\b\b\b\b\b\b\b\b\b\b\b\b\b\b\b\b\b\b\b\b\b\b\b\b\b\b\b\b\b\b\b\b\b\b\b\b\b\b\b\b\b\b\b\b\b\b\b\b\b\b\b\b\b\b\b\b\b\b\r461/461 [==============================] - 128s 240ms/step - loss: 2.0097 - f1_m: 0.3465 - precision_m: 0.5744 - recall_m: 0.2685 - auc: 0.8763 - val_loss: 1.0432 - val_f1_m: 0.7163 - val_precision_m: 0.7924 - val_recall_m: 0.6554 - val_auc: 0.9651\n",
            "Epoch 2/30\n",
            "461/461 [==============================] - 107s 233ms/step - loss: 0.9263 - f1_m: 0.7383 - precision_m: 0.8311 - recall_m: 0.6650 - auc: 0.9732 - val_loss: 0.9128 - val_f1_m: 0.7430 - val_precision_m: 0.7966 - val_recall_m: 0.6979 - val_auc: 0.9702\n",
            "Epoch 3/30\n",
            "461/461 [==============================] - 107s 233ms/step - loss: 0.7161 - f1_m: 0.7948 - precision_m: 0.8580 - recall_m: 0.7408 - auc: 0.9828 - val_loss: 0.8938 - val_f1_m: 0.7628 - val_precision_m: 0.8071 - val_recall_m: 0.7244 - val_auc: 0.9698\n",
            "Epoch 4/30\n",
            "461/461 [==============================] - 107s 233ms/step - loss: 0.5796 - f1_m: 0.8285 - precision_m: 0.8764 - recall_m: 0.7860 - auc: 0.9879 - val_loss: 0.9039 - val_f1_m: 0.7690 - val_precision_m: 0.8063 - val_recall_m: 0.7357 - val_auc: 0.9660\n",
            "Epoch 5/30\n",
            "461/461 [==============================] - 107s 233ms/step - loss: 0.4797 - f1_m: 0.8559 - precision_m: 0.8924 - recall_m: 0.8227 - auc: 0.9913 - val_loss: 0.9209 - val_f1_m: 0.7667 - val_precision_m: 0.8041 - val_recall_m: 0.7334 - val_auc: 0.9658\n",
            "160/160 [==============================] - 7s 44ms/step - loss: 0.9209 - f1_m: 0.7686 - precision_m: 0.8066 - recall_m: 0.7354 - auc: 0.9658\n",
            "Score for fold 5:\n",
            "loss : 0.9208927750587463\n",
            "f1 score : 0.7685681581497192\n",
            "precision score : 0.8066062927246094\n",
            "recall score : 0.7353593707084656\n",
            "AUC score : 0.9658164978027344\n",
            "------------------------------------------------------------------------\n"
          ],
          "name": "stdout"
        },
        {
          "output_type": "stream",
          "text": [
            "Some layers from the model checkpoint at bert-base-multilingual-cased were not used when initializing TFBertModel: ['mlm___cls', 'nsp___cls']\n",
            "- This IS expected if you are initializing TFBertModel from the checkpoint of a model trained on another task or with another architecture (e.g. initializing a BertForSequenceClassification model from a BertForPreTraining model).\n",
            "- This IS NOT expected if you are initializing TFBertModel from the checkpoint of a model that you expect to be exactly identical (initializing a BertForSequenceClassification model from a BertForSequenceClassification model).\n",
            "All the layers of TFBertModel were initialized from the model checkpoint at bert-base-multilingual-cased.\n",
            "If your task is similar to the task the model of the checkpoint was trained on, you can already use TFBertModel for predictions without further training.\n",
            "The parameters `output_attentions`, `output_hidden_states` and `use_cache` cannot be updated when calling a model.They have to be set to True/False in the config object (i.e.: `config=XConfig.from_pretrained('name', output_attentions=True)`).\n",
            "The parameter `return_dict` cannot be set in graph mode and will always be set to `True`.\n"
          ],
          "name": "stderr"
        },
        {
          "output_type": "stream",
          "text": [
            "------------------------------------------------------------------------\n",
            "Training for fold 6 ...\n",
            "Epoch 1/30\n"
          ],
          "name": "stdout"
        },
        {
          "output_type": "stream",
          "text": [
            "The parameters `output_attentions`, `output_hidden_states` and `use_cache` cannot be updated when calling a model.They have to be set to True/False in the config object (i.e.: `config=XConfig.from_pretrained('name', output_attentions=True)`).\n",
            "The parameter `return_dict` cannot be set in graph mode and will always be set to `True`.\n"
          ],
          "name": "stderr"
        },
        {
          "output_type": "stream",
          "text": [
            "461/461 [==============================] - ETA: 0s - loss: 1.9663 - f1_m: 0.3600 - precision_m: 0.5714 - recall_m: 0.2831 - auc: 0.8807"
          ],
          "name": "stdout"
        },
        {
          "output_type": "stream",
          "text": [
            "The parameters `output_attentions`, `output_hidden_states` and `use_cache` cannot be updated when calling a model.They have to be set to True/False in the config object (i.e.: `config=XConfig.from_pretrained('name', output_attentions=True)`).\n",
            "The parameter `return_dict` cannot be set in graph mode and will always be set to `True`.\n"
          ],
          "name": "stderr"
        },
        {
          "output_type": "stream",
          "text": [
            "\b\b\b\b\b\b\b\b\b\b\b\b\b\b\b\b\b\b\b\b\b\b\b\b\b\b\b\b\b\b\b\b\b\b\b\b\b\b\b\b\b\b\b\b\b\b\b\b\b\b\b\b\b\b\b\b\b\b\b\b\b\b\b\b\b\b\b\b\b\b\b\b\b\b\b\b\b\b\b\b\b\b\b\b\b\b\b\b\b\b\b\b\b\b\b\b\b\b\b\b\b\b\b\b\b\b\b\b\b\b\b\b\b\b\b\b\b\b\b\b\b\b\b\b\b\b\b\b\b\b\b\b\b\b\b\r461/461 [==============================] - 129s 241ms/step - loss: 1.9653 - f1_m: 0.3604 - precision_m: 0.5718 - recall_m: 0.2835 - auc: 0.8809 - val_loss: 0.9847 - val_f1_m: 0.7335 - val_precision_m: 0.8131 - val_recall_m: 0.6708 - val_auc: 0.9680\n",
            "Epoch 2/30\n",
            "461/461 [==============================] - 107s 233ms/step - loss: 0.8846 - f1_m: 0.7500 - precision_m: 0.8384 - recall_m: 0.6792 - auc: 0.9752 - val_loss: 0.8605 - val_f1_m: 0.7610 - val_precision_m: 0.8221 - val_recall_m: 0.7097 - val_auc: 0.9746\n",
            "Epoch 3/30\n",
            "461/461 [==============================] - 107s 233ms/step - loss: 0.6937 - f1_m: 0.7991 - precision_m: 0.8613 - recall_m: 0.7459 - auc: 0.9837 - val_loss: 0.8597 - val_f1_m: 0.7692 - val_precision_m: 0.8172 - val_recall_m: 0.7278 - val_auc: 0.9733\n",
            "Epoch 4/30\n",
            "461/461 [==============================] - 107s 233ms/step - loss: 0.5602 - f1_m: 0.8326 - precision_m: 0.8793 - recall_m: 0.7910 - auc: 0.9891 - val_loss: 0.8755 - val_f1_m: 0.7728 - val_precision_m: 0.8138 - val_recall_m: 0.7365 - val_auc: 0.9700\n",
            "Epoch 5/30\n",
            "461/461 [==============================] - 108s 233ms/step - loss: 0.4524 - f1_m: 0.8605 - precision_m: 0.8959 - recall_m: 0.8282 - auc: 0.9923 - val_loss: 0.9190 - val_f1_m: 0.7680 - val_precision_m: 0.8022 - val_recall_m: 0.7371 - val_auc: 0.9658\n",
            "160/160 [==============================] - 7s 44ms/step - loss: 0.9190 - f1_m: 0.7678 - precision_m: 0.8029 - recall_m: 0.7368 - auc: 0.9658\n",
            "Score for fold 6:\n",
            "loss : 0.9189839959144592\n",
            "f1 score : 0.7677820324897766\n",
            "precision score : 0.8029025197029114\n",
            "recall score : 0.7367500066757202\n",
            "AUC score : 0.9657810926437378\n",
            "------------------------------------------------------------------------\n"
          ],
          "name": "stdout"
        },
        {
          "output_type": "stream",
          "text": [
            "Some layers from the model checkpoint at bert-base-multilingual-cased were not used when initializing TFBertModel: ['mlm___cls', 'nsp___cls']\n",
            "- This IS expected if you are initializing TFBertModel from the checkpoint of a model trained on another task or with another architecture (e.g. initializing a BertForSequenceClassification model from a BertForPreTraining model).\n",
            "- This IS NOT expected if you are initializing TFBertModel from the checkpoint of a model that you expect to be exactly identical (initializing a BertForSequenceClassification model from a BertForSequenceClassification model).\n",
            "All the layers of TFBertModel were initialized from the model checkpoint at bert-base-multilingual-cased.\n",
            "If your task is similar to the task the model of the checkpoint was trained on, you can already use TFBertModel for predictions without further training.\n",
            "The parameters `output_attentions`, `output_hidden_states` and `use_cache` cannot be updated when calling a model.They have to be set to True/False in the config object (i.e.: `config=XConfig.from_pretrained('name', output_attentions=True)`).\n",
            "The parameter `return_dict` cannot be set in graph mode and will always be set to `True`.\n"
          ],
          "name": "stderr"
        },
        {
          "output_type": "stream",
          "text": [
            "------------------------------------------------------------------------\n",
            "Training for fold 7 ...\n",
            "Epoch 1/30\n"
          ],
          "name": "stdout"
        },
        {
          "output_type": "stream",
          "text": [
            "The parameters `output_attentions`, `output_hidden_states` and `use_cache` cannot be updated when calling a model.They have to be set to True/False in the config object (i.e.: `config=XConfig.from_pretrained('name', output_attentions=True)`).\n",
            "The parameter `return_dict` cannot be set in graph mode and will always be set to `True`.\n"
          ],
          "name": "stderr"
        },
        {
          "output_type": "stream",
          "text": [
            "461/461 [==============================] - ETA: 0s - loss: 1.9589 - f1_m: 0.3652 - precision_m: 0.5856 - recall_m: 0.2864 - auc: 0.8821"
          ],
          "name": "stdout"
        },
        {
          "output_type": "stream",
          "text": [
            "The parameters `output_attentions`, `output_hidden_states` and `use_cache` cannot be updated when calling a model.They have to be set to True/False in the config object (i.e.: `config=XConfig.from_pretrained('name', output_attentions=True)`).\n",
            "The parameter `return_dict` cannot be set in graph mode and will always be set to `True`.\n"
          ],
          "name": "stderr"
        },
        {
          "output_type": "stream",
          "text": [
            "\b\b\b\b\b\b\b\b\b\b\b\b\b\b\b\b\b\b\b\b\b\b\b\b\b\b\b\b\b\b\b\b\b\b\b\b\b\b\b\b\b\b\b\b\b\b\b\b\b\b\b\b\b\b\b\b\b\b\b\b\b\b\b\b\b\b\b\b\b\b\b\b\b\b\b\b\b\b\b\b\b\b\b\b\b\b\b\b\b\b\b\b\b\b\b\b\b\b\b\b\b\b\b\b\b\b\b\b\b\b\b\b\b\b\b\b\b\b\b\b\b\b\b\b\b\b\b\b\b\b\b\b\b\b\b\r461/461 [==============================] - 129s 240ms/step - loss: 1.9579 - f1_m: 0.3656 - precision_m: 0.5859 - recall_m: 0.2868 - auc: 0.8823 - val_loss: 0.9876 - val_f1_m: 0.7369 - val_precision_m: 0.8112 - val_recall_m: 0.6763 - val_auc: 0.9676\n",
            "Epoch 2/30\n",
            "461/461 [==============================] - 108s 233ms/step - loss: 0.9147 - f1_m: 0.7424 - precision_m: 0.8325 - recall_m: 0.6708 - auc: 0.9741 - val_loss: 0.9068 - val_f1_m: 0.7607 - val_precision_m: 0.8148 - val_recall_m: 0.7144 - val_auc: 0.9710\n",
            "Epoch 3/30\n",
            "461/461 [==============================] - 107s 233ms/step - loss: 0.7042 - f1_m: 0.7958 - precision_m: 0.8576 - recall_m: 0.7429 - auc: 0.9836 - val_loss: 0.8668 - val_f1_m: 0.7680 - val_precision_m: 0.8144 - val_recall_m: 0.7274 - val_auc: 0.9729\n",
            "Epoch 4/30\n",
            "461/461 [==============================] - 107s 233ms/step - loss: 0.5695 - f1_m: 0.8309 - precision_m: 0.8766 - recall_m: 0.7901 - auc: 0.9883 - val_loss: 0.8750 - val_f1_m: 0.7760 - val_precision_m: 0.8103 - val_recall_m: 0.7449 - val_auc: 0.9691\n",
            "Epoch 5/30\n",
            "461/461 [==============================] - 108s 233ms/step - loss: 0.4798 - f1_m: 0.8542 - precision_m: 0.8906 - recall_m: 0.8210 - auc: 0.9915 - val_loss: 0.9140 - val_f1_m: 0.7726 - val_precision_m: 0.8040 - val_recall_m: 0.7440 - val_auc: 0.9648\n",
            "160/160 [==============================] - 7s 44ms/step - loss: 0.9140 - f1_m: 0.7686 - precision_m: 0.8005 - recall_m: 0.7400 - auc: 0.9648\n",
            "Score for fold 7:\n",
            "loss : 0.9139873385429382\n",
            "f1 score : 0.7685959339141846\n",
            "precision score : 0.8005000948905945\n",
            "recall score : 0.740039050579071\n",
            "AUC score : 0.9647883772850037\n",
            "------------------------------------------------------------------------\n"
          ],
          "name": "stdout"
        },
        {
          "output_type": "stream",
          "text": [
            "Some layers from the model checkpoint at bert-base-multilingual-cased were not used when initializing TFBertModel: ['mlm___cls', 'nsp___cls']\n",
            "- This IS expected if you are initializing TFBertModel from the checkpoint of a model trained on another task or with another architecture (e.g. initializing a BertForSequenceClassification model from a BertForPreTraining model).\n",
            "- This IS NOT expected if you are initializing TFBertModel from the checkpoint of a model that you expect to be exactly identical (initializing a BertForSequenceClassification model from a BertForSequenceClassification model).\n",
            "All the layers of TFBertModel were initialized from the model checkpoint at bert-base-multilingual-cased.\n",
            "If your task is similar to the task the model of the checkpoint was trained on, you can already use TFBertModel for predictions without further training.\n",
            "The parameters `output_attentions`, `output_hidden_states` and `use_cache` cannot be updated when calling a model.They have to be set to True/False in the config object (i.e.: `config=XConfig.from_pretrained('name', output_attentions=True)`).\n",
            "The parameter `return_dict` cannot be set in graph mode and will always be set to `True`.\n"
          ],
          "name": "stderr"
        },
        {
          "output_type": "stream",
          "text": [
            "------------------------------------------------------------------------\n",
            "Training for fold 8 ...\n",
            "Epoch 1/30\n"
          ],
          "name": "stdout"
        },
        {
          "output_type": "stream",
          "text": [
            "The parameters `output_attentions`, `output_hidden_states` and `use_cache` cannot be updated when calling a model.They have to be set to True/False in the config object (i.e.: `config=XConfig.from_pretrained('name', output_attentions=True)`).\n",
            "The parameter `return_dict` cannot be set in graph mode and will always be set to `True`.\n"
          ],
          "name": "stderr"
        },
        {
          "output_type": "stream",
          "text": [
            "461/461 [==============================] - ETA: 0s - loss: 1.9979 - f1_m: 0.3580 - precision_m: 0.5890 - recall_m: 0.2746 - auc: 0.8790"
          ],
          "name": "stdout"
        },
        {
          "output_type": "stream",
          "text": [
            "The parameters `output_attentions`, `output_hidden_states` and `use_cache` cannot be updated when calling a model.They have to be set to True/False in the config object (i.e.: `config=XConfig.from_pretrained('name', output_attentions=True)`).\n",
            "The parameter `return_dict` cannot be set in graph mode and will always be set to `True`.\n"
          ],
          "name": "stderr"
        },
        {
          "output_type": "stream",
          "text": [
            "\b\b\b\b\b\b\b\b\b\b\b\b\b\b\b\b\b\b\b\b\b\b\b\b\b\b\b\b\b\b\b\b\b\b\b\b\b\b\b\b\b\b\b\b\b\b\b\b\b\b\b\b\b\b\b\b\b\b\b\b\b\b\b\b\b\b\b\b\b\b\b\b\b\b\b\b\b\b\b\b\b\b\b\b\b\b\b\b\b\b\b\b\b\b\b\b\b\b\b\b\b\b\b\b\b\b\b\b\b\b\b\b\b\b\b\b\b\b\b\b\b\b\b\b\b\b\b\b\b\b\b\b\b\b\b\r461/461 [==============================] - 129s 240ms/step - loss: 1.9969 - f1_m: 0.3584 - precision_m: 0.5893 - recall_m: 0.2749 - auc: 0.8791 - val_loss: 0.9984 - val_f1_m: 0.7186 - val_precision_m: 0.8132 - val_recall_m: 0.6459 - val_auc: 0.9676\n",
            "Epoch 2/30\n",
            "461/461 [==============================] - 107s 233ms/step - loss: 0.9577 - f1_m: 0.7347 - precision_m: 0.8301 - recall_m: 0.6601 - auc: 0.9710 - val_loss: 0.8802 - val_f1_m: 0.7568 - val_precision_m: 0.8099 - val_recall_m: 0.7113 - val_auc: 0.9729\n",
            "Epoch 3/30\n",
            "461/461 [==============================] - 107s 233ms/step - loss: 0.7262 - f1_m: 0.7927 - precision_m: 0.8564 - recall_m: 0.7384 - auc: 0.9830 - val_loss: 0.8580 - val_f1_m: 0.7744 - val_precision_m: 0.8140 - val_recall_m: 0.7390 - val_auc: 0.9704\n",
            "Epoch 4/30\n",
            "461/461 [==============================] - 107s 233ms/step - loss: 0.5914 - f1_m: 0.8246 - precision_m: 0.8724 - recall_m: 0.7823 - auc: 0.9881 - val_loss: 0.8537 - val_f1_m: 0.7820 - val_precision_m: 0.8222 - val_recall_m: 0.7465 - val_auc: 0.9701\n",
            "Epoch 5/30\n",
            "461/461 [==============================] - 107s 233ms/step - loss: 0.5016 - f1_m: 0.8534 - precision_m: 0.8907 - recall_m: 0.8196 - auc: 0.9902 - val_loss: 0.8634 - val_f1_m: 0.7785 - val_precision_m: 0.8080 - val_recall_m: 0.7517 - val_auc: 0.9695\n",
            "Epoch 6/30\n",
            "461/461 [==============================] - 107s 233ms/step - loss: 0.4062 - f1_m: 0.8763 - precision_m: 0.9044 - recall_m: 0.8503 - auc: 0.9933 - val_loss: 0.9232 - val_f1_m: 0.7724 - val_precision_m: 0.8018 - val_recall_m: 0.7456 - val_auc: 0.9654\n",
            "160/160 [==============================] - 7s 44ms/step - loss: 0.9232 - f1_m: 0.7690 - precision_m: 0.7984 - recall_m: 0.7429 - auc: 0.9654\n",
            "Score for fold 8:\n",
            "loss : 0.9231568574905396\n",
            "f1 score : 0.7689985632896423\n",
            "precision score : 0.7983740568161011\n",
            "recall score : 0.7428593635559082\n",
            "AUC score : 0.9654062390327454\n",
            "------------------------------------------------------------------------\n"
          ],
          "name": "stdout"
        },
        {
          "output_type": "stream",
          "text": [
            "Some layers from the model checkpoint at bert-base-multilingual-cased were not used when initializing TFBertModel: ['mlm___cls', 'nsp___cls']\n",
            "- This IS expected if you are initializing TFBertModel from the checkpoint of a model trained on another task or with another architecture (e.g. initializing a BertForSequenceClassification model from a BertForPreTraining model).\n",
            "- This IS NOT expected if you are initializing TFBertModel from the checkpoint of a model that you expect to be exactly identical (initializing a BertForSequenceClassification model from a BertForSequenceClassification model).\n",
            "All the layers of TFBertModel were initialized from the model checkpoint at bert-base-multilingual-cased.\n",
            "If your task is similar to the task the model of the checkpoint was trained on, you can already use TFBertModel for predictions without further training.\n",
            "The parameters `output_attentions`, `output_hidden_states` and `use_cache` cannot be updated when calling a model.They have to be set to True/False in the config object (i.e.: `config=XConfig.from_pretrained('name', output_attentions=True)`).\n",
            "The parameter `return_dict` cannot be set in graph mode and will always be set to `True`.\n"
          ],
          "name": "stderr"
        },
        {
          "output_type": "stream",
          "text": [
            "------------------------------------------------------------------------\n",
            "Training for fold 9 ...\n",
            "Epoch 1/30\n"
          ],
          "name": "stdout"
        },
        {
          "output_type": "stream",
          "text": [
            "The parameters `output_attentions`, `output_hidden_states` and `use_cache` cannot be updated when calling a model.They have to be set to True/False in the config object (i.e.: `config=XConfig.from_pretrained('name', output_attentions=True)`).\n",
            "The parameter `return_dict` cannot be set in graph mode and will always be set to `True`.\n"
          ],
          "name": "stderr"
        },
        {
          "output_type": "stream",
          "text": [
            "461/461 [==============================] - ETA: 0s - loss: 2.0266 - f1_m: 0.3443 - precision_m: 0.5663 - recall_m: 0.2657 - auc: 0.8746"
          ],
          "name": "stdout"
        },
        {
          "output_type": "stream",
          "text": [
            "The parameters `output_attentions`, `output_hidden_states` and `use_cache` cannot be updated when calling a model.They have to be set to True/False in the config object (i.e.: `config=XConfig.from_pretrained('name', output_attentions=True)`).\n",
            "The parameter `return_dict` cannot be set in graph mode and will always be set to `True`.\n"
          ],
          "name": "stderr"
        },
        {
          "output_type": "stream",
          "text": [
            "\b\b\b\b\b\b\b\b\b\b\b\b\b\b\b\b\b\b\b\b\b\b\b\b\b\b\b\b\b\b\b\b\b\b\b\b\b\b\b\b\b\b\b\b\b\b\b\b\b\b\b\b\b\b\b\b\b\b\b\b\b\b\b\b\b\b\b\b\b\b\b\b\b\b\b\b\b\b\b\b\b\b\b\b\b\b\b\b\b\b\b\b\b\b\b\b\b\b\b\b\b\b\b\b\b\b\b\b\b\b\b\b\b\b\b\b\b\b\b\b\b\b\b\b\b\b\b\b\b\b\b\b\b\b\b\r461/461 [==============================] - 129s 240ms/step - loss: 2.0255 - f1_m: 0.3447 - precision_m: 0.5667 - recall_m: 0.2661 - auc: 0.8747 - val_loss: 1.0103 - val_f1_m: 0.7313 - val_precision_m: 0.8116 - val_recall_m: 0.6672 - val_auc: 0.9663\n",
            "Epoch 2/30\n",
            "461/461 [==============================] - 108s 233ms/step - loss: 0.9269 - f1_m: 0.7436 - precision_m: 0.8370 - recall_m: 0.6699 - auc: 0.9727 - val_loss: 0.9039 - val_f1_m: 0.7615 - val_precision_m: 0.8209 - val_recall_m: 0.7114 - val_auc: 0.9707\n",
            "Epoch 3/30\n",
            "461/461 [==============================] - 108s 234ms/step - loss: 0.7313 - f1_m: 0.7904 - precision_m: 0.8559 - recall_m: 0.7348 - auc: 0.9826 - val_loss: 0.8592 - val_f1_m: 0.7689 - val_precision_m: 0.8168 - val_recall_m: 0.7274 - val_auc: 0.9722\n",
            "Epoch 4/30\n",
            "461/461 [==============================] - 108s 233ms/step - loss: 0.5996 - f1_m: 0.8231 - precision_m: 0.8737 - recall_m: 0.7785 - auc: 0.9872 - val_loss: 0.8960 - val_f1_m: 0.7716 - val_precision_m: 0.8117 - val_recall_m: 0.7358 - val_auc: 0.9688\n",
            "Epoch 5/30\n",
            "461/461 [==============================] - 108s 234ms/step - loss: 0.4927 - f1_m: 0.8533 - precision_m: 0.8921 - recall_m: 0.8181 - auc: 0.9909 - val_loss: 0.9174 - val_f1_m: 0.7750 - val_precision_m: 0.8051 - val_recall_m: 0.7476 - val_auc: 0.9651\n",
            "160/160 [==============================] - 7s 44ms/step - loss: 0.9174 - f1_m: 0.7722 - precision_m: 0.8032 - recall_m: 0.7447 - auc: 0.9651\n",
            "Score for fold 9:\n",
            "loss : 0.9173613786697388\n",
            "f1 score : 0.7721719741821289\n",
            "precision score : 0.8031919598579407\n",
            "recall score : 0.7447031140327454\n",
            "AUC score : 0.9651004076004028\n",
            "------------------------------------------------------------------------\n"
          ],
          "name": "stdout"
        },
        {
          "output_type": "stream",
          "text": [
            "Some layers from the model checkpoint at bert-base-multilingual-cased were not used when initializing TFBertModel: ['mlm___cls', 'nsp___cls']\n",
            "- This IS expected if you are initializing TFBertModel from the checkpoint of a model trained on another task or with another architecture (e.g. initializing a BertForSequenceClassification model from a BertForPreTraining model).\n",
            "- This IS NOT expected if you are initializing TFBertModel from the checkpoint of a model that you expect to be exactly identical (initializing a BertForSequenceClassification model from a BertForSequenceClassification model).\n",
            "All the layers of TFBertModel were initialized from the model checkpoint at bert-base-multilingual-cased.\n",
            "If your task is similar to the task the model of the checkpoint was trained on, you can already use TFBertModel for predictions without further training.\n",
            "The parameters `output_attentions`, `output_hidden_states` and `use_cache` cannot be updated when calling a model.They have to be set to True/False in the config object (i.e.: `config=XConfig.from_pretrained('name', output_attentions=True)`).\n",
            "The parameter `return_dict` cannot be set in graph mode and will always be set to `True`.\n"
          ],
          "name": "stderr"
        },
        {
          "output_type": "stream",
          "text": [
            "------------------------------------------------------------------------\n",
            "Training for fold 10 ...\n",
            "Epoch 1/30\n"
          ],
          "name": "stdout"
        },
        {
          "output_type": "stream",
          "text": [
            "The parameters `output_attentions`, `output_hidden_states` and `use_cache` cannot be updated when calling a model.They have to be set to True/False in the config object (i.e.: `config=XConfig.from_pretrained('name', output_attentions=True)`).\n",
            "The parameter `return_dict` cannot be set in graph mode and will always be set to `True`.\n"
          ],
          "name": "stderr"
        },
        {
          "output_type": "stream",
          "text": [
            "461/461 [==============================] - ETA: 0s - loss: 1.9749 - f1_m: 0.3605 - precision_m: 0.5910 - recall_m: 0.2782 - auc: 0.8817"
          ],
          "name": "stdout"
        },
        {
          "output_type": "stream",
          "text": [
            "The parameters `output_attentions`, `output_hidden_states` and `use_cache` cannot be updated when calling a model.They have to be set to True/False in the config object (i.e.: `config=XConfig.from_pretrained('name', output_attentions=True)`).\n",
            "The parameter `return_dict` cannot be set in graph mode and will always be set to `True`.\n"
          ],
          "name": "stderr"
        },
        {
          "output_type": "stream",
          "text": [
            "\b\b\b\b\b\b\b\b\b\b\b\b\b\b\b\b\b\b\b\b\b\b\b\b\b\b\b\b\b\b\b\b\b\b\b\b\b\b\b\b\b\b\b\b\b\b\b\b\b\b\b\b\b\b\b\b\b\b\b\b\b\b\b\b\b\b\b\b\b\b\b\b\b\b\b\b\b\b\b\b\b\b\b\b\b\b\b\b\b\b\b\b\b\b\b\b\b\b\b\b\b\b\b\b\b\b\b\b\b\b\b\b\b\b\b\b\b\b\b\b\b\b\b\b\b\b\b\b\b\b\b\b\b\b\b\r461/461 [==============================] - 129s 241ms/step - loss: 1.9738 - f1_m: 0.3609 - precision_m: 0.5914 - recall_m: 0.2785 - auc: 0.8818 - val_loss: 1.0161 - val_f1_m: 0.7249 - val_precision_m: 0.7926 - val_recall_m: 0.6695 - val_auc: 0.9643\n",
            "Epoch 2/30\n",
            "461/461 [==============================] - 108s 233ms/step - loss: 0.9113 - f1_m: 0.7447 - precision_m: 0.8318 - recall_m: 0.6748 - auc: 0.9735 - val_loss: 0.9200 - val_f1_m: 0.7526 - val_precision_m: 0.8072 - val_recall_m: 0.7057 - val_auc: 0.9702\n",
            "Epoch 3/30\n",
            "461/461 [==============================] - 108s 234ms/step - loss: 0.7257 - f1_m: 0.7916 - precision_m: 0.8542 - recall_m: 0.7382 - auc: 0.9822 - val_loss: 0.8911 - val_f1_m: 0.7608 - val_precision_m: 0.8151 - val_recall_m: 0.7139 - val_auc: 0.9722\n",
            "Epoch 4/30\n",
            "461/461 [==============================] - 108s 233ms/step - loss: 0.5946 - f1_m: 0.8240 - precision_m: 0.8746 - recall_m: 0.7794 - auc: 0.9876 - val_loss: 0.8644 - val_f1_m: 0.7628 - val_precision_m: 0.8018 - val_recall_m: 0.7279 - val_auc: 0.9727\n",
            "Epoch 5/30\n",
            "461/461 [==============================] - 108s 234ms/step - loss: 0.4848 - f1_m: 0.8543 - precision_m: 0.8912 - recall_m: 0.8207 - auc: 0.9913 - val_loss: 0.9166 - val_f1_m: 0.7565 - val_precision_m: 0.7932 - val_recall_m: 0.7235 - val_auc: 0.9687\n",
            "Epoch 6/30\n",
            "461/461 [==============================] - 108s 234ms/step - loss: 0.4062 - f1_m: 0.8771 - precision_m: 0.9057 - recall_m: 0.8505 - auc: 0.9934 - val_loss: 0.9417 - val_f1_m: 0.7634 - val_precision_m: 0.7902 - val_recall_m: 0.7388 - val_auc: 0.9633\n",
            "160/160 [==============================] - 7s 44ms/step - loss: 0.9417 - f1_m: 0.7627 - precision_m: 0.7896 - recall_m: 0.7385 - auc: 0.9633\n",
            "Score for fold 10:\n",
            "loss : 0.9417009353637695\n",
            "f1 score : 0.7626945376396179\n",
            "precision score : 0.7895503640174866\n",
            "recall score : 0.7385078072547913\n",
            "AUC score : 0.9633389711380005\n",
            "------------------------------------------------------------------------\n"
          ],
          "name": "stdout"
        }
      ]
    },
    {
      "cell_type": "code",
      "metadata": {
        "id": "LlgL7ufITbrp",
        "colab": {
          "base_uri": "https://localhost:8080/"
        },
        "outputId": "45846cdf-3efd-44d3-feb1-e5bd57be0d04"
      },
      "source": [
        "import statistics as st\n",
        "\n",
        "print(st.mean(f1_per_fold))\n",
        "print(st.mean(precision_per_fold))\n",
        "print(st.mean(recall_per_fold))\n",
        "print(st.mean(auc_per_fold))"
      ],
      "execution_count": 297,
      "outputs": [
        {
          "output_type": "stream",
          "text": [
            "0.7676456868648529\n",
            "0.7987844169139862\n",
            "0.7400177836418151\n",
            "0.9640010595321655\n"
          ],
          "name": "stdout"
        }
      ]
    },
    {
      "cell_type": "code",
      "metadata": {
        "id": "RtnDBGzaz9mA"
      },
      "source": [
        ""
      ],
      "execution_count": null,
      "outputs": []
    }
  ]
}