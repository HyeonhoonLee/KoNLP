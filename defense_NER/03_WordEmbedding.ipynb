{
 "cells": [
  {
   "cell_type": "code",
   "execution_count": null,
   "metadata": {},
   "outputs": [],
   "source": [
    "import re, os\n",
    "import platform\n",
    "import warnings\n",
    "warnings.filterwarnings(action='ignore')\n",
    "\n",
    "import pandas as pd\n",
    "import matplotlib\n",
    "import matplotlib.pyplot as plt\n",
    "\n",
    "from matplotlib import font_manager, rc\n",
    "from gensim.models.word2vec import Word2Vec\n",
    "from tqdm import tqdm\n",
    "\n",
    "from konlpy.tag import Mecab\n",
    "tokenizer = Mecab(dicpath='/usr/local/lib/mecab/dic/mecab-ko-dic')"
   ]
  },
  {
   "cell_type": "code",
   "execution_count": null,
   "metadata": {},
   "outputs": [],
   "source": [
    "# Matplotlib 한글 깨짐 현상 해결\n",
    "font_manager.get_fontconfig_fonts()\n",
    "font_name = font_manager.FontProperties(fname='/usr/share/fonts/truetype/nanum/NanumGothic.ttf').get_name()\n",
    "rc('font', family=font_name)\n",
    "\n",
    "data_dir = os.path.join(os.getcwd(), 'data')\n",
    "print (data_dir)\n",
    "print (plt.rcParams['font.family'])"
   ]
  },
  {
   "cell_type": "code",
   "execution_count": null,
   "metadata": {},
   "outputs": [],
   "source": [
    "data_file = os.path.join(data_dir, 'naver_review.txt')\n",
    "train_data = pd.read_table(data_file).drop(['id', 'label'], axis = 1)\n",
    "train_data = train_data.dropna(how = 'any')\n",
    "\n",
    "print (train_data.shape)\n",
    "train_data.head()"
   ]
  },
  {
   "cell_type": "code",
   "execution_count": null,
   "metadata": {},
   "outputs": [],
   "source": [
    "%time train_data['document'] = [re.sub(r'\\s+', ' ', sent).strip() for sent in train_data['document']]\n",
    "%time train_data['document'] = [re.sub(r'[^ㄱ-ㅎㅏ-ㅣ가-힣\\s]', '', sent).strip() for sent in train_data['document']]\n",
    "train_data.head()"
   ]
  },
  {
   "cell_type": "code",
   "execution_count": null,
   "metadata": {},
   "outputs": [],
   "source": [
    "tokenized_data = [tokenizer.morphs(sent) for sent in tqdm(train_data['document'])]\n",
    "\n",
    "from time import sleep\n",
    "from pprint import pprint\n",
    "sleep(0.1)\n",
    "\n",
    "pprint (tokenized_data[0])"
   ]
  },
  {
   "cell_type": "code",
   "execution_count": null,
   "metadata": {},
   "outputs": [],
   "source": [
    "# 리뷰 길이 분포 확인\n",
    "print('리뷰의 최대 길이 :',max(len(l) for l in tokenized_data))\n",
    "print('리뷰의 평균 길이 :',sum(map(len, tokenized_data))/len(tokenized_data))\n",
    "\n",
    "%matplotlib inline\n",
    "plt.hist([len(s) for s in tokenized_data], bins=50)\n",
    "plt.xlabel('length of samples')\n",
    "plt.ylabel('number of samples')\n",
    "plt.show()"
   ]
  },
  {
   "cell_type": "code",
   "execution_count": null,
   "metadata": {},
   "outputs": [],
   "source": [
    "%time model = Word2Vec(sentences = tokenized_data, size = 100, window = 5, min_count = 10, workers = 4, sg = 0)\n",
    "print (model.wv.vectors.shape)\n",
    "\n",
    "word_vectors = model.wv\n",
    "\n",
    "vocabs = list(word_vectors.vocab.keys())\n",
    "word_vectors = [word_vectors[v] for v in vocabs]\n",
    "print (len(vocabs))\n",
    "print (vocabs[:5])"
   ]
  },
  {
   "cell_type": "code",
   "execution_count": null,
   "metadata": {},
   "outputs": [],
   "source": [
    "model[\"스파이\"]"
   ]
  },
  {
   "cell_type": "code",
   "execution_count": null,
   "metadata": {},
   "outputs": [],
   "source": [
    "# 단어 별 유사 단어 Top 10\n",
    "word = \"첩보\"\n",
    "print (word, '\\n')\n",
    "pprint(model.wv.most_similar(word))"
   ]
  },
  {
   "cell_type": "code",
   "execution_count": null,
   "metadata": {},
   "outputs": [],
   "source": [
    "model.similarity(\"북한\", \"한국\")"
   ]
  },
  {
   "cell_type": "code",
   "execution_count": null,
   "metadata": {},
   "outputs": [],
   "source": [
    "def plot_2d_graph(vocabs, x, y):\n",
    "    plt.figure(figsize=(10, 10))\n",
    "    plt.scatter(x, y, marker='o')\n",
    "    for i, v in enumerate(vocabs):\n",
    "        plt.annotate(v, xy=(x[i], y[i]))"
   ]
  },
  {
   "cell_type": "code",
   "execution_count": null,
   "metadata": {
    "scrolled": false
   },
   "outputs": [],
   "source": [
    "from sklearn.decomposition import PCA\n",
    "pca = PCA(n_components=2)\n",
    "xy = pca.fit_transform(word_vectors)\n",
    "\n",
    "i = 100\n",
    "%time plot_2d_graph(vocabs[:i], xy[:, 0][:i], xy[:, 1][:i])"
   ]
  }
 ],
 "metadata": {
  "kernelspec": {
   "display_name": "Python 3",
   "language": "python",
   "name": "python3"
  },
  "language_info": {
   "codemirror_mode": {
    "name": "ipython",
    "version": 3
   },
   "file_extension": ".py",
   "mimetype": "text/x-python",
   "name": "python",
   "nbconvert_exporter": "python",
   "pygments_lexer": "ipython3",
   "version": "3.7.9"
  }
 },
 "nbformat": 4,
 "nbformat_minor": 2
}
