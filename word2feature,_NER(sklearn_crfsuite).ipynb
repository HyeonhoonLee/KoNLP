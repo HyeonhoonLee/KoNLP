{
  "nbformat": 4,
  "nbformat_minor": 0,
  "metadata": {
    "colab": {
      "name": "word2feature,  NER(sklearn_crfsuite)",
      "provenance": [],
      "collapsed_sections": [],
      "authorship_tag": "ABX9TyMzUbBlhDmPtU19sp2kBbok",
      "include_colab_link": true
    },
    "kernelspec": {
      "name": "python3",
      "display_name": "Python 3"
    }
  },
  "cells": [
    {
      "cell_type": "markdown",
      "metadata": {
        "id": "view-in-github",
        "colab_type": "text"
      },
      "source": [
        "<a href=\"https://colab.research.google.com/github/HyeonhoonLee/KoNLP/blob/master/word2feature%2C_NER(sklearn_crfsuite).ipynb\" target=\"_parent\"><img src=\"https://colab.research.google.com/assets/colab-badge.svg\" alt=\"Open In Colab\"/></a>"
      ]
    },
    {
      "cell_type": "code",
      "metadata": {
        "id": "ebaa2pKTd7No"
      },
      "source": [
        "import os\n",
        "\n",
        "import sklearn\n",
        "from sklearn.metrics import make_scorer\n",
        "from sklearn.model_selection import cross_val_score\n",
        "from sklearn.model_selection import RandomizedSearchCV\n",
        "\n",
        "import sklearn_crfsuite\n",
        "from sklearn_crfsuite import scorers, metrics\n",
        "\n",
        "def read_ner_data(data_dir:str, file_name:str):\n",
        "    with open(os.path.join(data_dir, file_name), mode = 'r', encoding= 'utf-8') as f:\n",
        "        data = [line.strip().splitlines() for line in f.read().split('\\n=====\\n') if line.strip()]\n",
        "        data = [[tuple(tk.split('\\t')) for tk in line] for line in data]\n",
        "    return data\n",
        "\n",
        "data_dir = os.path.join(os.getcwd(), 'data')\n",
        "print (data_dir)"
      ],
      "execution_count": null,
      "outputs": []
    },
    {
      "cell_type": "code",
      "metadata": {
        "id": "kdwjtXbid7Ct"
      },
      "source": [
        "%time train_sents = list(read_ner_data(data_dir, 'train.txt'))\n",
        "print ('n_Train Data set: %d\\n'%len(train_sents))\n",
        "\n",
        "%time test_sents = list(read_ner_data(data_dir, 'test.txt'))\n",
        "print ('n_Test Data set: %d\\n'%len(test_sents))"
      ],
      "execution_count": null,
      "outputs": []
    },
    {
      "cell_type": "markdown",
      "metadata": {
        "id": "pstqIFL_a2zK"
      },
      "source": [
        "The function below is to get other features of words such as postag and position while vectorzing"
      ]
    },
    {
      "cell_type": "code",
      "metadata": {
        "id": "LQTXIQFFay-0"
      },
      "source": [
        "def word2features(sent, i):\n",
        "    word = sent[i][0]\n",
        "    postag = sent[i][1]\n",
        "\n",
        "    features = {\n",
        "        'bias': 1.0,\n",
        "        'word.lower()': word.lower(),\n",
        "        'word[-3:]': word[-3:],\n",
        "        'word[-2:]': word[-2:],\n",
        "        'word.isupper()': word.isupper(),\n",
        "        'word.istitle()': word.istitle(),\n",
        "        'word.isdigit()': word.isdigit(),\n",
        "        'postag': postag,\n",
        "        'postag[:2]': postag[:2],\n",
        "    }\n",
        "    if i > 0:\n",
        "        word1 = sent[i-1][0]\n",
        "        postag1 = sent[i-1][1]\n",
        "        features.update({\n",
        "            '-1:word.lower()': word1.lower(),\n",
        "            '-1:word.istitle()': word1.istitle(),\n",
        "            '-1:word.isupper()': word1.isupper(),\n",
        "            '-1:postag': postag1,\n",
        "            '-1:postag[:2]': postag1[:2],\n",
        "        })\n",
        "    else:\n",
        "        features['BOS'] = True\n",
        "\n",
        "    if i < len(sent)-1:\n",
        "        word1 = sent[i+1][0]\n",
        "        postag1 = sent[i+1][1]\n",
        "        features.update({\n",
        "            '+1:word.lower()': word1.lower(),\n",
        "            '+1:word.istitle()': word1.istitle(),\n",
        "            '+1:word.isupper()': word1.isupper(),\n",
        "            '+1:postag': postag1,\n",
        "            '+1:postag[:2]': postag1[:2],\n",
        "        })\n",
        "    else:\n",
        "        features['EOS'] = True\n",
        "\n",
        "    return features\n",
        "\n",
        "\n",
        "def sent2features(sent):\n",
        "    return [word2features(sent, i) for i in range(len(sent))]\n",
        "\n",
        "def sent2labels(sent):\n",
        "    return [label for token, postag, label in sent]\n",
        "\n",
        "def sent2tokens(sent):\n",
        "    return [token for token, postag, label in sent]"
      ],
      "execution_count": null,
      "outputs": []
    },
    {
      "cell_type": "code",
      "metadata": {
        "id": "Sf_7O7xEd_mB"
      },
      "source": [
        "from pprint import pprint\n",
        "i = 5\n",
        "pprint (train_sents[0][i])\n",
        "\n",
        "print ('\\n========================\\n')\n",
        "\n",
        "pprint (sent2features(train_sents[0])[i])"
      ],
      "execution_count": null,
      "outputs": []
    },
    {
      "cell_type": "code",
      "metadata": {
        "id": "orh-rcm7eAXZ"
      },
      "source": [
        "%%time\n",
        "X_train = [sent2features(s) for s in train_sents]\n",
        "y_train = [sent2labels(s) for s in train_sents]\n",
        "\n",
        "X_test = [sent2features(s) for s in test_sents]\n",
        "y_test = [sent2labels(s) for s in test_sents]"
      ],
      "execution_count": null,
      "outputs": []
    },
    {
      "cell_type": "code",
      "metadata": {
        "id": "A3Id2F0DeARl"
      },
      "source": [
        "%%time\n",
        "crf = sklearn_crfsuite.CRF(\n",
        "    algorithm='lbfgs', \n",
        "    c1=0.1, \n",
        "    c2=0.05, \n",
        "    max_iterations=100, \n",
        "    all_possible_transitions=True\n",
        ")\n",
        "crf.fit(X_train, y_train)"
      ],
      "execution_count": null,
      "outputs": []
    },
    {
      "cell_type": "code",
      "metadata": {
        "id": "Q9j-iDJEeANA"
      },
      "source": [
        "labels = list(crf.classes_)\n",
        "labels.remove('O')\n",
        "labels"
      ],
      "execution_count": null,
      "outputs": []
    },
    {
      "cell_type": "code",
      "metadata": {
        "id": "wu7UyaqGeAH7"
      },
      "source": [
        "y_pred = crf.predict(X_test)\n",
        "\n",
        "f1_score = metrics.flat_f1_score(y_test, y_pred, average='weighted', labels=labels)\n",
        "print ('F1 score: %0.3f'%f1_score)"
      ],
      "execution_count": null,
      "outputs": []
    },
    {
      "cell_type": "code",
      "metadata": {
        "id": "8VAtuoNDeHLN"
      },
      "source": [
        "# group B and I results\n",
        "sorted_labels = sorted(\n",
        "    labels, \n",
        "    key=lambda name: (name[1:], name[0])\n",
        ")\n",
        "\n",
        "print (metrics.flat_classification_report(\n",
        "    y_test, \n",
        "    y_pred, \n",
        "    labels=sorted_labels, \n",
        "    digits=3\n",
        "    ))"
      ],
      "execution_count": null,
      "outputs": []
    },
    {
      "cell_type": "code",
      "metadata": {
        "id": "pmKCoaeOeHJB"
      },
      "source": [
        "i = 1\n",
        "for (tk, pos, real_bio), prd_bio in list(zip(test_sents[i], y_test[i])):\n",
        "    if real_bio == 'O' and prd_bio == 'O':\n",
        "        print (\"Token: {} \".format(tk))\n",
        "    else:\n",
        "        print (\"Token: %-7s ==> Real_BIO: %-5s vs. Prd_BIO: %-5s\"%(tk, real_bio, prd_bio))\n"
      ],
      "execution_count": null,
      "outputs": []
    },
    {
      "cell_type": "markdown",
      "metadata": {
        "id": "I8sBQe1ieOhn"
      },
      "source": [
        "RandomSearch"
      ]
    },
    {
      "cell_type": "code",
      "metadata": {
        "id": "Djv3qVCKeHEH"
      },
      "source": [
        "%%time\n",
        "import scipy.stats\n",
        "\n",
        "crf = sklearn_crfsuite.CRF(\n",
        "    algorithm='lbfgs', \n",
        "    max_iterations=100, \n",
        "    all_possible_transitions=True\n",
        ")\n",
        "\n",
        "params_space = {\n",
        "    'c1': scipy.stats.expon(scale=0.5),\n",
        "    'c2': scipy.stats.expon(scale=0.05),\n",
        "}\n",
        "\n",
        "f1_scorer = make_scorer(metrics.flat_f1_score, average='weighted', labels=labels)\n",
        "\n",
        "rs = RandomizedSearchCV(crf, params_space, \n",
        "                        cv=3, \n",
        "                        verbose=1, \n",
        "                        n_jobs=-1, \n",
        "                        n_iter=100, \n",
        "                        scoring=f1_scorer)\n",
        "rs.fit(X_train, y_train)"
      ],
      "execution_count": null,
      "outputs": []
    },
    {
      "cell_type": "code",
      "metadata": {
        "id": "FfTgifOseHB3"
      },
      "source": [
        "print('best params:', rs.best_params_)\n",
        "print('best CV score:', rs.best_score_)\n",
        "print('model size: {:0.2f}M'.format(rs.best_estimator_.size_ / 1000000))\n",
        "rs.best_estimator_"
      ],
      "execution_count": null,
      "outputs": []
    },
    {
      "cell_type": "code",
      "metadata": {
        "id": "MUfzkiNbeG_m"
      },
      "source": [
        "_x = [s.get('c1') for s in rs.cv_results_['params']]\n",
        "_y = [s.get('c2') for s in rs.cv_results_['params']]\n",
        "_c = list(rs.cv_results_['mean_test_score'])\n",
        "\n",
        "\"\"\"\n",
        "%matplotlib inline\n",
        "import matplotlib.pyplot as plt\n",
        "plt.style.use('ggplot')\n",
        "\n",
        "fig = plt.figure()\n",
        "fig.set_size_inches(12, 12)\n",
        "ax = plt.gca()\n",
        "ax.set_yscale('log')\n",
        "ax.set_xscale('log')\n",
        "ax.set_xlabel('C1')\n",
        "ax.set_ylabel('C2')\n",
        "ax.set_title(\"Randomized Hyperparameter Search CV Results (min={:0.3}, max={:0.3})\".format(\n",
        "    min(_c), max(_c)\n",
        "))\n",
        "\n",
        "ax.scatter(_x, _y, c=_c, s=60, alpha=0.9, edgecolors=[0,0,0])\n",
        "print(\"Dark blue => {:0.4}, dark red => {:0.4}\".format(min(_c), max(_c)))\n",
        "\"\"\"\n",
        "\n",
        "from pandas import DataFrame\n",
        "Score = DataFrame(list(zip(_x, _y, _c)), columns = ['c1', 'c2', 'Score']).sort_values(by = 'Score', ascending=False)\n",
        "Score.head()"
      ],
      "execution_count": null,
      "outputs": []
    },
    {
      "cell_type": "code",
      "metadata": {
        "id": "EYhG_y5AeVLr"
      },
      "source": [
        "crf = rs.best_estimator_\n",
        "\n",
        "y_pred = crf.predict(X_test)\n",
        "print (metrics.flat_classification_report(\n",
        "    y_test, \n",
        "    y_pred, \n",
        "    labels=sorted_labels, \n",
        "    digits=3\n",
        "    ))"
      ],
      "execution_count": null,
      "outputs": []
    },
    {
      "cell_type": "code",
      "metadata": {
        "id": "G-qhIyTDeVjf"
      },
      "source": [
        ""
      ],
      "execution_count": null,
      "outputs": []
    }
  ]
}