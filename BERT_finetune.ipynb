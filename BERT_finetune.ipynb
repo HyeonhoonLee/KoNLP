{
  "nbformat": 4,
  "nbformat_minor": 0,
  "metadata": {
    "kernelspec": {
      "display_name": "Python 3",
      "language": "python",
      "name": "python3"
    },
    "language_info": {
      "codemirror_mode": {
        "name": "ipython",
        "version": 3
      },
      "file_extension": ".py",
      "mimetype": "text/x-python",
      "name": "python",
      "nbconvert_exporter": "python",
      "pygments_lexer": "ipython3",
      "version": "3.6.8"
    },
    "pycharm": {
      "stem_cell": {
        "cell_type": "raw",
        "metadata": {
          "collapsed": false
        },
        "source": []
      }
    },
    "colab": {
      "name": "BERT_finetune.ipynb",
      "provenance": [],
      "collapsed_sections": [],
      "toc_visible": true,
      "include_colab_link": true
    },
    "accelerator": "GPU"
  },
  "cells": [
    {
      "cell_type": "markdown",
      "metadata": {
        "id": "view-in-github",
        "colab_type": "text"
      },
      "source": [
        "<a href=\"https://colab.research.google.com/github/HyeonhoonLee/OSAM_NLP/blob/master/BERT_finetune.ipynb\" target=\"_parent\"><img src=\"https://colab.research.google.com/assets/colab-badge.svg\" alt=\"Open In Colab\"/></a>"
      ]
    },
    {
      "cell_type": "markdown",
      "metadata": {
        "id": "7yDz-z2xOttO"
      },
      "source": [
        "## 1. EDA"
      ]
    },
    {
      "cell_type": "code",
      "metadata": {
        "id": "QkYqRRxePBrs",
        "outputId": "ba8637fb-af03-4441-d764-ef22c1d03271",
        "colab": {
          "base_uri": "https://localhost:8080/",
          "height": 54
        }
      },
      "source": [
        "from google.colab import drive\n",
        "drive.mount('/content/drive')"
      ],
      "execution_count": 1,
      "outputs": [
        {
          "output_type": "stream",
          "text": [
            "Drive already mounted at /content/drive; to attempt to forcibly remount, call drive.mount(\"/content/drive\", force_remount=True).\n"
          ],
          "name": "stdout"
        }
      ]
    },
    {
      "cell_type": "code",
      "metadata": {
        "pycharm": {
          "is_executing": false
        },
        "id": "-g4iLcZ6OttQ"
      },
      "source": [
        "import numpy as np \n",
        "import pandas as pd\n",
        "import sklearn \n",
        "from sklearn import model_selection\n",
        "import os\n",
        "import matplotlib.pyplot as plt\n",
        "import seaborn as sns\n",
        "from wordcloud import WordCloud\n",
        "%matplotlib inline"
      ],
      "execution_count": 2,
      "outputs": []
    },
    {
      "cell_type": "code",
      "metadata": {
        "id": "dKe3Ps53RQWS"
      },
      "source": [
        "# randsom seed\n",
        "seed=1234\n",
        "np.random.seed(seed)"
      ],
      "execution_count": 3,
      "outputs": []
    },
    {
      "cell_type": "code",
      "metadata": {
        "id": "ikYl6zF_Z4tF"
      },
      "source": [
        "num_classes=32"
      ],
      "execution_count": 4,
      "outputs": []
    },
    {
      "cell_type": "code",
      "metadata": {
        "pycharm": {
          "is_executing": false
        },
        "id": "iuwiWb5sOttT"
      },
      "source": [
        "DATA_IN_PATH = '/content/drive/My Drive/DataCollection/OSAM/'"
      ],
      "execution_count": 5,
      "outputs": []
    },
    {
      "cell_type": "code",
      "metadata": {
        "pycharm": {
          "is_executing": false
        },
        "id": "2bD6dyZdOttW",
        "outputId": "86d15274-1e4b-45f6-ebe8-2b83ca42be40",
        "colab": {
          "base_uri": "https://localhost:8080/",
          "height": 51
        }
      },
      "source": [
        "print(\"파일 크기 : \")\n",
        "for file in os.listdir(DATA_IN_PATH):\n",
        "    if 'csv' in file :\n",
        "        print(file.ljust(30) + str(round(os.path.getsize(DATA_IN_PATH + file) / 1000000, 2)) + 'MB')"
      ],
      "execution_count": 6,
      "outputs": [
        {
          "output_type": "stream",
          "text": [
            "파일 크기 : \n",
            "combined.csv                  6.62MB\n"
          ],
          "name": "stdout"
        }
      ]
    },
    {
      "cell_type": "code",
      "metadata": {
        "id": "QVXwU5ySQrqy",
        "outputId": "3b24211c-7533-4534-c701-3f5e992e4692",
        "colab": {
          "base_uri": "https://localhost:8080/",
          "height": 204
        }
      },
      "source": [
        "#loading csv data\n",
        "all_data = pd.read_csv(DATA_IN_PATH + 'combined.csv', quoting = 2)\n",
        "all_data.head()"
      ],
      "execution_count": 7,
      "outputs": [
        {
          "output_type": "execute_result",
          "data": {
            "text/html": [
              "<div>\n",
              "<style scoped>\n",
              "    .dataframe tbody tr th:only-of-type {\n",
              "        vertical-align: middle;\n",
              "    }\n",
              "\n",
              "    .dataframe tbody tr th {\n",
              "        vertical-align: top;\n",
              "    }\n",
              "\n",
              "    .dataframe thead th {\n",
              "        text-align: right;\n",
              "    }\n",
              "</style>\n",
              "<table border=\"1\" class=\"dataframe\">\n",
              "  <thead>\n",
              "    <tr style=\"text-align: right;\">\n",
              "      <th></th>\n",
              "      <th>symptom</th>\n",
              "      <th>class</th>\n",
              "    </tr>\n",
              "  </thead>\n",
              "  <tbody>\n",
              "    <tr>\n",
              "      <th>0</th>\n",
              "      <td>질문하겠습니다. 이어폰을 음량을 0으로 하고 끼고만 있어도 귀에 안 좋나요?</td>\n",
              "      <td>FM</td>\n",
              "    </tr>\n",
              "    <tr>\n",
              "      <th>1</th>\n",
              "      <td>독감예방주사</td>\n",
              "      <td>FM</td>\n",
              "    </tr>\n",
              "    <tr>\n",
              "      <th>2</th>\n",
              "      <td>목에 음식물 그대로 끼어서 계속 이물감이 있습니다</td>\n",
              "      <td>FM</td>\n",
              "    </tr>\n",
              "    <tr>\n",
              "      <th>3</th>\n",
              "      <td>케겔운동 궁금한것</td>\n",
              "      <td>FM</td>\n",
              "    </tr>\n",
              "    <tr>\n",
              "      <th>4</th>\n",
              "      <td>등 통증 관련문의</td>\n",
              "      <td>FM</td>\n",
              "    </tr>\n",
              "  </tbody>\n",
              "</table>\n",
              "</div>"
            ],
            "text/plain": [
              "                                      symptom class\n",
              "0  질문하겠습니다. 이어폰을 음량을 0으로 하고 끼고만 있어도 귀에 안 좋나요?    FM\n",
              "1                                      독감예방주사    FM\n",
              "2                 목에 음식물 그대로 끼어서 계속 이물감이 있습니다    FM\n",
              "3                                   케겔운동 궁금한것    FM\n",
              "4                                   등 통증 관련문의    FM"
            ]
          },
          "metadata": {
            "tags": []
          },
          "execution_count": 7
        }
      ]
    },
    {
      "cell_type": "code",
      "metadata": {
        "id": "YijzGlUvQ7qw",
        "outputId": "26878dd1-da27-4604-a3b8-e951b0f96931",
        "colab": {
          "base_uri": "https://localhost:8080/",
          "height": 34
        }
      },
      "source": [
        "# all_data의 전체 길이\n",
        "len(all_data)"
      ],
      "execution_count": 8,
      "outputs": [
        {
          "output_type": "execute_result",
          "data": {
            "text/plain": [
              "118087"
            ]
          },
          "metadata": {
            "tags": []
          },
          "execution_count": 8
        }
      ]
    },
    {
      "cell_type": "code",
      "metadata": {
        "id": "ViZsnvi3VB68"
      },
      "source": [
        "#stratififed split to train_data, test_data\n",
        "from sklearn.model_selection import StratifiedShuffleSplit\n",
        "\n",
        "split = StratifiedShuffleSplit(n_splits=1, test_size=0.2, random_state=seed)\n",
        "\n",
        "for train_idx, test_idx in split.split(all_data, all_data[\"class\"]):\n",
        "    train_data = all_data.loc[train_idx]\n",
        "    test_data = all_data.loc[test_idx]"
      ],
      "execution_count": 9,
      "outputs": []
    },
    {
      "cell_type": "code",
      "metadata": {
        "pycharm": {
          "is_executing": false
        },
        "id": "ZYjVSSndOttc",
        "outputId": "5d5d3958-b5fe-4778-d681-7ebbea86a92e",
        "colab": {
          "base_uri": "https://localhost:8080/",
          "height": 51
        }
      },
      "source": [
        "print('전체 학습데이터의 개수: {}'.format(len(train_data)))\n",
        "print('전체 학습데이터의 개수: {}'.format(len(test_data)))"
      ],
      "execution_count": 10,
      "outputs": [
        {
          "output_type": "stream",
          "text": [
            "전체 학습데이터의 개수: 94469\n",
            "전체 학습데이터의 개수: 23618\n"
          ],
          "name": "stdout"
        }
      ]
    },
    {
      "cell_type": "code",
      "metadata": {
        "pycharm": {
          "is_executing": false
        },
        "id": "cBkv_j7iOttf"
      },
      "source": [
        "train_length = train_data['symptom'].astype(str).apply(len)"
      ],
      "execution_count": 11,
      "outputs": []
    },
    {
      "cell_type": "code",
      "metadata": {
        "pycharm": {
          "is_executing": false
        },
        "id": "lj0T4cRyOtth",
        "outputId": "f3ab44b3-8734-4dbc-ebbb-f430d2ec42d5",
        "colab": {
          "base_uri": "https://localhost:8080/",
          "height": 119
        }
      },
      "source": [
        "train_length.head()"
      ],
      "execution_count": 12,
      "outputs": [
        {
          "output_type": "execute_result",
          "data": {
            "text/plain": [
              "48994    16\n",
              "77552    25\n",
              "69473    18\n",
              "4200      5\n",
              "2506     25\n",
              "Name: symptom, dtype: int64"
            ]
          },
          "metadata": {
            "tags": []
          },
          "execution_count": 12
        }
      ]
    },
    {
      "cell_type": "code",
      "metadata": {
        "pycharm": {
          "is_executing": false
        },
        "id": "aIzKM-8DOttk",
        "outputId": "f62ec0d0-41e2-4852-aafc-42d129d91190",
        "colab": {
          "base_uri": "https://localhost:8080/",
          "height": 367
        }
      },
      "source": [
        "# 그래프에 대한 이미지 사이즈 선언\n",
        "# figsize: (가로, 세로) 형태의 튜플로 입력\n",
        "plt.figure(figsize=(12, 5))\n",
        "# 히스토그램 선언\n",
        "# bins: 히스토그램 값들에 대한 버켓 범위\n",
        "# range: x축 값의 범위\n",
        "# alpha: 그래프 색상 투명도\n",
        "# color: 그래프 색상\n",
        "# label: 그래프에 대한 라벨\n",
        "plt.hist(train_length, bins=200, alpha=0.5, color= 'r', label='word')\n",
        "plt.yscale('log', nonposy='clip')\n",
        "# 그래프 제목\n",
        "plt.title('Log-Histogram of length of symptom')\n",
        "# 그래프 x 축 라벨\n",
        "plt.xlabel('Length of symptom')\n",
        "# 그래프 y 축 라벨\n",
        "plt.ylabel('Number of symptom')"
      ],
      "execution_count": 13,
      "outputs": [
        {
          "output_type": "execute_result",
          "data": {
            "text/plain": [
              "Text(0, 0.5, 'Number of symptom')"
            ]
          },
          "metadata": {
            "tags": []
          },
          "execution_count": 13
        },
        {
          "output_type": "display_data",
          "data": {
            "image/png": "[encoded data removed]",
            "text/plain": [
              "<Figure size 864x360 with 1 Axes>"
            ]
          },
          "metadata": {
            "tags": [],
            "needs_background": "light"
          }
        }
      ]
    },
    {
      "cell_type": "code",
      "metadata": {
        "pycharm": {
          "is_executing": false
        },
        "id": "aj9sdLCIOttp",
        "outputId": "d007e342-4224-42d2-aebe-c0fc8678acdb",
        "colab": {
          "base_uri": "https://localhost:8080/",
          "height": 136
        }
      },
      "source": [
        "print('증상 길이 최대 값: {}'.format(np.max(train_length)))\n",
        "print('증상 길이 최소 값: {}'.format(np.min(train_length)))\n",
        "print('증상 길이 평균 값: {:.2f}'.format(np.mean(train_length)))\n",
        "print('증상 길이 표준편차: {:.2f}'.format(np.std(train_length)))\n",
        "print('증상 길이 중간 값: {}'.format(np.median(train_length)))\n",
        "# 사분위의 대한 경우는 0~100 스케일로 되어있음\n",
        "print('증상 길이 제 1 사분위: {}'.format(np.percentile(train_length, 25)))\n",
        "print('증상 길이 제 3 사분위: {}'.format(np.percentile(train_length, 75)))"
      ],
      "execution_count": 14,
      "outputs": [
        {
          "output_type": "stream",
          "text": [
            "증상 길이 최대 값: 156\n",
            "증상 길이 최소 값: 1\n",
            "증상 길이 평균 값: 20.51\n",
            "증상 길이 표준편차: 11.35\n",
            "증상 길이 중간 값: 19.0\n",
            "증상 길이 제 1 사분위: 12.0\n",
            "증상 길이 제 3 사분위: 28.0\n"
          ],
          "name": "stdout"
        }
      ]
    },
    {
      "cell_type": "code",
      "metadata": {
        "pycharm": {
          "is_executing": false
        },
        "id": "ONRYrEiPOttr",
        "outputId": "97e4ad99-9c90-4923-bd9e-a28a77f0214f",
        "colab": {
          "base_uri": "https://localhost:8080/",
          "height": 456
        }
      },
      "source": [
        "plt.figure(figsize=(12, 5))\n",
        "# 박스플롯 생성\n",
        "# 첫번째 파라메터: 여러 분포에 대한 데이터 리스트를 입력\n",
        "# labels: 입력한 데이터에 대한 라벨\n",
        "# showmeans: 평균값을 마크함\n",
        "\n",
        "plt.boxplot(train_length,\n",
        "             labels=['counts'],\n",
        "             showmeans=True)"
      ],
      "execution_count": 15,
      "outputs": [
        {
          "output_type": "execute_result",
          "data": {
            "text/plain": [
              "{'boxes': [<matplotlib.lines.Line2D at 0x7f0897edacc0>],\n",
              " 'caps': [<matplotlib.lines.Line2D at 0x7f0897ee7710>,\n",
              "  <matplotlib.lines.Line2D at 0x7f0897ee7a90>],\n",
              " 'fliers': [<matplotlib.lines.Line2D at 0x7f0897e70518>],\n",
              " 'means': [<matplotlib.lines.Line2D at 0x7f0897e701d0>],\n",
              " 'medians': [<matplotlib.lines.Line2D at 0x7f0897ee7e10>],\n",
              " 'whiskers': [<matplotlib.lines.Line2D at 0x7f0897edafd0>,\n",
              "  <matplotlib.lines.Line2D at 0x7f0897ee7390>]}"
            ]
          },
          "metadata": {
            "tags": []
          },
          "execution_count": 15
        },
        {
          "output_type": "display_data",
          "data": {
            "image/png": "[encoded data removed]",
            "text/plain": [
              "<Figure size 864x360 with 1 Axes>"
            ]
          },
          "metadata": {
            "tags": [],
            "needs_background": "light"
          }
        }
      ]
    },
    {
      "cell_type": "code",
      "metadata": {
        "pycharm": {
          "is_executing": false
        },
        "id": "XH2S7EVuOttu"
      },
      "source": [
        "# 보통은 문자열이 아닌 데이터는 삭제하나, 증상의 경우 발열, 체중 등과 같은 내용이 중요하므로 숫자도 살려둔다.\n",
        "# train_review = [review for review in train_data['document'] if type(review) is str]\n",
        "train_symptom = [symptom for symptom in train_data['symptom'] if type(symptom) is (str or int or float)]"
      ],
      "execution_count": 16,
      "outputs": []
    },
    {
      "cell_type": "code",
      "metadata": {
        "pycharm": {
          "is_executing": false
        },
        "id": "M-0Fv2mtOttz",
        "outputId": "5ae32b7c-7a14-4418-9716-5da1e0ea6c90",
        "colab": {
          "base_uri": "https://localhost:8080/",
          "height": 267
        }
      },
      "source": [
        "fig, axe = plt.subplots(ncols=1)\n",
        "fig.set_size_inches(20, 3)\n",
        "sns.countplot(train_data['class'])"
      ],
      "execution_count": 17,
      "outputs": [
        {
          "output_type": "stream",
          "text": [
            "/usr/local/lib/python3.6/dist-packages/seaborn/_decorators.py:43: FutureWarning: Pass the following variable as a keyword arg: x. From version 0.12, the only valid positional argument will be `data`, and passing other arguments without an explicit keyword will result in an error or misinterpretation.\n",
            "  FutureWarning\n"
          ],
          "name": "stderr"
        },
        {
          "output_type": "execute_result",
          "data": {
            "text/plain": [
              "<matplotlib.axes._subplots.AxesSubplot at 0x7f0897e99a58>"
            ]
          },
          "metadata": {
            "tags": []
          },
          "execution_count": 17
        },
        {
          "output_type": "display_data",
          "data": {
            "image/png": "[encoded data removed]",
            "text/plain": [
              "<Figure size 1440x216 with 1 Axes>"
            ]
          },
          "metadata": {
            "tags": [],
            "needs_background": "light"
          }
        }
      ]
    },
    {
      "cell_type": "code",
      "metadata": {
        "id": "dm7YB7_foxpq"
      },
      "source": [
        "# DERM: 피부과 / GS: 외과 / IP: 호흡기내과 / FM: 가정의학과 / GI: 소화기내과 / OPH: 안과\n",
        "# NR: 신경과 / ENT: 이비인후과 / PSY : 신경정신과 / HEON: 혈액종양내과 / RHEU: 류마티스내과\n",
        "# REHM: 재활의학과 / NS: 신경외과 / AN: 마취통증의학과 / DENT: 치과 / PS: 성형외과\n",
        "# RAD: 영상의학과 / CS: 흉부외과 / INFC: 감염내과 / RAON: 방사선종양학과 / OS: 정형외과 \n",
        "# EMR: 응급의학과 / ENDO: 내분비내과 / CA: 순환기내과 / KTM: 한방과 / OBGY: 산부인과\n",
        "# URO: 비뇨기과 / ALL: 알레르기 내과 / NPH: 신장내과 / OEM:직업환경의학과 / COAN: 대장항문외과\n",
        "# LAB: 진단검사의학과 "
      ],
      "execution_count": 18,
      "outputs": []
    },
    {
      "cell_type": "code",
      "metadata": {
        "id": "kaz-k-Pqa28q",
        "outputId": "1c4f3ccf-169c-4586-e43b-7ead122bc4d5",
        "colab": {
          "base_uri": "https://localhost:8080/",
          "height": 51
        }
      },
      "source": [
        "# 이게 왜 생겼는지는 모르겠지만....삭제.\n",
        "train_data = train_data[train_data[\"class\"]!=\"combined\"]\n",
        "print(len(train_data))\n",
        "test_data = test_data[test_data[\"class\"]!=\"combined\"]\n",
        "print(len(test_data))"
      ],
      "execution_count": 19,
      "outputs": [
        {
          "output_type": "stream",
          "text": [
            "94443\n",
            "23611\n"
          ],
          "name": "stdout"
        }
      ]
    },
    {
      "cell_type": "code",
      "metadata": {
        "id": "xebYAPY8tVri",
        "outputId": "f850f24f-8660-47b1-f8fe-436ea44883f1",
        "colab": {
          "base_uri": "https://localhost:8080/",
          "height": 204
        }
      },
      "source": [
        "# convert class from string to integer\n",
        "class_to_label = {'DERM': 0, 'GS': 1, 'IP': 2, 'FM': 3, 'GI':4, 'OPH':5,\n",
        "                  'NR': 6, 'ENT': 7, 'PSY': 8, 'HEON': 9, 'RHEU': 10,\n",
        "                  'REHM': 11, 'NS': 12, 'AN': 13, 'DENT': 14, 'PS': 15,\n",
        "                  'RAD': 16, 'CS': 17, 'INFC': 18, 'RAON': 19, 'OS': 20,\n",
        "                  'EMR': 21, 'ENDO': 22, 'CA': 23, 'KTM': 24, 'OBGY': 25,\n",
        "                  'URO': 26, 'ALL': 27, 'NPH': 28, 'OEM': 29, 'COAN': 30,\n",
        "                  'LAB': 31}\n",
        "\n",
        "train_data['label'] = train_data['class'].map(class_to_label)\n",
        "test_data['label'] = test_data['class'].map(class_to_label)\n",
        "train_data.head()"
      ],
      "execution_count": 20,
      "outputs": [
        {
          "output_type": "execute_result",
          "data": {
            "text/html": [
              "<div>\n",
              "<style scoped>\n",
              "    .dataframe tbody tr th:only-of-type {\n",
              "        vertical-align: middle;\n",
              "    }\n",
              "\n",
              "    .dataframe tbody tr th {\n",
              "        vertical-align: top;\n",
              "    }\n",
              "\n",
              "    .dataframe thead th {\n",
              "        text-align: right;\n",
              "    }\n",
              "</style>\n",
              "<table border=\"1\" class=\"dataframe\">\n",
              "  <thead>\n",
              "    <tr style=\"text-align: right;\">\n",
              "      <th></th>\n",
              "      <th>symptom</th>\n",
              "      <th>class</th>\n",
              "      <th>label</th>\n",
              "    </tr>\n",
              "  </thead>\n",
              "  <tbody>\n",
              "    <tr>\n",
              "      <th>48994</th>\n",
              "      <td>손톱에 빨간 줄이 생겼습니다.</td>\n",
              "      <td>DERM</td>\n",
              "      <td>0</td>\n",
              "    </tr>\n",
              "    <tr>\n",
              "      <th>77552</th>\n",
              "      <td>81세 직장암 초기 진단 수술하는게 맞을까요?</td>\n",
              "      <td>GS</td>\n",
              "      <td>1</td>\n",
              "    </tr>\n",
              "    <tr>\n",
              "      <th>69473</th>\n",
              "      <td>기침하면 잠깐잠깐 호흡편해져요..</td>\n",
              "      <td>IP</td>\n",
              "      <td>2</td>\n",
              "    </tr>\n",
              "    <tr>\n",
              "      <th>4200</th>\n",
              "      <td>열이 나요</td>\n",
              "      <td>FM</td>\n",
              "      <td>3</td>\n",
              "    </tr>\n",
              "    <tr>\n",
              "      <th>2506</th>\n",
              "      <td>무슨 혈관이 터진건가요??병원에 가야할까요??</td>\n",
              "      <td>FM</td>\n",
              "      <td>3</td>\n",
              "    </tr>\n",
              "  </tbody>\n",
              "</table>\n",
              "</div>"
            ],
            "text/plain": [
              "                         symptom class  label\n",
              "48994           손톱에 빨간 줄이 생겼습니다.  DERM      0\n",
              "77552  81세 직장암 초기 진단 수술하는게 맞을까요?    GS      1\n",
              "69473         기침하면 잠깐잠깐 호흡편해져요..    IP      2\n",
              "4200                       열이 나요    FM      3\n",
              "2506   무슨 혈관이 터진건가요??병원에 가야할까요??    FM      3"
            ]
          },
          "metadata": {
            "tags": []
          },
          "execution_count": 20
        }
      ]
    },
    {
      "cell_type": "code",
      "metadata": {
        "pycharm": {
          "is_executing": false
        },
        "id": "Qp8FFTGtOtt1",
        "outputId": "be037612-b1f1-407e-a733-8dbbff1c4424",
        "colab": {
          "base_uri": "https://localhost:8080/",
          "height": 561
        }
      },
      "source": [
        "# severe imbalenced data가 확인되지만 real-world로 반영한다고 생각하고 그대로 진행한다.\n",
        "# 단, FM(가정의학과)의 비중이 너무 높고 오히려 OS 비중이 낮은 것은 본 프로젝트가 군인 대상인 점을 감안하여 조정이 필요할 것 같다.\n",
        "for i in range(num_classes):\n",
        "  print(\"증상 개수: {}\".format(train_data['class'].value_counts()[i]))"
      ],
      "execution_count": 21,
      "outputs": [
        {
          "output_type": "stream",
          "text": [
            "증상 개수: 10911\n",
            "증상 개수: 9525\n",
            "증상 개수: 9415\n",
            "증상 개수: 9353\n",
            "증상 개수: 7264\n",
            "증상 개수: 6592\n",
            "증상 개수: 6386\n",
            "증상 개수: 5333\n",
            "증상 개수: 4524\n",
            "증상 개수: 3296\n",
            "증상 개수: 3209\n",
            "증상 개수: 2844\n",
            "증상 개수: 2492\n",
            "증상 개수: 2338\n",
            "증상 개수: 2250\n",
            "증상 개수: 1736\n",
            "증상 개수: 1352\n",
            "증상 개수: 1015\n",
            "증상 개수: 922\n",
            "증상 개수: 668\n",
            "증상 개수: 606\n",
            "증상 개수: 534\n",
            "증상 개수: 506\n",
            "증상 개수: 374\n",
            "증상 개수: 350\n",
            "증상 개수: 156\n",
            "증상 개수: 149\n",
            "증상 개수: 123\n",
            "증상 개수: 97\n",
            "증상 개수: 57\n",
            "증상 개수: 57\n",
            "증상 개수: 9\n"
          ],
          "name": "stdout"
        }
      ]
    },
    {
      "cell_type": "code",
      "metadata": {
        "pycharm": {
          "is_executing": false
        },
        "id": "TjeHWcoZOtt3"
      },
      "source": [
        "# 각 증상 서술의 단어 수를 확인.\n",
        "# 데이터를 띄어쓰기 기준으로 나눠서 그 개수를 하나의 변수로 할당한다.\n",
        "train_word_counts = train_data['symptom'].astype(str).apply(lambda x:len(x.split(' ')))"
      ],
      "execution_count": 22,
      "outputs": []
    },
    {
      "cell_type": "code",
      "metadata": {
        "pycharm": {
          "is_executing": false
        },
        "id": "B7NsExhPOtt5",
        "outputId": "be672b61-a454-4ecd-eed2-f77a9f33e8fc",
        "colab": {
          "base_uri": "https://localhost:8080/",
          "height": 645
        }
      },
      "source": [
        "plt.figure(figsize=(15, 10))\n",
        "plt.hist(train_word_counts, bins=50, facecolor='r',label='train')\n",
        "plt.title('Log-Histogram of word count in symptom', fontsize=15)\n",
        "plt.yscale('log', nonposy='clip')\n",
        "plt.legend()\n",
        "plt.xlabel('Number of symptom', fontsize=15)\n",
        "plt.ylabel('Number of symptom', fontsize=15)"
      ],
      "execution_count": 23,
      "outputs": [
        {
          "output_type": "execute_result",
          "data": {
            "text/plain": [
              "Text(0, 0.5, 'Number of symptom')"
            ]
          },
          "metadata": {
            "tags": []
          },
          "execution_count": 23
        },
        {
          "output_type": "display_data",
          "data": {
            "image/png": "[encoded data removed]",
            "text/plain": [
              "<Figure size 1080x720 with 1 Axes>"
            ]
          },
          "metadata": {
            "tags": [],
            "needs_background": "light"
          }
        }
      ]
    },
    {
      "cell_type": "code",
      "metadata": {
        "pycharm": {
          "is_executing": false
        },
        "id": "aSjyoSNQOtt8",
        "outputId": "3737a113-47c5-4ff2-9cd3-b9ccff3a38c9",
        "colab": {
          "base_uri": "https://localhost:8080/",
          "height": 136
        }
      },
      "source": [
        "print('증상 단어 개수 최대 값: {}'.format(np.max(train_word_counts)))\n",
        "print('증상 단어 개수 최소 값: {}'.format(np.min(train_word_counts)))\n",
        "print('증상 단어 개수 평균 값: {:.2f}'.format(np.mean(train_word_counts)))\n",
        "print('증상 단어 개수 표준편차: {:.2f}'.format(np.std(train_word_counts)))\n",
        "print('증상 단어 개수 중간 값: {}'.format(np.median(train_word_counts)))\n",
        "# 사분위의 대한 경우는 0~100 스케일로 되어있음\n",
        "print('증상 단어 개수 제 1 사분위: {}'.format(np.percentile(train_word_counts, 25)))\n",
        "print('증상 단어 개수 제 3 사분위: {}'.format(np.percentile(train_word_counts, 75)))"
      ],
      "execution_count": 24,
      "outputs": [
        {
          "output_type": "stream",
          "text": [
            "증상 단어 개수 최대 값: 52\n",
            "증상 단어 개수 최소 값: 1\n",
            "증상 단어 개수 평균 값: 4.82\n",
            "증상 단어 개수 표준편차: 2.90\n",
            "증상 단어 개수 중간 값: 4.0\n",
            "증상 단어 개수 제 1 사분위: 3.0\n",
            "증상 단어 개수 제 3 사분위: 7.0\n"
          ],
          "name": "stdout"
        }
      ]
    },
    {
      "cell_type": "code",
      "metadata": {
        "pycharm": {
          "is_executing": false
        },
        "id": "0g2X2ZxHOtt9",
        "outputId": "7e87d24d-5bb7-43fb-b30c-7077d4e11e61",
        "colab": {
          "base_uri": "https://localhost:8080/",
          "height": 51
        }
      },
      "source": [
        "# 특수문자 확인하기\n",
        "qmarks = np.mean(train_data['symptom'].astype(str).apply(lambda x: '?' in x)) # 물음표가 구두점으로 쓰임\n",
        "fullstop = np.mean(train_data['symptom'].astype(str).apply(lambda x: '.' in x)) # 마침표\n",
        "                  \n",
        "print('물음표가있는 질문: {:.2f}%'.format(qmarks * 100))\n",
        "print('마침표가 있는 질문: {:.2f}%'.format(fullstop * 100))"
      ],
      "execution_count": 25,
      "outputs": [
        {
          "output_type": "stream",
          "text": [
            "물음표가있는 질문: 20.85%\n",
            "마침표가 있는 질문: 29.94%\n"
          ],
          "name": "stdout"
        }
      ]
    },
    {
      "cell_type": "markdown",
      "metadata": {
        "id": "hcAJvcUQOtt_"
      },
      "source": [
        "## 2. BERT를 이용한 fine tuning"
      ]
    },
    {
      "cell_type": "code",
      "metadata": {
        "id": "sSW5G8i_OANS",
        "outputId": "30ca09c0-5646-430a-e477-8c1b281b8581",
        "colab": {
          "base_uri": "https://localhost:8080/",
          "height": 360
        }
      },
      "source": [
        "# installing transforemrs\n",
        "!pip install transformers"
      ],
      "execution_count": 26,
      "outputs": [
        {
          "output_type": "stream",
          "text": [
            "Requirement already satisfied: transformers in /usr/local/lib/python3.6/dist-packages (3.3.1)\n",
            "Requirement already satisfied: dataclasses; python_version < \"3.7\" in /usr/local/lib/python3.6/dist-packages (from transformers) (0.7)\n",
            "Requirement already satisfied: tokenizers==0.8.1.rc2 in /usr/local/lib/python3.6/dist-packages (from transformers) (0.8.1rc2)\n",
            "Requirement already satisfied: sacremoses in /usr/local/lib/python3.6/dist-packages (from transformers) (0.0.43)\n",
            "Requirement already satisfied: sentencepiece!=0.1.92 in /usr/local/lib/python3.6/dist-packages (from transformers) (0.1.91)\n",
            "Requirement already satisfied: numpy in /usr/local/lib/python3.6/dist-packages (from transformers) (1.18.5)\n",
            "Requirement already satisfied: filelock in /usr/local/lib/python3.6/dist-packages (from transformers) (3.0.12)\n",
            "Requirement already satisfied: regex!=2019.12.17 in /usr/local/lib/python3.6/dist-packages (from transformers) (2019.12.20)\n",
            "Requirement already satisfied: requests in /usr/local/lib/python3.6/dist-packages (from transformers) (2.23.0)\n",
            "Requirement already satisfied: packaging in /usr/local/lib/python3.6/dist-packages (from transformers) (20.4)\n",
            "Requirement already satisfied: tqdm>=4.27 in /usr/local/lib/python3.6/dist-packages (from transformers) (4.41.1)\n",
            "Requirement already satisfied: click in /usr/local/lib/python3.6/dist-packages (from sacremoses->transformers) (7.1.2)\n",
            "Requirement already satisfied: six in /usr/local/lib/python3.6/dist-packages (from sacremoses->transformers) (1.15.0)\n",
            "Requirement already satisfied: joblib in /usr/local/lib/python3.6/dist-packages (from sacremoses->transformers) (0.16.0)\n",
            "Requirement already satisfied: idna<3,>=2.5 in /usr/local/lib/python3.6/dist-packages (from requests->transformers) (2.10)\n",
            "Requirement already satisfied: chardet<4,>=3.0.2 in /usr/local/lib/python3.6/dist-packages (from requests->transformers) (3.0.4)\n",
            "Requirement already satisfied: certifi>=2017.4.17 in /usr/local/lib/python3.6/dist-packages (from requests->transformers) (2020.6.20)\n",
            "Requirement already satisfied: urllib3!=1.25.0,!=1.25.1,<1.26,>=1.21.1 in /usr/local/lib/python3.6/dist-packages (from requests->transformers) (1.24.3)\n",
            "Requirement already satisfied: pyparsing>=2.0.2 in /usr/local/lib/python3.6/dist-packages (from packaging->transformers) (2.4.7)\n"
          ],
          "name": "stdout"
        }
      ]
    },
    {
      "cell_type": "code",
      "metadata": {
        "id": "pfIAQqz5azhL",
        "outputId": "8248643d-e5bd-4782-e369-f10708999dfe",
        "colab": {
          "base_uri": "https://localhost:8080/",
          "height": 1000
        }
      },
      "source": [
        "### To solve the error(AttributeError: 'tuple' object has no attribute 'shape' error) while fitting model in Colab\n",
        "## If using general IDE, latest version(2.3.0) of tensorflow might work.\n",
        "\n",
        "!pip install tensorflow==2.1.0"
      ],
      "execution_count": 42,
      "outputs": [
        {
          "output_type": "stream",
          "text": [
            "Collecting tensorflow==2.1.0\n",
            "\u001b[?25l  Downloading https://files.pythonhosted.org/packages/85/d4/c0cd1057b331bc38b65478302114194bd8e1b9c2bbc06e300935c0e93d90/tensorflow-2.1.0-cp36-cp36m-manylinux2010_x86_64.whl (421.8MB)\n",
            "\u001b[K     |████████████████████████████████| 421.8MB 39kB/s \n",
            "\u001b[?25hRequirement already satisfied: opt-einsum>=2.3.2 in /usr/local/lib/python3.6/dist-packages (from tensorflow==2.1.0) (3.3.0)\n",
            "Requirement already satisfied: google-pasta>=0.1.6 in /usr/local/lib/python3.6/dist-packages (from tensorflow==2.1.0) (0.2.0)\n",
            "Collecting tensorflow-estimator<2.2.0,>=2.1.0rc0\n",
            "\u001b[?25l  Downloading https://files.pythonhosted.org/packages/18/90/b77c328a1304437ab1310b463e533fa7689f4bfc41549593056d812fab8e/tensorflow_estimator-2.1.0-py2.py3-none-any.whl (448kB)\n",
            "\u001b[K     |████████████████████████████████| 450kB 53.5MB/s \n",
            "\u001b[?25hCollecting keras-applications>=1.0.8\n",
            "\u001b[?25l  Downloading https://files.pythonhosted.org/packages/71/e3/19762fdfc62877ae9102edf6342d71b28fbfd9dea3d2f96a882ce099b03f/Keras_Applications-1.0.8-py3-none-any.whl (50kB)\n",
            "\u001b[K     |████████████████████████████████| 51kB 7.9MB/s \n",
            "\u001b[?25hRequirement already satisfied: grpcio>=1.8.6 in /usr/local/lib/python3.6/dist-packages (from tensorflow==2.1.0) (1.32.0)\n",
            "Requirement already satisfied: wrapt>=1.11.1 in /usr/local/lib/python3.6/dist-packages (from tensorflow==2.1.0) (1.12.1)\n",
            "Collecting gast==0.2.2\n",
            "  Downloading https://files.pythonhosted.org/packages/4e/35/11749bf99b2d4e3cceb4d55ca22590b0d7c2c62b9de38ac4a4a7f4687421/gast-0.2.2.tar.gz\n",
            "Requirement already satisfied: keras-preprocessing>=1.1.0 in /usr/local/lib/python3.6/dist-packages (from tensorflow==2.1.0) (1.1.2)\n",
            "Requirement already satisfied: numpy<2.0,>=1.16.0 in /usr/local/lib/python3.6/dist-packages (from tensorflow==2.1.0) (1.18.5)\n",
            "Requirement already satisfied: termcolor>=1.1.0 in /usr/local/lib/python3.6/dist-packages (from tensorflow==2.1.0) (1.1.0)\n",
            "Requirement already satisfied: wheel>=0.26; python_version >= \"3\" in /usr/local/lib/python3.6/dist-packages (from tensorflow==2.1.0) (0.35.1)\n",
            "Requirement already satisfied: scipy==1.4.1; python_version >= \"3\" in /usr/local/lib/python3.6/dist-packages (from tensorflow==2.1.0) (1.4.1)\n",
            "Collecting tensorboard<2.2.0,>=2.1.0\n",
            "\u001b[?25l  Downloading https://files.pythonhosted.org/packages/d9/41/bbf49b61370e4f4d245d4c6051dfb6db80cec672605c91b1652ac8cc3d38/tensorboard-2.1.1-py3-none-any.whl (3.8MB)\n",
            "\u001b[K     |████████████████████████████████| 3.9MB 44.2MB/s \n",
            "\u001b[?25hRequirement already satisfied: absl-py>=0.7.0 in /usr/local/lib/python3.6/dist-packages (from tensorflow==2.1.0) (0.10.0)\n",
            "Requirement already satisfied: protobuf>=3.8.0 in /usr/local/lib/python3.6/dist-packages (from tensorflow==2.1.0) (3.12.4)\n",
            "Requirement already satisfied: six>=1.12.0 in /usr/local/lib/python3.6/dist-packages (from tensorflow==2.1.0) (1.15.0)\n",
            "Requirement already satisfied: astor>=0.6.0 in /usr/local/lib/python3.6/dist-packages (from tensorflow==2.1.0) (0.8.1)\n",
            "Requirement already satisfied: h5py in /usr/local/lib/python3.6/dist-packages (from keras-applications>=1.0.8->tensorflow==2.1.0) (2.10.0)\n",
            "Requirement already satisfied: google-auth<2,>=1.6.3 in /usr/local/lib/python3.6/dist-packages (from tensorboard<2.2.0,>=2.1.0->tensorflow==2.1.0) (1.17.2)\n",
            "Requirement already satisfied: markdown>=2.6.8 in /usr/local/lib/python3.6/dist-packages (from tensorboard<2.2.0,>=2.1.0->tensorflow==2.1.0) (3.2.2)\n",
            "Requirement already satisfied: setuptools>=41.0.0 in /usr/local/lib/python3.6/dist-packages (from tensorboard<2.2.0,>=2.1.0->tensorflow==2.1.0) (50.3.0)\n",
            "Requirement already satisfied: requests<3,>=2.21.0 in /usr/local/lib/python3.6/dist-packages (from tensorboard<2.2.0,>=2.1.0->tensorflow==2.1.0) (2.23.0)\n",
            "Requirement already satisfied: werkzeug>=0.11.15 in /usr/local/lib/python3.6/dist-packages (from tensorboard<2.2.0,>=2.1.0->tensorflow==2.1.0) (1.0.1)\n",
            "Requirement already satisfied: google-auth-oauthlib<0.5,>=0.4.1 in /usr/local/lib/python3.6/dist-packages (from tensorboard<2.2.0,>=2.1.0->tensorflow==2.1.0) (0.4.1)\n",
            "Requirement already satisfied: rsa<5,>=3.1.4; python_version >= \"3\" in /usr/local/lib/python3.6/dist-packages (from google-auth<2,>=1.6.3->tensorboard<2.2.0,>=2.1.0->tensorflow==2.1.0) (4.6)\n",
            "Requirement already satisfied: cachetools<5.0,>=2.0.0 in /usr/local/lib/python3.6/dist-packages (from google-auth<2,>=1.6.3->tensorboard<2.2.0,>=2.1.0->tensorflow==2.1.0) (4.1.1)\n",
            "Requirement already satisfied: pyasn1-modules>=0.2.1 in /usr/local/lib/python3.6/dist-packages (from google-auth<2,>=1.6.3->tensorboard<2.2.0,>=2.1.0->tensorflow==2.1.0) (0.2.8)\n",
            "Requirement already satisfied: importlib-metadata; python_version < \"3.8\" in /usr/local/lib/python3.6/dist-packages (from markdown>=2.6.8->tensorboard<2.2.0,>=2.1.0->tensorflow==2.1.0) (2.0.0)\n",
            "Requirement already satisfied: chardet<4,>=3.0.2 in /usr/local/lib/python3.6/dist-packages (from requests<3,>=2.21.0->tensorboard<2.2.0,>=2.1.0->tensorflow==2.1.0) (3.0.4)\n",
            "Requirement already satisfied: certifi>=2017.4.17 in /usr/local/lib/python3.6/dist-packages (from requests<3,>=2.21.0->tensorboard<2.2.0,>=2.1.0->tensorflow==2.1.0) (2020.6.20)\n",
            "Requirement already satisfied: idna<3,>=2.5 in /usr/local/lib/python3.6/dist-packages (from requests<3,>=2.21.0->tensorboard<2.2.0,>=2.1.0->tensorflow==2.1.0) (2.10)\n",
            "Requirement already satisfied: urllib3!=1.25.0,!=1.25.1,<1.26,>=1.21.1 in /usr/local/lib/python3.6/dist-packages (from requests<3,>=2.21.0->tensorboard<2.2.0,>=2.1.0->tensorflow==2.1.0) (1.24.3)\n",
            "Requirement already satisfied: requests-oauthlib>=0.7.0 in /usr/local/lib/python3.6/dist-packages (from google-auth-oauthlib<0.5,>=0.4.1->tensorboard<2.2.0,>=2.1.0->tensorflow==2.1.0) (1.3.0)\n",
            "Requirement already satisfied: pyasn1>=0.1.3 in /usr/local/lib/python3.6/dist-packages (from rsa<5,>=3.1.4; python_version >= \"3\"->google-auth<2,>=1.6.3->tensorboard<2.2.0,>=2.1.0->tensorflow==2.1.0) (0.4.8)\n",
            "Requirement already satisfied: zipp>=0.5 in /usr/local/lib/python3.6/dist-packages (from importlib-metadata; python_version < \"3.8\"->markdown>=2.6.8->tensorboard<2.2.0,>=2.1.0->tensorflow==2.1.0) (3.2.0)\n",
            "Requirement already satisfied: oauthlib>=3.0.0 in /usr/local/lib/python3.6/dist-packages (from requests-oauthlib>=0.7.0->google-auth-oauthlib<0.5,>=0.4.1->tensorboard<2.2.0,>=2.1.0->tensorflow==2.1.0) (3.1.0)\n",
            "Building wheels for collected packages: gast\n",
            "  Building wheel for gast (setup.py) ... \u001b[?25l\u001b[?25hdone\n",
            "  Created wheel for gast: filename=gast-0.2.2-cp36-none-any.whl size=7542 sha256=48224d6de651d79d4e6758c3cbbbce5c1095e9eb1d7dc530eda15453a9ddab74\n",
            "  Stored in directory: /root/.cache/pip/wheels/5c/2e/7e/a1d4d4fcebe6c381f378ce7743a3ced3699feb89bcfbdadadd\n",
            "Successfully built gast\n",
            "\u001b[31mERROR: tensorflow-probability 0.11.0 has requirement gast>=0.3.2, but you'll have gast 0.2.2 which is incompatible.\u001b[0m\n",
            "Installing collected packages: tensorflow-estimator, keras-applications, gast, tensorboard, tensorflow\n",
            "  Found existing installation: tensorflow-estimator 2.3.0\n",
            "    Uninstalling tensorflow-estimator-2.3.0:\n",
            "      Successfully uninstalled tensorflow-estimator-2.3.0\n",
            "  Found existing installation: gast 0.3.3\n",
            "    Uninstalling gast-0.3.3:\n",
            "      Successfully uninstalled gast-0.3.3\n",
            "  Found existing installation: tensorboard 2.3.0\n",
            "    Uninstalling tensorboard-2.3.0:\n",
            "      Successfully uninstalled tensorboard-2.3.0\n",
            "  Found existing installation: tensorflow 2.3.0\n",
            "    Uninstalling tensorflow-2.3.0:\n",
            "      Successfully uninstalled tensorflow-2.3.0\n",
            "Successfully installed gast-0.2.2 keras-applications-1.0.8 tensorboard-2.1.1 tensorflow-2.1.0 tensorflow-estimator-2.1.0\n"
          ],
          "name": "stdout"
        },
        {
          "output_type": "display_data",
          "data": {
            "application/vnd.colab-display-data+json": {
              "pip_warning": {
                "packages": [
                  "gast",
                  "tensorboard",
                  "tensorflow"
                ]
              }
            }
          },
          "metadata": {
            "tags": []
          }
        }
      ]
    },
    {
      "cell_type": "code",
      "metadata": {
        "id": "_Ucx5zEiL_T4"
      },
      "source": [
        "import re\n",
        "from tqdm import tqdm\n",
        "\n",
        "import tensorflow as tf \n",
        "from transformers import *"
      ],
      "execution_count": 43,
      "outputs": []
    },
    {
      "cell_type": "code",
      "metadata": {
        "id": "u6aWFl1iL_T8"
      },
      "source": [
        "# 시각화\n",
        "\n",
        "def plot_graphs(history, string):\n",
        "    plt.plot(history.history[string])\n",
        "    plt.plot(history.history['val_'+string], '')\n",
        "    plt.xlabel(\"Epochs\")\n",
        "    plt.ylabel(string)\n",
        "    plt.legend([string, 'val_'+string])\n",
        "    plt.show()"
      ],
      "execution_count": 44,
      "outputs": []
    },
    {
      "cell_type": "code",
      "metadata": {
        "id": "w7eBrZJrL_T_"
      },
      "source": [
        "#random seed 고정\n",
        "tf.random.set_seed(seed)\n",
        "\n",
        "BATCH_SIZE = 32\n",
        "NUM_EPOCHS = 3\n",
        "# VALID_SPLIT = 0.2   ##이미 validation split을 straitified하게 시행함.\n",
        "MAX_LEN = 40 # EDA상 3사분위 수가 word수가 7이었다. token 갯수는 대략 40으로 가정해본다.\n",
        "# DATA_IN_PATH = 'data_in/KOR' ## EDA \n",
        "DATA_OUT_PATH = \"/content/drive/My Drive/DataCollection/OSAM\""
      ],
      "execution_count": 45,
      "outputs": []
    },
    {
      "cell_type": "code",
      "metadata": {
        "id": "zjeQkp1XL_UB"
      },
      "source": [
        "tokenizer = BertTokenizer.from_pretrained(\"bert-base-multilingual-cased\", cache_dir='bert_ckpt', do_lower_case=False)"
      ],
      "execution_count": 46,
      "outputs": []
    },
    {
      "cell_type": "markdown",
      "metadata": {
        "id": "AVA28X6_L_UE"
      },
      "source": [
        "### 토크나이저 테스트"
      ]
    },
    {
      "cell_type": "code",
      "metadata": {
        "id": "um3Uyw6sL_UF",
        "outputId": "5edb39c0-7d53-46c5-c3cb-86c072a9f614",
        "colab": {
          "base_uri": "https://localhost:8080/",
          "height": 51
        }
      },
      "source": [
        "test_sentence = \"안녕하세요, 반갑습니다.\"\n",
        "\n",
        "encode = tokenizer.encode(test_sentence)\n",
        "token_print = [tokenizer.decode(token) for token in encode]\n",
        "\n",
        "print(encode)\n",
        "print(token_print)"
      ],
      "execution_count": 47,
      "outputs": [
        {
          "output_type": "stream",
          "text": [
            "[101, 9521, 118741, 35506, 24982, 48549, 117, 9321, 118610, 119081, 48345, 119, 102]\n",
            "['[ C L S ]', '안', '# # 녕', '# # 하', '# # 세', '# # 요', ',', '반', '# # 갑', '# # 습', '# # 니 다', '.', '[ S E P ]']\n"
          ],
          "name": "stdout"
        }
      ]
    },
    {
      "cell_type": "code",
      "metadata": {
        "id": "4-xqaC-GL_UI",
        "outputId": "ee6cd140-e79c-4866-8f9f-8451ac6211f3",
        "colab": {
          "base_uri": "https://localhost:8080/",
          "height": 85
        }
      },
      "source": [
        "kor_encode = tokenizer.encode(\"안녕하세요, 반갑습니다\")\n",
        "eng_encode = tokenizer.encode(\"Hello world\")\n",
        "kor_decode = tokenizer.decode(kor_encode)\n",
        "eng_decode = tokenizer.decode(eng_encode)\n",
        "\n",
        "print(kor_encode)\n",
        "# [101, 9521, 118741, 35506, 24982, 48549, 117, 9321, 118610, 119081, 48345, 102]\n",
        "print(eng_encode)\n",
        "# [101, 31178, 11356, 102]\n",
        "print(kor_decode)\n",
        "# [CLS] 안녕하세요, 반갑습니다 [SEP]\n",
        "print(eng_decode)\n",
        "# [CLS] Hello world [SEP]"
      ],
      "execution_count": 48,
      "outputs": [
        {
          "output_type": "stream",
          "text": [
            "[101, 9521, 118741, 35506, 24982, 48549, 117, 9321, 118610, 119081, 48345, 102]\n",
            "[101, 31178, 11356, 102]\n",
            "[CLS] 안녕하세요, 반갑습니다 [SEP]\n",
            "[CLS] Hello world [SEP]\n"
          ],
          "name": "stdout"
        }
      ]
    },
    {
      "cell_type": "markdown",
      "metadata": {
        "id": "LADqGwjyL_UK"
      },
      "source": [
        "### Symptom to Specialty Classification (SSC)"
      ]
    },
    {
      "cell_type": "code",
      "metadata": {
        "id": "Nhg3buN2L_UN",
        "outputId": "f42ac61f-ca59-414a-baab-c3f03cab9ff0",
        "colab": {
          "base_uri": "https://localhost:8080/",
          "height": 119
        }
      },
      "source": [
        "# 스페셜 토큰\n",
        "print(tokenizer.all_special_tokens, \"\\n\", tokenizer.all_special_ids)\n",
        "\n",
        "# 토크나이저 테스트하기\n",
        "kor_encode = tokenizer.encode(\"안녕하세요, 반갑습니다. \")\n",
        "eng_encode = tokenizer.encode(\"Hello world\")\n",
        "\n",
        "kor_decode = tokenizer.decode(kor_encode)\n",
        "eng_decode = tokenizer.decode(eng_encode)\n",
        "\n",
        "print(kor_encode)\n",
        "print(eng_encode)\n",
        "print(kor_decode)\n",
        "print(eng_decode)"
      ],
      "execution_count": 49,
      "outputs": [
        {
          "output_type": "stream",
          "text": [
            "['[UNK]', '[SEP]', '[PAD]', '[CLS]', '[MASK]'] \n",
            " [100, 102, 0, 101, 103]\n",
            "[101, 9521, 118741, 35506, 24982, 48549, 117, 9321, 118610, 119081, 48345, 119, 102]\n",
            "[101, 31178, 11356, 102]\n",
            "[CLS] 안녕하세요, 반갑습니다. [SEP]\n",
            "[CLS] Hello world [SEP]\n"
          ],
          "name": "stdout"
        }
      ]
    },
    {
      "cell_type": "code",
      "metadata": {
        "id": "teTPLjiCL_UP"
      },
      "source": [
        "# Bert Tokenizer\n",
        "\n",
        "# 참조: https://huggingface.co/transformers/main_classes/tokenizer.html?highlight=encode_plus#transformers.PreTrainedTokenizer.encode_plus\n",
        "\n",
        "def bert_tokenizer(sent, MAX_LEN, truncation=True):\n",
        "    \n",
        "    encoded_dict = tokenizer.encode_plus(\n",
        "        text = sent,\n",
        "        add_special_tokens = True, # Add '[CLS]' and '[SEP]'\n",
        "        max_length = MAX_LEN,           # Pad & truncate all sentences.  \n",
        "        pad_to_max_length = True,\n",
        "        return_attention_mask = True,\n",
        "        truncation = True   # Construct attn. masks.\n",
        "        \n",
        "    )\n",
        "    \n",
        "    input_id = encoded_dict['input_ids']\n",
        "    attention_mask = encoded_dict['attention_mask'] # And its attention mask (simply differentiates padding from non-padding).\n",
        "    token_type_id = encoded_dict['token_type_ids'] # differentiate two sentences\n",
        "    \n",
        "    return input_id, attention_mask, token_type_id"
      ],
      "execution_count": 50,
      "outputs": []
    },
    {
      "cell_type": "code",
      "metadata": {
        "id": "YNYfpctLL_UR",
        "outputId": "da8ca917-f53a-4596-e942-462dc4e8ea74",
        "colab": {
          "base_uri": "https://localhost:8080/",
          "height": 139
        }
      },
      "source": [
        "# train_data \n",
        "\n",
        "input_ids = []\n",
        "attention_masks = []\n",
        "token_type_ids = []\n",
        "train_data_labels = []\n",
        "\n",
        "for train_sent, train_label in tqdm(zip(train_data[\"symptom\"], train_data[\"label\"]), total=len(train_data)):\n",
        "    try:\n",
        "        input_id, attention_mask, token_type_id = bert_tokenizer(train_sent, MAX_LEN)\n",
        "        \n",
        "        input_ids.append(input_id)\n",
        "        attention_masks.append(attention_mask)\n",
        "        token_type_ids.append(token_type_id)\n",
        "        train_data_labels.append(train_label)\n",
        "\n",
        "    except Exception as e:\n",
        "        print(e)\n",
        "        print(train_sent)\n",
        "        pass\n",
        "\n",
        "## check... convert 'movie' to 'symptom'\n",
        "train_symptom_input_ids = np.array(input_ids, dtype=int)\n",
        "train_symptom_attention_masks = np.array(attention_masks, dtype=int)\n",
        "train_symptom_type_ids = np.array(token_type_ids, dtype=int)\n",
        "train_symptom_inputs = (train_symptom_input_ids, train_symptom_attention_masks, train_symptom_type_ids)\n",
        "\n",
        "train_data_labels = np.asarray(train_data_labels, dtype=np.int32) #레이블 토크나이징 리스트\n",
        "\n",
        "print(\"# sents: {}, # labels: {}\".format(len(train_symptom_input_ids), len(train_data_labels)))"
      ],
      "execution_count": 51,
      "outputs": [
        {
          "output_type": "stream",
          "text": [
            "  0%|          | 0/94443 [00:00<?, ?it/s]/usr/local/lib/python3.6/dist-packages/transformers/tokenization_utils_base.py:1773: FutureWarning: The `pad_to_max_length` argument is deprecated and will be removed in a future version, use `padding=True` or `padding='longest'` to pad to the longest sequence in the batch, or use `padding='max_length'` to pad to a max length. In this case, you can give a specific length with `max_length` (e.g. `max_length=45`) or leave max_length to None to pad to the maximal input size of the model (e.g. 512 for Bert).\n",
            "  FutureWarning,\n",
            " 11%|█         | 10525/94443 [00:02<00:16, 4990.64it/s]"
          ],
          "name": "stderr"
        },
        {
          "output_type": "stream",
          "text": [
            "Input nan is not valid. Should be a string, a list/tuple of strings or a list/tuple of integers.\n",
            "nan\n"
          ],
          "name": "stdout"
        },
        {
          "output_type": "stream",
          "text": [
            "100%|██████████| 94443/94443 [00:18<00:00, 4996.36it/s]\n"
          ],
          "name": "stderr"
        },
        {
          "output_type": "stream",
          "text": [
            "# sents: 94442, # labels: 94442\n"
          ],
          "name": "stdout"
        }
      ]
    },
    {
      "cell_type": "code",
      "metadata": {
        "id": "gna_Qkr0yMQ0",
        "outputId": "e4dd0324-cfc1-4e2c-89a0-0f2ce12482b9",
        "colab": {
          "base_uri": "https://localhost:8080/",
          "height": 139
        }
      },
      "source": [
        "# test_data\n",
        "input_ids = []\n",
        "attention_masks = []\n",
        "token_type_ids = []\n",
        "test_data_labels = []\n",
        "\n",
        "for test_sent, test_label in tqdm(zip(test_data[\"symptom\"], test_data[\"label\"])):\n",
        "    try:\n",
        "        input_id, attention_mask, token_type_id = bert_tokenizer(test_sent, MAX_LEN)\n",
        "\n",
        "        input_ids.append(input_id)\n",
        "        attention_masks.append(attention_mask)\n",
        "        token_type_ids.append(token_type_id)\n",
        "        test_data_labels.append(test_label)\n",
        "    except Exception as e:\n",
        "        print(e)\n",
        "        print(test_sent)\n",
        "        pass\n",
        "\n",
        "test_symptom_input_ids = np.array(input_ids, dtype=int)\n",
        "test_symptom_attention_masks = np.array(attention_masks, dtype=int)\n",
        "test_symptom_type_ids = np.array(token_type_ids, dtype=int)\n",
        "test_symptom_inputs = (test_symptom_input_ids, test_symptom_attention_masks, test_symptom_type_ids)\n",
        "\n",
        "test_data_labels = np.asarray(test_data_labels, dtype=np.int32) #레이블 토크나이징 리스트\n",
        "\n",
        "print(\"num sents, labels {}, {}\".format(len(test_symptom_input_ids), len(test_data_labels)))"
      ],
      "execution_count": 52,
      "outputs": [
        {
          "output_type": "stream",
          "text": [
            "0it [00:00, ?it/s]/usr/local/lib/python3.6/dist-packages/transformers/tokenization_utils_base.py:1773: FutureWarning: The `pad_to_max_length` argument is deprecated and will be removed in a future version, use `padding=True` or `padding='longest'` to pad to the longest sequence in the batch, or use `padding='max_length'` to pad to a max length. In this case, you can give a specific length with `max_length` (e.g. `max_length=45`) or leave max_length to None to pad to the maximal input size of the model (e.g. 512 for Bert).\n",
            "  FutureWarning,\n",
            "19067it [00:03, 4692.90it/s]"
          ],
          "name": "stderr"
        },
        {
          "output_type": "stream",
          "text": [
            "Input nan is not valid. Should be a string, a list/tuple of strings or a list/tuple of integers.\n",
            "nan\n"
          ],
          "name": "stdout"
        },
        {
          "output_type": "stream",
          "text": [
            "23611it [00:04, 5004.01it/s]"
          ],
          "name": "stderr"
        },
        {
          "output_type": "stream",
          "text": [
            "num sents, labels 23610, 23610\n"
          ],
          "name": "stdout"
        },
        {
          "output_type": "stream",
          "text": [
            "\n"
          ],
          "name": "stderr"
        }
      ]
    },
    {
      "cell_type": "code",
      "metadata": {
        "id": "UZL3jOmDL_UT",
        "outputId": "992694d5-7bfc-4be5-fe2c-4e98d2023272",
        "colab": {
          "base_uri": "https://localhost:8080/",
          "height": 190
        }
      },
      "source": [
        "# 최대 길이: 40\n",
        "input_id = train_symptom_input_ids[1]\n",
        "attention_mask = train_symptom_attention_masks[1]\n",
        "token_type_id = train_symptom_type_ids[1]\n",
        "\n",
        "print(input_id)\n",
        "print(attention_mask)\n",
        "print(token_type_id)\n",
        "print(tokenizer.decode(input_id))"
      ],
      "execution_count": 53,
      "outputs": [
        {
          "output_type": "stream",
          "text": [
            "[   101  12324  24982   9707  13890 119115 106280   9708  24989   9460\n",
            "  51945  12178  14153   9256  10622 118671  48549    136    102      0\n",
            "      0      0      0      0      0      0      0      0      0      0\n",
            "      0      0      0      0      0      0      0      0      0      0]\n",
            "[1 1 1 1 1 1 1 1 1 1 1 1 1 1 1 1 1 1 1 0 0 0 0 0 0 0 0 0 0 0 0 0 0 0 0 0 0\n",
            " 0 0 0]\n",
            "[0 0 0 0 0 0 0 0 0 0 0 0 0 0 0 0 0 0 0 0 0 0 0 0 0 0 0 0 0 0 0 0 0 0 0 0 0\n",
            " 0 0 0]\n",
            "[CLS] 81세 직장암 초기 진단 수술하는게 맞을까요? [SEP] [PAD] [PAD] [PAD] [PAD] [PAD] [PAD] [PAD] [PAD] [PAD] [PAD] [PAD] [PAD] [PAD] [PAD] [PAD] [PAD] [PAD] [PAD] [PAD] [PAD] [PAD]\n"
          ],
          "name": "stdout"
        }
      ]
    },
    {
      "cell_type": "code",
      "metadata": {
        "id": "eGFGLK7YL_UW",
        "outputId": "fb43c7e1-2c01-4122-c48d-123dc7fb3c90",
        "colab": {
          "base_uri": "https://localhost:8080/",
          "height": 122
        }
      },
      "source": [
        "class TFBertClassifier(tf.keras.Model):\n",
        "    def __init__(self, model_name, dir_path, num_class):\n",
        "        super(TFBertClassifier, self).__init__()\n",
        "\n",
        "        self.bert = TFBertModel.from_pretrained(model_name, cache_dir=dir_path)\n",
        "        self.dropout = tf.keras.layers.Dropout(self.bert.config.hidden_dropout_prob)\n",
        "        self.classifier = tf.keras.layers.Dense(num_class, \n",
        "                                                kernel_initializer=tf.keras.initializers.TruncatedNormal(self.bert.config.initializer_range), \n",
        "                                                name=\"classifier\")\n",
        "        \n",
        "    def call(self, inputs, attention_mask=None, token_type_ids=None, training=False):\n",
        "        \n",
        "        #outputs 값: # sequence_output, pooled_output, (hidden_states), (attentions)\n",
        "        outputs = self.bert(inputs, attention_mask=attention_mask, token_type_ids=token_type_ids)\n",
        "        pooled_output = outputs[1] \n",
        "        pooled_output = self.dropout(pooled_output, training=training)\n",
        "        logits = self.classifier(pooled_output)\n",
        "\n",
        "        return logits\n",
        "\n",
        "cls_model = TFBertClassifier(model_name='bert-base-multilingual-cased',\n",
        "                                  dir_path='bert_ckpt',\n",
        "                                  num_class=num_classes)"
      ],
      "execution_count": 54,
      "outputs": [
        {
          "output_type": "stream",
          "text": [
            "Some weights of the model checkpoint at bert-base-multilingual-cased were not used when initializing TFBertModel: ['nsp___cls', 'mlm___cls']\n",
            "- This IS expected if you are initializing TFBertModel from the checkpoint of a model trained on another task or with another architecture (e.g. initializing a BertForSequenceClassification model from a BertForPretraining model).\n",
            "- This IS NOT expected if you are initializing TFBertModel from the checkpoint of a model that you expect to be exactly identical (initializing a BertForSequenceClassification model from a BertForSequenceClassification model).\n",
            "All the weights of TFBertModel were initialized from the model checkpoint at bert-base-multilingual-cased.\n",
            "If your task is similar to the task the model of the checkpoint was trained on, you can already use TFBertModel for predictions without further training.\n"
          ],
          "name": "stderr"
        }
      ]
    },
    {
      "cell_type": "code",
      "metadata": {
        "id": "oiffibEFL_UY"
      },
      "source": [
        "# 학습 준비하기\n",
        "optimizer = tf.keras.optimizers.Adam(3e-5)\n",
        "loss = tf.keras.losses.SparseCategoricalCrossentropy(from_logits=True)\n",
        "metric = tf.keras.metrics.SparseCategoricalAccuracy(name='accuracy')\n",
        "cls_model.compile(optimizer=optimizer, loss=loss, metrics=[metric], experimental_run_tf_function=False)"
      ],
      "execution_count": 55,
      "outputs": []
    },
    {
      "cell_type": "code",
      "metadata": {
        "id": "dDnJ81zcL_Ua",
        "outputId": "c1597943-eb65-4c3b-e372-5652cc104337",
        "colab": {
          "base_uri": "https://localhost:8080/",
          "height": 428
        }
      },
      "source": [
        "model_name = \"tf2_bert_symptom2class\"\n",
        "\n",
        "\n",
        "\n",
        "# overfitting을 막기 위한 ealrystop 추가\n",
        "earlystop_callback = tf.keras.callbacks.EarlyStopping(monitor='val_accuracy', min_delta=0.0001,patience=2)\n",
        "# min_delta: the threshold that triggers the termination (acc should at least improve 0.0001)\n",
        "# patience: no improvment epochs (patience = 1, 1번 이상 상승이 없으면 종료)\\\n",
        "\n",
        "checkpoint_path = os.path.join(DATA_OUT_PATH, model_name, 'weights.h5')\n",
        "checkpoint_dir = os.path.dirname(checkpoint_path)\n",
        "\n",
        "# Create path if exists\n",
        "if os.path.exists(checkpoint_dir):\n",
        "    print(\"{} -- Folder already exists \\n\".format(checkpoint_dir))\n",
        "else:\n",
        "    os.makedirs(checkpoint_dir, exist_ok=True)\n",
        "    print(\"{} -- Folder create complete \\n\".format(checkpoint_dir))\n",
        "    \n",
        "cp_callback = tf.keras.callbacks.ModelCheckpoint(\n",
        "    checkpoint_path, monitor='val_accuracy', verbose=1, save_best_only=True, save_weights_only=True)\n",
        "\n",
        "# 학습과 eval 시작\n",
        "history = cls_model.fit(train_symptom_inputs, train_data_labels, epochs=NUM_EPOCHS, batch_size=BATCH_SIZE,\n",
        "                    validation_data=(test_symptom_inputs, test_data_labels),\n",
        "                    validation_steps=(len(test_data_labels)/BATCH_SIZE),\n",
        "                    callbacks=[cp_callback, earlystop_callback])\n",
        "\n",
        "#steps_for_epoch\n",
        "\n",
        "print(history.history)"
      ],
      "execution_count": 56,
      "outputs": [
        {
          "output_type": "stream",
          "text": [
            "/content/drive/My Drive/DataCollection/OSAM/tf2_bert_symptom2class -- Folder already exists \n",
            "\n",
            "Epoch 1/3\n",
            "2952/2952 [==============================] - ETA: 0s - loss: 1.9936 - accuracy: 0.3998WARNING:tensorflow:AutoGraph could not transform <function Model.make_test_function.<locals>.test_function at 0x7f08123aa6a8> and will run it as-is.\n",
            "Please report this to the TensorFlow team. When filing the bug, set the verbosity to 10 (on Linux, `export AUTOGRAPH_VERBOSITY=10`) and attach the full output.\n",
            "Cause: Unable to locate the source code of <function Model.make_test_function.<locals>.test_function at 0x7f08123aa6a8>. Note that functions defined in certain environments, like the interactive Python shell do not expose their source code. If that is the case, you should to define them in a .py source file. If you are certain the code is graph-compatible, wrap the call using @tf.autograph.do_not_convert. Original error: could not get source code\n",
            "To silence this warning, decorate the function with @tf.autograph.experimental.do_not_convert\n",
            "WARNING: AutoGraph could not transform <function Model.make_test_function.<locals>.test_function at 0x7f08123aa6a8> and will run it as-is.\n",
            "Please report this to the TensorFlow team. When filing the bug, set the verbosity to 10 (on Linux, `export AUTOGRAPH_VERBOSITY=10`) and attach the full output.\n",
            "Cause: Unable to locate the source code of <function Model.make_test_function.<locals>.test_function at 0x7f08123aa6a8>. Note that functions defined in certain environments, like the interactive Python shell do not expose their source code. If that is the case, you should to define them in a .py source file. If you are certain the code is graph-compatible, wrap the call using @tf.autograph.do_not_convert. Original error: could not get source code\n",
            "To silence this warning, decorate the function with @tf.autograph.experimental.do_not_convert\n",
            "\n",
            "Epoch 00001: val_accuracy improved from -inf to 0.45299, saving model to /content/drive/My Drive/DataCollection/OSAM/tf2_bert_symptom2class/weights.h5\n",
            "2952/2952 [==============================] - 1321s 448ms/step - loss: 1.9936 - accuracy: 0.3998 - val_loss: 1.7529 - val_accuracy: 0.4530\n",
            "Epoch 2/3\n",
            "2952/2952 [==============================] - ETA: 0s - loss: 1.6941 - accuracy: 0.4691\n",
            "Epoch 00002: val_accuracy improved from 0.45299 to 0.47158, saving model to /content/drive/My Drive/DataCollection/OSAM/tf2_bert_symptom2class/weights.h5\n",
            "2952/2952 [==============================] - 1321s 447ms/step - loss: 1.6941 - accuracy: 0.4691 - val_loss: 1.6806 - val_accuracy: 0.4716\n",
            "Epoch 3/3\n",
            "2952/2952 [==============================] - ETA: 0s - loss: 1.5885 - accuracy: 0.4862\n",
            "Epoch 00003: val_accuracy did not improve from 0.47158\n",
            "2952/2952 [==============================] - 1316s 446ms/step - loss: 1.5885 - accuracy: 0.4862 - val_loss: 1.6682 - val_accuracy: 0.4684\n",
            "{'loss': [1.9935593605041504, 1.694136142730713, 1.588531732559204], 'accuracy': [0.39975857734680176, 0.4691133201122284, 0.4862455129623413], 'val_loss': [1.752924919128418, 1.6805750131607056, 1.6682497262954712], 'val_accuracy': [0.4529860317707062, 0.4715798497200012, 0.4684032201766968]}\n"
          ],
          "name": "stdout"
        }
      ]
    },
    {
      "cell_type": "code",
      "metadata": {
        "id": "qZYYNDfzL_Uc",
        "outputId": "c095d4a4-ce1d-4f31-bd69-35614ae9561f",
        "colab": {
          "base_uri": "https://localhost:8080/",
          "height": 279
        }
      },
      "source": [
        "plot_graphs(history, 'loss')"
      ],
      "execution_count": 57,
      "outputs": [
        {
          "output_type": "display_data",
          "data": {
            "image/png": "[encoded data removed]",
            "text/plain": [
              "<Figure size 432x288 with 1 Axes>"
            ]
          },
          "metadata": {
            "tags": [],
            "needs_background": "light"
          }
        }
      ]
    },
    {
      "cell_type": "code",
      "metadata": {
        "id": "7U1VvHZy0CFr",
        "outputId": "f9170c5d-b8fc-42b8-ccee-ccb5eb55f707",
        "colab": {
          "base_uri": "https://localhost:8080/",
          "height": 279
        }
      },
      "source": [
        "plot_graphs(history, 'accuracy')"
      ],
      "execution_count": 58,
      "outputs": [
        {
          "output_type": "display_data",
          "data": {
            "image/png": "[encoded data removed]",
            "text/plain": [
              "<Figure size 432x288 with 1 Axes>"
            ]
          },
          "metadata": {
            "tags": [],
            "needs_background": "light"
          }
        }
      ]
    },
    {
      "cell_type": "markdown",
      "metadata": {
        "id": "ciGaYsBmL_Ue"
      },
      "source": [
        "## Testing for new sentences"
      ]
    },
    {
      "cell_type": "code",
      "metadata": {
        "id": "9EygcsV4OTYx",
        "outputId": "71af1aa7-bb5a-4359-941a-cdb69b7c8d48",
        "colab": {
          "base_uri": "https://localhost:8080/",
          "height": 561
        }
      },
      "source": [
        "# exchanging key and value\n",
        "label_to_class = {v:k for k,v in class_to_label.items()} \n",
        "label_to_class"
      ],
      "execution_count": 59,
      "outputs": [
        {
          "output_type": "execute_result",
          "data": {
            "text/plain": [
              "{0: 'DERM',\n",
              " 1: 'GS',\n",
              " 2: 'IP',\n",
              " 3: 'FM',\n",
              " 4: 'GI',\n",
              " 5: 'OPH',\n",
              " 6: 'NR',\n",
              " 7: 'ENT',\n",
              " 8: 'PSY',\n",
              " 9: 'HEON',\n",
              " 10: 'RHEU',\n",
              " 11: 'REHM',\n",
              " 12: 'NS',\n",
              " 13: 'AN',\n",
              " 14: 'DENT',\n",
              " 15: 'PS',\n",
              " 16: 'RAD',\n",
              " 17: 'CS',\n",
              " 18: 'INFC',\n",
              " 19: 'RAON',\n",
              " 20: 'OS',\n",
              " 21: 'EMR',\n",
              " 22: 'ENDO',\n",
              " 23: 'CA',\n",
              " 24: 'KTM',\n",
              " 25: 'OBGY',\n",
              " 26: 'URO',\n",
              " 27: 'ALL',\n",
              " 28: 'NPH',\n",
              " 29: 'OEM',\n",
              " 30: 'COAN',\n",
              " 31: 'LAB'}"
            ]
          },
          "metadata": {
            "tags": []
          },
          "execution_count": 59
        }
      ]
    },
    {
      "cell_type": "code",
      "metadata": {
        "id": "3pyAqjwxvoVd"
      },
      "source": [
        "# To load a best weights from a saved file (.h5)\n",
        "cls_model.load_weights(checkpoint_path)"
      ],
      "execution_count": 120,
      "outputs": []
    },
    {
      "cell_type": "code",
      "metadata": {
        "id": "vebSBlXTL_Ui"
      },
      "source": [
        "def sentiment_predict(new_sentence):\n",
        "  input_id, attention_mask, token_type_id = bert_tokenizer(new_sentence, MAX_LEN)\n",
        "\n",
        "  new_symptom_input_id = np.array(input_id, dtype=int)\n",
        "  new_symptom_attention_mask = np.array(attention_mask, dtype=int)\n",
        "  new_symptom_type_id = np.array(token_type_id, dtype=int)\n",
        "  new_symptom_input = (new_symptom_input_id, new_symptom_attention_mask, new_symptom_type_id)\n",
        "\n",
        "  y_prob = cls_model.predict(new_symptom_input)\n",
        "  y_label = y_prob.argmax(axis=-1)\n",
        "  y_class = label_to_class.get(y_label[0])\n",
        "  _, acc_score = cls_model.evaluate(new_symptom_input)\n",
        "  \n",
        "  # if(acc_score > 0.5):\n",
        "  print(\"{:.2f}% 확률로 {}과를 방문하셔야합니다.\\n\".format(acc_score * 100, y_class))\n",
        "  # else:\n",
        "  #     print(\"증상을 좀 더 자세히 적어주세요.\")"
      ],
      "execution_count": 130,
      "outputs": []
    },
    {
      "cell_type": "code",
      "metadata": {
        "id": "vDBo00krrw0A",
        "outputId": "b727f7f2-3eb9-4b18-9cc1-05f2fe8ac7a1",
        "colab": {
          "base_uri": "https://localhost:8080/",
          "height": 122
        }
      },
      "source": [
        "sentiment_predict(\"피로가 쌓여 생긴 스트레스로 인한 건강 악화인지 정말로 건강악화인지 모르겠습니다\")"
      ],
      "execution_count": 131,
      "outputs": [
        {
          "output_type": "stream",
          "text": [
            "2/2 [==============================] - 0s 3ms/step - loss: 0.0000e+00 - accuracy: 0.0000e+00\n",
            "0.00% 확률로 NR과를 방문하셔야합니다.\n",
            "\n"
          ],
          "name": "stdout"
        },
        {
          "output_type": "stream",
          "text": [
            "/usr/local/lib/python3.6/dist-packages/transformers/tokenization_utils_base.py:1773: FutureWarning: The `pad_to_max_length` argument is deprecated and will be removed in a future version, use `padding=True` or `padding='longest'` to pad to the longest sequence in the batch, or use `padding='max_length'` to pad to a max length. In this case, you can give a specific length with `max_length` (e.g. `max_length=45`) or leave max_length to None to pad to the maximal input size of the model (e.g. 512 for Bert).\n",
            "  FutureWarning,\n"
          ],
          "name": "stderr"
        }
      ]
    },
    {
      "cell_type": "code",
      "metadata": {
        "id": "sHDkg1uGrzuH"
      },
      "source": [
        ""
      ],
      "execution_count": null,
      "outputs": []
    }
  ]
}