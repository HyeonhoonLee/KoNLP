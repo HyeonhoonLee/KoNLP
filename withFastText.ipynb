{
  "nbformat": 4,
  "nbformat_minor": 0,
  "metadata": {
    "kernelspec": {
      "display_name": "Python 3",
      "language": "python",
      "name": "python3"
    },
    "language_info": {
      "codemirror_mode": {
        "name": "ipython",
        "version": 3
      },
      "file_extension": ".py",
      "mimetype": "text/x-python",
      "name": "python",
      "nbconvert_exporter": "python",
      "pygments_lexer": "ipython3",
      "version": "3.6.8"
    },
    "pycharm": {
      "stem_cell": {
        "cell_type": "raw",
        "metadata": {
          "collapsed": false
        },
        "source": []
      }
    },
    "colab": {
      "name": "BERT_finetune.ipynb",
      "provenance": [],
      "collapsed_sections": [],
      "include_colab_link": true
    },
    "accelerator": "GPU"
  },
  "cells": [
    {
      "cell_type": "markdown",
      "metadata": {
        "id": "view-in-github",
        "colab_type": "text"
      },
      "source": [
        "<a href=\"https://colab.research.google.com/github/HyeonhoonLee/OSAM_NLP/blob/master/withFastText.ipynb\" target=\"_parent\"><img src=\"https://colab.research.google.com/assets/colab-badge.svg\" alt=\"Open In Colab\"/></a>"
      ]
    },
    {
      "cell_type": "markdown",
      "metadata": {
        "id": "7yDz-z2xOttO"
      },
      "source": [
        "## 1. EDA"
      ]
    },
    {
      "cell_type": "code",
      "metadata": {
        "id": "QkYqRRxePBrs",
        "outputId": "cff036ea-3e32-4f4a-e77b-f31b462f7cba",
        "colab": {
          "base_uri": "https://localhost:8080/",
          "height": 34
        }
      },
      "source": [
        "from google.colab import drive\n",
        "drive.mount('/content/drive')"
      ],
      "execution_count": 1,
      "outputs": [
        {
          "output_type": "stream",
          "text": [
            "Drive already mounted at /content/drive; to attempt to forcibly remount, call drive.mount(\"/content/drive\", force_remount=True).\n"
          ],
          "name": "stdout"
        }
      ]
    },
    {
      "cell_type": "code",
      "metadata": {
        "pycharm": {
          "is_executing": false
        },
        "id": "-g4iLcZ6OttQ"
      },
      "source": [
        "import numpy as np \n",
        "import pandas as pd\n",
        "import sklearn \n",
        "from sklearn import model_selection\n",
        "import os\n",
        "import matplotlib.pyplot as plt\n",
        "import seaborn as sns\n",
        "from wordcloud import WordCloud\n",
        "%matplotlib inline"
      ],
      "execution_count": 2,
      "outputs": []
    },
    {
      "cell_type": "code",
      "metadata": {
        "id": "dKe3Ps53RQWS"
      },
      "source": [
        "# randsom seed\n",
        "seed=1234\n",
        "np.random.seed(seed)"
      ],
      "execution_count": 3,
      "outputs": []
    },
    {
      "cell_type": "code",
      "metadata": {
        "id": "ikYl6zF_Z4tF"
      },
      "source": [
        "num_classes=26"
      ],
      "execution_count": 4,
      "outputs": []
    },
    {
      "cell_type": "code",
      "metadata": {
        "pycharm": {
          "is_executing": false
        },
        "id": "iuwiWb5sOttT"
      },
      "source": [
        "DATA_IN_PATH = '/content/drive/My Drive/DataCollection/OSAM/'"
      ],
      "execution_count": 5,
      "outputs": []
    },
    {
      "cell_type": "code",
      "metadata": {
        "pycharm": {
          "is_executing": false
        },
        "id": "2bD6dyZdOttW",
        "outputId": "b240f5d9-6ddf-4da8-f452-c628cb9ecece",
        "colab": {
          "base_uri": "https://localhost:8080/",
          "height": 102
        }
      },
      "source": [
        "print(\"파일 크기 : \")\n",
        "for file in os.listdir(DATA_IN_PATH):\n",
        "    if 'csv' in file :\n",
        "        print(file.ljust(30) + str(round(os.path.getsize(DATA_IN_PATH + file) / 1000000, 2)) + 'MB')"
      ],
      "execution_count": 6,
      "outputs": [
        {
          "output_type": "stream",
          "text": [
            "파일 크기 : \n",
            "combined.csv                  6.62MB\n",
            "combined_dup(-2000).csv       4.55MB\n",
            "combined_clean(-2300).csv     4.51MB\n",
            "combined_clean(6000)_sam.csv  3.98MB\n"
          ],
          "name": "stdout"
        }
      ]
    },
    {
      "cell_type": "code",
      "metadata": {
        "id": "QVXwU5ySQrqy",
        "outputId": "5ed3e303-0eda-4185-9460-4e391ddcb4fb",
        "colab": {
          "base_uri": "https://localhost:8080/",
          "height": 204
        }
      },
      "source": [
        "#loading csv data\n",
        "all_data = pd.read_csv(DATA_IN_PATH + 'combined_clean(6000)_sam.csv', quoting = 2)\n",
        "all_data.head()"
      ],
      "execution_count": 7,
      "outputs": [
        {
          "output_type": "execute_result",
          "data": {
            "text/html": [
              "<div>\n",
              "<style scoped>\n",
              "    .dataframe tbody tr th:only-of-type {\n",
              "        vertical-align: middle;\n",
              "    }\n",
              "\n",
              "    .dataframe tbody tr th {\n",
              "        vertical-align: top;\n",
              "    }\n",
              "\n",
              "    .dataframe thead th {\n",
              "        text-align: right;\n",
              "    }\n",
              "</style>\n",
              "<table border=\"1\" class=\"dataframe\">\n",
              "  <thead>\n",
              "    <tr style=\"text-align: right;\">\n",
              "      <th></th>\n",
              "      <th>symptom</th>\n",
              "      <th>class</th>\n",
              "    </tr>\n",
              "  </thead>\n",
              "  <tbody>\n",
              "    <tr>\n",
              "      <th>0</th>\n",
              "      <td>질문하겠습니다. 이어폰을 음량을 0으로 하고 끼고만 있어도 귀에 안 좋나요?</td>\n",
              "      <td>ENT</td>\n",
              "    </tr>\n",
              "    <tr>\n",
              "      <th>1</th>\n",
              "      <td>독감예방주사</td>\n",
              "      <td>IP</td>\n",
              "    </tr>\n",
              "    <tr>\n",
              "      <th>2</th>\n",
              "      <td>목에 음식물 그대로 끼어서 계속 이물감이 있습니다</td>\n",
              "      <td>ENT</td>\n",
              "    </tr>\n",
              "    <tr>\n",
              "      <th>3</th>\n",
              "      <td>케겔운동 궁금한것</td>\n",
              "      <td>REHM</td>\n",
              "    </tr>\n",
              "    <tr>\n",
              "      <th>4</th>\n",
              "      <td>등 통증 관련문의</td>\n",
              "      <td>NS</td>\n",
              "    </tr>\n",
              "  </tbody>\n",
              "</table>\n",
              "</div>"
            ],
            "text/plain": [
              "                                      symptom class\n",
              "0  질문하겠습니다. 이어폰을 음량을 0으로 하고 끼고만 있어도 귀에 안 좋나요?   ENT\n",
              "1                                      독감예방주사    IP\n",
              "2                 목에 음식물 그대로 끼어서 계속 이물감이 있습니다   ENT\n",
              "3                                   케겔운동 궁금한것  REHM\n",
              "4                                   등 통증 관련문의    NS"
            ]
          },
          "metadata": {
            "tags": []
          },
          "execution_count": 7
        }
      ]
    },
    {
      "cell_type": "code",
      "metadata": {
        "id": "YijzGlUvQ7qw",
        "outputId": "1a1df0a5-1c1f-4609-e47e-a00fd545d7e6",
        "colab": {
          "base_uri": "https://localhost:8080/",
          "height": 34
        }
      },
      "source": [
        "# all_data의 전체 길이\n",
        "len(all_data)"
      ],
      "execution_count": 8,
      "outputs": [
        {
          "output_type": "execute_result",
          "data": {
            "text/plain": [
              "70249"
            ]
          },
          "metadata": {
            "tags": []
          },
          "execution_count": 8
        }
      ]
    },
    {
      "cell_type": "code",
      "metadata": {
        "id": "rTV2Tlej90M9"
      },
      "source": [
        "# # To finding mislabelling with errata\n",
        "# what = all_data.drop_duplicates(\"class\", keep=\"first\")\n",
        "# what"
      ],
      "execution_count": 9,
      "outputs": []
    },
    {
      "cell_type": "code",
      "metadata": {
        "id": "0wLNslArBG64"
      },
      "source": [
        "# gotya = all_data[all_data[\"class\"]==\"UR\"]\n",
        "# gotya"
      ],
      "execution_count": 10,
      "outputs": []
    },
    {
      "cell_type": "code",
      "metadata": {
        "id": "ViZsnvi3VB68"
      },
      "source": [
        "#stratififed split to train_data, test_data\n",
        "from sklearn.model_selection import StratifiedShuffleSplit\n",
        "\n",
        "split = StratifiedShuffleSplit(n_splits=1, test_size=0.2, random_state=seed)\n",
        "\n",
        "for train_idx, test_idx in split.split(all_data, all_data[\"class\"]):\n",
        "    train_data = all_data.loc[train_idx]\n",
        "    test_data = all_data.loc[test_idx]"
      ],
      "execution_count": 11,
      "outputs": []
    },
    {
      "cell_type": "code",
      "metadata": {
        "pycharm": {
          "is_executing": false
        },
        "id": "ZYjVSSndOttc",
        "outputId": "5128d9e3-7147-4d93-f571-9346e322ac7b",
        "colab": {
          "base_uri": "https://localhost:8080/",
          "height": 51
        }
      },
      "source": [
        "print('전체 학습데이터의 개수: {}'.format(len(train_data)))\n",
        "print('전체 학습데이터의 개수: {}'.format(len(test_data)))"
      ],
      "execution_count": 12,
      "outputs": [
        {
          "output_type": "stream",
          "text": [
            "전체 학습데이터의 개수: 56199\n",
            "전체 학습데이터의 개수: 14050\n"
          ],
          "name": "stdout"
        }
      ]
    },
    {
      "cell_type": "code",
      "metadata": {
        "pycharm": {
          "is_executing": false
        },
        "id": "cBkv_j7iOttf"
      },
      "source": [
        "train_length = train_data['symptom'].astype(str).apply(len)"
      ],
      "execution_count": 13,
      "outputs": []
    },
    {
      "cell_type": "code",
      "metadata": {
        "pycharm": {
          "is_executing": false
        },
        "id": "lj0T4cRyOtth",
        "outputId": "e9487837-4442-433d-c355-0bb7d9dd2406",
        "colab": {
          "base_uri": "https://localhost:8080/",
          "height": 119
        }
      },
      "source": [
        "train_length.head()"
      ],
      "execution_count": 14,
      "outputs": [
        {
          "output_type": "execute_result",
          "data": {
            "text/plain": [
              "42791    28\n",
              "8836     14\n",
              "17507    30\n",
              "26685    10\n",
              "11563    32\n",
              "Name: symptom, dtype: int64"
            ]
          },
          "metadata": {
            "tags": []
          },
          "execution_count": 14
        }
      ]
    },
    {
      "cell_type": "code",
      "metadata": {
        "pycharm": {
          "is_executing": false
        },
        "id": "aIzKM-8DOttk",
        "outputId": "ecce9b70-cbb9-43e0-c193-fca8c8fa2cb2",
        "colab": {
          "base_uri": "https://localhost:8080/",
          "height": 367
        }
      },
      "source": [
        "# 그래프에 대한 이미지 사이즈 선언\n",
        "# figsize: (가로, 세로) 형태의 튜플로 입력\n",
        "plt.figure(figsize=(12, 5))\n",
        "# 히스토그램 선언\n",
        "# bins: 히스토그램 값들에 대한 버켓 범위\n",
        "# range: x축 값의 범위\n",
        "# alpha: 그래프 색상 투명도\n",
        "# color: 그래프 색상\n",
        "# label: 그래프에 대한 라벨\n",
        "plt.hist(train_length, bins=200, alpha=0.5, color= 'r', label='word')\n",
        "plt.yscale('log', nonposy='clip')\n",
        "# 그래프 제목\n",
        "plt.title('Log-Histogram of length of symptom')\n",
        "# 그래프 x 축 라벨\n",
        "plt.xlabel('Length of symptom')\n",
        "# 그래프 y 축 라벨\n",
        "plt.ylabel('Number of symptom')"
      ],
      "execution_count": 15,
      "outputs": [
        {
          "output_type": "execute_result",
          "data": {
            "text/plain": [
              "Text(0, 0.5, 'Number of symptom')"
            ]
          },
          "metadata": {
            "tags": []
          },
          "execution_count": 15
        },
        {
          "output_type": "display_data",
          "data": {
            "image/png": "[encoded data removed]",
            "text/plain": [
              "<Figure size 864x360 with 1 Axes>"
            ]
          },
          "metadata": {
            "tags": [],
            "needs_background": "light"
          }
        }
      ]
    },
    {
      "cell_type": "code",
      "metadata": {
        "pycharm": {
          "is_executing": false
        },
        "id": "aj9sdLCIOttp",
        "outputId": "becb914e-e4b5-4667-ee3c-aa753c0e2996",
        "colab": {
          "base_uri": "https://localhost:8080/",
          "height": 136
        }
      },
      "source": [
        "print('증상 길이 최대 값: {}'.format(np.max(train_length)))\n",
        "print('증상 길이 최소 값: {}'.format(np.min(train_length)))\n",
        "print('증상 길이 평균 값: {:.2f}'.format(np.mean(train_length)))\n",
        "print('증상 길이 표준편차: {:.2f}'.format(np.std(train_length)))\n",
        "print('증상 길이 중간 값: {}'.format(np.median(train_length)))\n",
        "# 사분위의 대한 경우는 0~100 스케일로 되어있음\n",
        "print('증상 길이 제 1 사분위: {}'.format(np.percentile(train_length, 25)))\n",
        "print('증상 길이 제 3 사분위: {}'.format(np.percentile(train_length, 75)))"
      ],
      "execution_count": 16,
      "outputs": [
        {
          "output_type": "stream",
          "text": [
            "증상 길이 최대 값: 156\n",
            "증상 길이 최소 값: 1\n",
            "증상 길이 평균 값: 20.42\n",
            "증상 길이 표준편차: 11.03\n",
            "증상 길이 중간 값: 19.0\n",
            "증상 길이 제 1 사분위: 12.0\n",
            "증상 길이 제 3 사분위: 29.0\n"
          ],
          "name": "stdout"
        }
      ]
    },
    {
      "cell_type": "code",
      "metadata": {
        "pycharm": {
          "is_executing": false
        },
        "id": "ONRYrEiPOttr",
        "outputId": "d4fc7048-b6a8-40e1-cee3-60bb4c906260",
        "colab": {
          "base_uri": "https://localhost:8080/",
          "height": 456
        }
      },
      "source": [
        "plt.figure(figsize=(12, 5))\n",
        "# 박스플롯 생성\n",
        "# 첫번째 파라메터: 여러 분포에 대한 데이터 리스트를 입력\n",
        "# labels: 입력한 데이터에 대한 라벨\n",
        "# showmeans: 평균값을 마크함\n",
        "\n",
        "plt.boxplot(train_length,\n",
        "             labels=['counts'],\n",
        "             showmeans=True)"
      ],
      "execution_count": 17,
      "outputs": [
        {
          "output_type": "execute_result",
          "data": {
            "text/plain": [
              "{'boxes': [<matplotlib.lines.Line2D at 0x7f078374ed30>],\n",
              " 'caps': [<matplotlib.lines.Line2D at 0x7f07836d8780>,\n",
              "  <matplotlib.lines.Line2D at 0x7f07836d8b00>],\n",
              " 'fliers': [<matplotlib.lines.Line2D at 0x7f07836e2588>],\n",
              " 'means': [<matplotlib.lines.Line2D at 0x7f07836e2240>],\n",
              " 'medians': [<matplotlib.lines.Line2D at 0x7f07836d8e80>],\n",
              " 'whiskers': [<matplotlib.lines.Line2D at 0x7f07836d8080>,\n",
              "  <matplotlib.lines.Line2D at 0x7f07836d8400>]}"
            ]
          },
          "metadata": {
            "tags": []
          },
          "execution_count": 17
        },
        {
          "output_type": "display_data",
          "data": {
            "image/png": "[encoded data removed]",
            "text/plain": [
              "<Figure size 864x360 with 1 Axes>"
            ]
          },
          "metadata": {
            "tags": [],
            "needs_background": "light"
          }
        }
      ]
    },
    {
      "cell_type": "code",
      "metadata": {
        "pycharm": {
          "is_executing": false
        },
        "id": "XH2S7EVuOttu"
      },
      "source": [
        "# 보통은 문자열이 아닌 데이터는 삭제하나, 증상의 경우 발열, 체중 등과 같은 내용이 중요하므로 숫자도 살려둔다.\n",
        "# train_review = [review for review in train_data['document'] if type(review) is str]\n",
        "train_symptom = [symptom for symptom in train_data['symptom'] if type(symptom) is (str or int or float)]"
      ],
      "execution_count": 18,
      "outputs": []
    },
    {
      "cell_type": "code",
      "metadata": {
        "pycharm": {
          "is_executing": false
        },
        "id": "M-0Fv2mtOttz",
        "outputId": "918e4329-4a19-4250-cdbd-784bbb09ae31",
        "colab": {
          "base_uri": "https://localhost:8080/",
          "height": 282
        }
      },
      "source": [
        "fig, axe = plt.subplots(ncols=1)\n",
        "fig.set_size_inches(20, 3)\n",
        "sns.countplot(train_data['class'])"
      ],
      "execution_count": 19,
      "outputs": [
        {
          "output_type": "stream",
          "text": [
            "/usr/local/lib/python3.6/dist-packages/seaborn/_decorators.py:43: FutureWarning: Pass the following variable as a keyword arg: x. From version 0.12, the only valid positional argument will be `data`, and passing other arguments without an explicit keyword will result in an error or misinterpretation.\n",
            "  FutureWarning\n"
          ],
          "name": "stderr"
        },
        {
          "output_type": "execute_result",
          "data": {
            "text/plain": [
              "<matplotlib.axes._subplots.AxesSubplot at 0x7f078370c048>"
            ]
          },
          "metadata": {
            "tags": []
          },
          "execution_count": 19
        },
        {
          "output_type": "display_data",
          "data": {
            "image/png": "[encoded data removed]",
            "text/plain": [
              "<Figure size 1440x216 with 1 Axes>"
            ]
          },
          "metadata": {
            "tags": [],
            "needs_background": "light"
          }
        }
      ]
    },
    {
      "cell_type": "code",
      "metadata": {
        "id": "dm7YB7_foxpq"
      },
      "source": [
        "# DERM: 피부과 / GS: 외과 / IP: 호흡기내과 / FM: 가정의학과 / GI: 소화기내과 / OPH: 안과\n",
        "# NR: 신경과 / ENT: 이비인후과 / PSY : 신경정신과 / HEON: 혈액종양내과 / RHEU: 류마티스내과\n",
        "# REHM: 재활의학과 / NS: 신경외과 / AN: 마취통증의학과 / DENT: 치과 / PS: 성형외과\n",
        "# RAD: 영상의학과 / CS: 흉부외과 / INFC: 감염내과 / RAON: 방사선종양학과 / OS: 정형외과 \n",
        "# EMR: 응급의학과 / ENDO: 내분비내과 / CA: 순환기내과 / KTM: 한방과 / OBGY: 산부인과\n",
        "# URO: 비뇨기과 / ALL: 알레르기 내과 / NPH: 신장내과 / OEM:직업환경의학과 / COAN: 대장항문외과\n",
        "# LAB: 진단검사의학과 "
      ],
      "execution_count": 20,
      "outputs": []
    },
    {
      "cell_type": "code",
      "metadata": {
        "id": "xebYAPY8tVri",
        "outputId": "b593ce74-8dd1-46dd-fe5e-26aaaa136d70",
        "colab": {
          "base_uri": "https://localhost:8080/",
          "height": 204
        }
      },
      "source": [
        "# convert class from string to integer\n",
        "class_to_label = {'DERM': 0, 'GS': 1, 'IP': 2, 'GI':3, 'OPH':4,\n",
        "                  'NR': 5, 'ENT': 6, 'PSY': 7, 'HEON': 8, 'RHEU': 9,\n",
        "                  'REHM': 10, 'NS': 11, 'AN': 12, 'DENT': 13, 'PS': 14,\n",
        "                  'CS': 15, 'INFC': 16, 'OS': 17,\n",
        "                  'EMR': 18, 'ENDO': 19, 'CA': 20, 'KTM': 21, 'OBGY': 22,\n",
        "                  'URO': 23, 'ALL': 24, 'NPH': 25}\n",
        "\n",
        "train_data['label'] = train_data['class'].map(class_to_label)\n",
        "test_data['label'] = test_data['class'].map(class_to_label)\n",
        "train_data.head()"
      ],
      "execution_count": 21,
      "outputs": [
        {
          "output_type": "execute_result",
          "data": {
            "text/html": [
              "<div>\n",
              "<style scoped>\n",
              "    .dataframe tbody tr th:only-of-type {\n",
              "        vertical-align: middle;\n",
              "    }\n",
              "\n",
              "    .dataframe tbody tr th {\n",
              "        vertical-align: top;\n",
              "    }\n",
              "\n",
              "    .dataframe thead th {\n",
              "        text-align: right;\n",
              "    }\n",
              "</style>\n",
              "<table border=\"1\" class=\"dataframe\">\n",
              "  <thead>\n",
              "    <tr style=\"text-align: right;\">\n",
              "      <th></th>\n",
              "      <th>symptom</th>\n",
              "      <th>class</th>\n",
              "      <th>label</th>\n",
              "    </tr>\n",
              "  </thead>\n",
              "  <tbody>\n",
              "    <tr>\n",
              "      <th>42791</th>\n",
              "      <td>허리 아래쪽 부근이 뻐근하여 통증이 꽤 발생합니다.</td>\n",
              "      <td>AN</td>\n",
              "      <td>12</td>\n",
              "    </tr>\n",
              "    <tr>\n",
              "      <th>8836</th>\n",
              "      <td>정신건강 의학과 질문드려요</td>\n",
              "      <td>PSY</td>\n",
              "      <td>7</td>\n",
              "    </tr>\n",
              "    <tr>\n",
              "      <th>17507</th>\n",
              "      <td>목디스크가 있습니다. 계단 오르내리기 둘다 괜찮은가요?</td>\n",
              "      <td>REHM</td>\n",
              "      <td>10</td>\n",
              "    </tr>\n",
              "    <tr>\n",
              "      <th>26685</th>\n",
              "      <td>이거 비문증인가요?</td>\n",
              "      <td>OPH</td>\n",
              "      <td>4</td>\n",
              "    </tr>\n",
              "    <tr>\n",
              "      <th>11563</th>\n",
              "      <td>끔찍한 꿈을 자주 꾸는데 정신적으로 문제가 있는 걸까요..</td>\n",
              "      <td>PSY</td>\n",
              "      <td>7</td>\n",
              "    </tr>\n",
              "  </tbody>\n",
              "</table>\n",
              "</div>"
            ],
            "text/plain": [
              "                                symptom class  label\n",
              "42791      허리 아래쪽 부근이 뻐근하여 통증이 꽤 발생합니다.    AN     12\n",
              "8836                     정신건강 의학과 질문드려요   PSY      7\n",
              "17507    목디스크가 있습니다. 계단 오르내리기 둘다 괜찮은가요?  REHM     10\n",
              "26685                        이거 비문증인가요?   OPH      4\n",
              "11563  끔찍한 꿈을 자주 꾸는데 정신적으로 문제가 있는 걸까요..   PSY      7"
            ]
          },
          "metadata": {
            "tags": []
          },
          "execution_count": 21
        }
      ]
    },
    {
      "cell_type": "code",
      "metadata": {
        "pycharm": {
          "is_executing": false
        },
        "id": "Qp8FFTGtOtt1",
        "outputId": "65c6529f-73fc-4e06-a497-5ca058db7611",
        "colab": {
          "base_uri": "https://localhost:8080/",
          "height": 459
        }
      },
      "source": [
        "# severe imbalenced data가 확인되지만 real-world로 반영한다고 생각하고 그대로 진행한다.\n",
        "# 단, FM(가정의학과)의 비중이 너무 높고 오히려 OS 비중이 낮은 것은 본 프로젝트가 군인 대상인 점을 감안하여 조정이 필요할 것 같다.\n",
        "for i in range(num_classes):\n",
        "  print(\"증상 개수: {}\".format(train_data['class'].value_counts()[i]))"
      ],
      "execution_count": 22,
      "outputs": [
        {
          "output_type": "stream",
          "text": [
            "증상 개수: 8887\n",
            "증상 개수: 7062\n",
            "증상 개수: 5436\n",
            "증상 개수: 4823\n",
            "증상 개수: 3278\n",
            "증상 개수: 3124\n",
            "증상 개수: 3085\n",
            "증상 개수: 2290\n",
            "증상 개수: 2260\n",
            "증상 개수: 2067\n",
            "증상 개수: 1852\n",
            "증상 개수: 1549\n",
            "증상 개수: 1529\n",
            "증상 개수: 1449\n",
            "증상 개수: 1383\n",
            "증상 개수: 946\n",
            "증상 개수: 875\n",
            "증상 개수: 827\n",
            "증상 개수: 741\n",
            "증상 개수: 738\n",
            "증상 개수: 681\n",
            "증상 개수: 446\n",
            "증상 개수: 322\n",
            "증상 개수: 230\n",
            "증상 개수: 172\n",
            "증상 개수: 147\n"
          ],
          "name": "stdout"
        }
      ]
    },
    {
      "cell_type": "code",
      "metadata": {
        "pycharm": {
          "is_executing": false
        },
        "id": "TjeHWcoZOtt3"
      },
      "source": [
        "# 각 증상 서술의 단어 수를 확인.\n",
        "# 데이터를 띄어쓰기 기준으로 나눠서 그 개수를 하나의 변수로 할당한다.\n",
        "train_word_counts = train_data['symptom'].astype(str).apply(lambda x:len(x.split(' ')))"
      ],
      "execution_count": 23,
      "outputs": []
    },
    {
      "cell_type": "code",
      "metadata": {
        "pycharm": {
          "is_executing": false
        },
        "id": "B7NsExhPOtt5",
        "outputId": "0ed77350-e142-47b5-c05d-f304a8179ebc",
        "colab": {
          "base_uri": "https://localhost:8080/",
          "height": 645
        }
      },
      "source": [
        "plt.figure(figsize=(15, 10))\n",
        "plt.hist(train_word_counts, bins=50, facecolor='r',label='train')\n",
        "plt.title('Log-Histogram of word count in symptom', fontsize=15)\n",
        "plt.yscale('log', nonposy='clip')\n",
        "plt.legend()\n",
        "plt.xlabel('Number of symptom', fontsize=15)\n",
        "plt.ylabel('Number of symptom', fontsize=15)"
      ],
      "execution_count": 24,
      "outputs": [
        {
          "output_type": "execute_result",
          "data": {
            "text/plain": [
              "Text(0, 0.5, 'Number of symptom')"
            ]
          },
          "metadata": {
            "tags": []
          },
          "execution_count": 24
        },
        {
          "output_type": "display_data",
          "data": {
            "image/png": "[encoded data removed]",
            "text/plain": [
              "<Figure size 1080x720 with 1 Axes>"
            ]
          },
          "metadata": {
            "tags": [],
            "needs_background": "light"
          }
        }
      ]
    },
    {
      "cell_type": "code",
      "metadata": {
        "pycharm": {
          "is_executing": false
        },
        "id": "aSjyoSNQOtt8",
        "outputId": "5fae3a91-9616-45ec-c8ee-44ff40427606",
        "colab": {
          "base_uri": "https://localhost:8080/",
          "height": 136
        }
      },
      "source": [
        "print('증상 단어 개수 최대 값: {}'.format(np.max(train_word_counts)))\n",
        "print('증상 단어 개수 최소 값: {}'.format(np.min(train_word_counts)))\n",
        "print('증상 단어 개수 평균 값: {:.2f}'.format(np.mean(train_word_counts)))\n",
        "print('증상 단어 개수 표준편차: {:.2f}'.format(np.std(train_word_counts)))\n",
        "print('증상 단어 개수 중간 값: {}'.format(np.median(train_word_counts)))\n",
        "# 사분위의 대한 경우는 0~100 스케일로 되어있음\n",
        "print('증상 단어 개수 제 1 사분위: {}'.format(np.percentile(train_word_counts, 25)))\n",
        "print('증상 단어 개수 제 3 사분위: {}'.format(np.percentile(train_word_counts, 75)))"
      ],
      "execution_count": 25,
      "outputs": [
        {
          "output_type": "stream",
          "text": [
            "증상 단어 개수 최대 값: 53\n",
            "증상 단어 개수 최소 값: 1\n",
            "증상 단어 개수 평균 값: 4.74\n",
            "증상 단어 개수 표준편차: 2.80\n",
            "증상 단어 개수 중간 값: 4.0\n",
            "증상 단어 개수 제 1 사분위: 3.0\n",
            "증상 단어 개수 제 3 사분위: 6.0\n"
          ],
          "name": "stdout"
        }
      ]
    },
    {
      "cell_type": "code",
      "metadata": {
        "pycharm": {
          "is_executing": false
        },
        "id": "0g2X2ZxHOtt9",
        "outputId": "cfcc7b90-9304-4543-adeb-43c9f53b5722",
        "colab": {
          "base_uri": "https://localhost:8080/",
          "height": 51
        }
      },
      "source": [
        "# 특수문자 확인하기\n",
        "qmarks = np.mean(train_data['symptom'].astype(str).apply(lambda x: '?' in x)) # 물음표가 구두점으로 쓰임\n",
        "fullstop = np.mean(train_data['symptom'].astype(str).apply(lambda x: '.' in x)) # 마침표\n",
        "                  \n",
        "print('물음표가있는 질문: {:.2f}%'.format(qmarks * 100))\n",
        "print('마침표가 있는 질문: {:.2f}%'.format(fullstop * 100))"
      ],
      "execution_count": 26,
      "outputs": [
        {
          "output_type": "stream",
          "text": [
            "물음표가있는 질문: 19.31%\n",
            "마침표가 있는 질문: 33.46%\n"
          ],
          "name": "stdout"
        }
      ]
    },
    {
      "cell_type": "markdown",
      "metadata": {
        "id": "hcAJvcUQOtt_"
      },
      "source": [
        "## 2. FastText를 이용한 fine tuning"
      ]
    },
    {
      "cell_type": "code",
      "metadata": {
        "id": "_Ucx5zEiL_T4"
      },
      "source": [
        "import re\n",
        "from tqdm import tqdm\n",
        "\n",
        "import tensorflow as tf "
      ],
      "execution_count": 27,
      "outputs": []
    },
    {
      "cell_type": "markdown",
      "metadata": {
        "id": "-E8RqPgPXdap"
      },
      "source": [
        "### Hyperparameters"
      ]
    },
    {
      "cell_type": "code",
      "metadata": {
        "id": "w7eBrZJrL_T_"
      },
      "source": [
        "#random seed 고정\n",
        "tf.random.set_seed(seed)\n",
        "\n",
        "BATCH_SIZE = 32\n",
        "NUM_EPOCHS = 10\n",
        "# VALID_SPLIT = 0.2   ##이미 validation split을 straitified하게 시행함.\n",
        "# MAX_LEN = 30 # EDA상 3사분위 수가 word수가 7이었다. token 갯수는 대략 30으로 가정해본다.\n",
        "# DATA_IN_PATH = 'data_in/KOR' ## EDA \n",
        "DATA_OUT_PATH = \"/content/drive/My Drive/DataCollection/OSAM\""
      ],
      "execution_count": 28,
      "outputs": []
    },
    {
      "cell_type": "markdown",
      "metadata": {
        "id": "fTK4Lp5xXhdp"
      },
      "source": [
        "### Tokenizers"
      ]
    },
    {
      "cell_type": "code",
      "metadata": {
        "id": "VtPgP4esv99H"
      },
      "source": [
        ""
      ],
      "execution_count": 28,
      "outputs": []
    },
    {
      "cell_type": "code",
      "metadata": {
        "id": "VBQlQ90nVSCv"
      },
      "source": [
        "from tensorflow.keras.preprocessing.text import Tokenizer\n",
        "from tensorflow.keras.preprocessing.sequence import pad_sequences"
      ],
      "execution_count": 29,
      "outputs": []
    },
    {
      "cell_type": "code",
      "metadata": {
        "id": "zbDorY1aWDGL"
      },
      "source": [
        "train_sentence, train_label = train_data[\"symptom\"], train_data[\"label\"]\n",
        "test_sentence, test_label = test_data[\"symptom\"], test_data[\"label\"]"
      ],
      "execution_count": 30,
      "outputs": []
    },
    {
      "cell_type": "code",
      "metadata": {
        "id": "9zPeEP0QVpal",
        "outputId": "f4b490fd-0571-4423-c733-f2b50f07246e",
        "colab": {
          "base_uri": "https://localhost:8080/",
          "height": 34
        }
      },
      "source": [
        "t = Tokenizer()\n",
        "t.fit_on_texts(train_sentence)\n",
        "# t.fit_on_texts(test_sentence)\n",
        "vocab_size = len(t.word_index)+1\n",
        "vocab_size"
      ],
      "execution_count": 31,
      "outputs": [
        {
          "output_type": "execute_result",
          "data": {
            "text/plain": [
              "69252"
            ]
          },
          "metadata": {
            "tags": []
          },
          "execution_count": 31
        }
      ]
    },
    {
      "cell_type": "code",
      "metadata": {
        "id": "Wpga0Or7WfsE",
        "outputId": "d5998064-d8c6-4c7c-f339-edce109fb372",
        "colab": {
          "base_uri": "https://localhost:8080/",
          "height": 1000
        }
      },
      "source": [
        "X_encoded = t.texts_to_sequences(train_sentence)\n",
        "X_encoded"
      ],
      "execution_count": 32,
      "outputs": [
        {
          "output_type": "execute_result",
          "data": {
            "text/plain": [
              "[[125, 1086, 866, 12096, 6, 2138, 1625],\n",
              " [8862, 19905, 116],\n",
              " [3499, 3, 2139, 19906, 3165, 796],\n",
              " [160, 12097],\n",
              " [19907, 826, 24, 7039, 3166, 120, 41, 182],\n",
              " [1054, 22, 11],\n",
              " [2140, 13],\n",
              " [3897, 908, 1344, 68, 156],\n",
              " [8863, 19908, 34, 3167, 19909, 395],\n",
              " [19910, 438, 2301],\n",
              " [513, 396, 417, 104],\n",
              " [19911],\n",
              " [19912, 229, 19913, 19914],\n",
              " [342, 12098, 1902, 19915, 797],\n",
              " [12099, 19916, 19917, 1301],\n",
              " [12, 19918, 19919, 1483, 161],\n",
              " [1626, 5059, 5],\n",
              " [275, 760, 19920, 528, 5873, 19921, 19922, 12100, 19923, 8864],\n",
              " [19924, 19925, 19926],\n",
              " [374, 19927, 42],\n",
              " [827, 12101, 8865, 118, 10, 101, 236],\n",
              " [24, 7040, 5874, 1704, 581, 9, 33],\n",
              " [12102, 19928, 388, 749, 8866, 110, 93, 325],\n",
              " [12103, 4401, 10, 60, 30],\n",
              " [1810, 72, 12104, 7041, 514, 19929],\n",
              " [990, 296, 222],\n",
              " [778, 361, 666, 133],\n",
              " [8867, 7042, 1556],\n",
              " [44, 69, 909, 3, 19930, 12105, 19931, 19932, 19933, 19934, 19935, 4402, 848],\n",
              " [750,\n",
              "  9,\n",
              "  113,\n",
              "  12106,\n",
              "  19936,\n",
              "  3898,\n",
              "  19937,\n",
              "  19938,\n",
              "  1124,\n",
              "  19939,\n",
              "  3168,\n",
              "  2302,\n",
              "  19940],\n",
              " [62, 2303, 798, 991, 4403],\n",
              " [910, 3169],\n",
              " [1159, 22, 23],\n",
              " [5875, 326, 8868, 12107, 161],\n",
              " [19941, 11, 1557],\n",
              " [150, 479, 66, 110, 250, 5876],\n",
              " [600, 8869, 16, 4],\n",
              " [19942],\n",
              " [89, 1160, 135, 62, 439, 19943, 8870],\n",
              " [5877, 19944, 2, 19945, 1484, 296],\n",
              " [19946, 5060, 107, 2457],\n",
              " [7043, 5878, 7044, 19947, 19948, 12108, 24, 5061],\n",
              " [19949, 826, 19950, 19951, 19952, 45],\n",
              " [2021, 19953, 8871],\n",
              " [7045, 7046, 1345],\n",
              " [19954, 19955, 12109, 182],\n",
              " [5879, 2458, 1410, 5062, 90, 1161, 14],\n",
              " [12110, 667, 3170, 779, 19956, 883, 6, 480],\n",
              " [849, 1346, 317],\n",
              " [19957, 19958, 884, 19959, 992],\n",
              " [2897, 2304, 327, 8872, 4404, 7047, 129, 12111, 5880, 31],\n",
              " [19960, 1261, 354],\n",
              " [19961, 1627, 12112, 4405, 1903, 4406],\n",
              " [2656, 412, 629, 12113, 5063, 12114, 19962, 30],\n",
              " [426, 251, 29, 8873],\n",
              " [3500, 242, 19963, 499, 8874, 193, 19964],\n",
              " [408, 1125, 19965, 54, 19966, 2141, 6, 19967],\n",
              " [19968, 90, 19969, 90, 19970, 19971],\n",
              " [956, 12115, 582, 2305, 431],\n",
              " [12, 19972, 1628, 470, 12116, 19973, 1558, 12117],\n",
              " [34, 129, 17, 3501, 137, 1705, 1629, 61],\n",
              " [12118],\n",
              " [19974, 12119, 2142, 19975, 53, 14],\n",
              " [19976],\n",
              " [19977, 19978, 185, 1218, 304, 5881],\n",
              " [451, 19979, 2459, 27, 7048, 21],\n",
              " [215, 1347, 328, 5882, 1087, 828, 19980, 5883],\n",
              " [12, 1162, 368, 12120, 12121, 8875, 19981, 5064],\n",
              " [2460, 19982, 116],\n",
              " [80, 361, 12122, 311, 1811],\n",
              " [911, 74, 19983, 10, 2022, 57],\n",
              " [1344, 4407, 19984],\n",
              " [1126, 19985, 2898, 8876, 19986, 471, 4],\n",
              " [1302, 47, 68, 1, 5884, 23],\n",
              " [19987, 19988, 12123, 4],\n",
              " [1812, 1127, 993, 18, 12124, 70, 5885, 1024, 312, 529],\n",
              " [18, 62, 2899, 19989, 89, 562, 630],\n",
              " [778, 5886, 5887, 19990],\n",
              " [12125],\n",
              " [130, 109, 7049, 850, 40],\n",
              " [82, 43, 5888, 2657],\n",
              " [12126, 530],\n",
              " [19991, 642, 290, 21],\n",
              " [194, 343, 613, 409, 144],\n",
              " [8877, 1813, 1904, 1485, 19992, 1055, 46, 19993],\n",
              " [19994, 19995, 4408, 19996, 32, 14],\n",
              " [2900, 19997, 3899, 851, 57],\n",
              " [19998, 19999, 8878, 20000, 20001, 520],\n",
              " [20002, 563, 957, 20003, 237, 77],\n",
              " [20004, 2, 9, 1303],\n",
              " [5065, 417, 2658, 20005, 161],\n",
              " [20006, 105, 97, 20007, 489],\n",
              " [379, 827, 2461, 5889, 1262, 36],\n",
              " [20008, 20009, 20010, 31],\n",
              " [455, 799, 2659, 3502, 15],\n",
              " [3900, 20011],\n",
              " [4409, 20012],\n",
              " [5890, 12127, 583, 20013],\n",
              " [19, 912, 20014],\n",
              " [12128, 1630, 994, 20015],\n",
              " [20016, 12129],\n",
              " [413, 20017, 336, 119, 97, 31],\n",
              " [20018, 6, 25, 12130],\n",
              " [34, 7050, 12131, 5891, 1348, 20019],\n",
              " [180, 20020],\n",
              " [5066, 2, 158, 20021],\n",
              " [7045, 256],\n",
              " [132, 5067, 463, 117, 183],\n",
              " [20022, 12132, 141, 4410, 103, 271, 20023, 205, 5068, 20024, 20025, 3901],\n",
              " [151, 20026, 112, 2660, 691],\n",
              " [929, 328, 142, 472, 20027, 29, 20028],\n",
              " [7051, 1411, 3902, 1814, 234, 17, 7052, 8879, 3171],\n",
              " [20029, 1706],\n",
              " [20030, 13],\n",
              " [958, 5069, 5070, 54, 20031, 212, 7053, 20032, 6, 3],\n",
              " [363, 284, 1486, 692],\n",
              " [93, 131, 780, 41, 7054, 77, 1487, 20033],\n",
              " [12133, 23],\n",
              " [20034, 479, 5071, 5072, 202, 152],\n",
              " [5892, 20035, 20036, 167, 7055, 3503, 20037, 1025],\n",
              " [7, 136, 5],\n",
              " [20038, 49],\n",
              " [258, 2306, 20039, 7056, 20040, 1304, 7057],\n",
              " [1559, 7058, 355, 7059],\n",
              " [1488, 8880, 8881, 172],\n",
              " [362, 20041, 8882, 12134, 20042],\n",
              " [20043],\n",
              " [20044, 20045, 156],\n",
              " [1056, 20046, 20047],\n",
              " [2143, 601, 5893, 5894, 471, 4],\n",
              " [12135, 668, 20048, 121],\n",
              " [12, 2144, 259, 20049, 217, 930, 12136, 3504],\n",
              " [12137, 2307, 20, 3172, 1161, 13],\n",
              " [20050, 5895, 5893, 3903, 8883, 20051],\n",
              " [20052],\n",
              " [20053],\n",
              " [20054, 10, 60, 30],\n",
              " [5073, 1, 452, 761],\n",
              " [20055, 96, 94, 83, 2, 106],\n",
              " [52, 762, 20056, 12138],\n",
              " [93, 1349, 203, 12139, 2462, 8884, 2901],\n",
              " [5896, 7060, 112, 20057, 4411, 20058, 5897],\n",
              " [74, 327, 12140, 20059],\n",
              " [12, 134, 344, 8885, 1350, 12141, 364, 1631, 800, 12142],\n",
              " [81, 27, 1, 12143],\n",
              " [167, 20060, 20061],\n",
              " [2661, 243, 1263, 48, 427, 473, 3904, 115, 8886, 260],\n",
              " [7, 2023, 20062, 6, 40],\n",
              " [440, 5],\n",
              " [1707, 99, 44, 9, 514],\n",
              " [959, 655, 4412, 268, 4413],\n",
              " [12144],\n",
              " [185, 12145, 337],\n",
              " [12146, 2024, 8887, 7061],\n",
              " [500, 225],\n",
              " [8888, 20063, 8889, 118, 20064, 2902, 345, 3905],\n",
              " [20065, 564, 109, 693, 1088],\n",
              " [20066],\n",
              " [404, 2145, 20067],\n",
              " [20068],\n",
              " [1089, 656],\n",
              " [404, 12147, 5074, 10, 20069],\n",
              " [12148, 20070, 148, 5898, 223, 12149, 77, 273, 1, 3906, 5899, 20071, 27],\n",
              " [71, 7062, 20072, 5075, 2146, 20073],\n",
              " [1264, 3505, 81, 20074, 3173],\n",
              " [20075, 20076],\n",
              " [20077, 97, 31],\n",
              " [995, 98, 158, 1412, 3907, 48, 110, 781, 2025, 501],\n",
              " [76, 20078, 8890, 829],\n",
              " [20079, 20080],\n",
              " [885, 1, 5900],\n",
              " [12150, 7063, 20081, 20082],\n",
              " [12151, 5076, 16, 41, 276, 36],\n",
              " [153, 20083, 717, 7064, 30],\n",
              " [173, 193, 1219, 20084, 1413, 272, 5077, 12152],\n",
              " [1708, 41, 20085],\n",
              " [565, 343, 207, 40],\n",
              " [20086, 89, 7065, 44, 197],\n",
              " [20087, 20088],\n",
              " [1811, 830, 38],\n",
              " [20089, 643],\n",
              " [1351, 20090, 20091, 12153, 325],\n",
              " [644, 252, 12154, 2463, 12155, 12156],\n",
              " [20092],\n",
              " [521, 5078, 3908, 8891],\n",
              " [20093, 5079, 20094],\n",
              " [20095, 8892, 12157, 119, 97, 31],\n",
              " [206, 2147, 318, 20096, 1709, 727, 253, 3909],\n",
              " [12158, 718, 3506, 5901],\n",
              " [20097, 20098, 20099],\n",
              " [20100],\n",
              " [2148, 80, 2662, 20101, 20102, 1128],\n",
              " [1815, 7066],\n",
              " [7, 584, 645, 244, 409, 230],\n",
              " [145, 585, 18, 3910, 121, 121, 12159],\n",
              " [1816, 22, 15, 35],\n",
              " [20103, 5080],\n",
              " [2149, 1265, 15],\n",
              " [481, 224, 213],\n",
              " [20104, 4414, 12160],\n",
              " [20105],\n",
              " [482, 490],\n",
              " [20106],\n",
              " [20107],\n",
              " [20108, 389, 100, 261],\n",
              " [258, 20109, 150, 20110, 20111],\n",
              " [668, 2903, 996, 33],\n",
              " [20112, 4415, 365, 20113],\n",
              " [34, 3507, 20114, 1489],\n",
              " [2904, 1352, 107],\n",
              " [1490, 1817, 100, 261, 2, 14],\n",
              " [1353, 931, 20115, 1163, 356, 6, 3],\n",
              " [20116, 95, 1905, 11],\n",
              " [20117, 48, 112, 1220, 441, 66],\n",
              " [8893, 397],\n",
              " [418, 852, 103, 1560, 26, 614],\n",
              " [20118, 20119, 3911, 45],\n",
              " [19, 71, 20120, 20121, 253],\n",
              " [8894, 2663, 12161, 501],\n",
              " [19, 8895, 20122, 20123, 451],\n",
              " [2464, 566, 20124, 20125, 82, 20126],\n",
              " [8877, 5081, 12162, 20127, 204, 1813, 40],\n",
              " [125, 2150, 190, 12163, 8, 134, 14, 522],\n",
              " [2151, 2465, 1026, 2308, 20128, 20129],\n",
              " [20130],\n",
              " [602, 1491, 103, 9, 763, 251, 20131, 20132],\n",
              " [81, 5, 1164],\n",
              " [782, 2309, 20133],\n",
              " [2310, 428, 677, 1, 1165, 117, 346],\n",
              " [3912, 20134, 20135, 5902, 5903],\n",
              " [5904, 37, 12164, 4416, 20136, 8896, 3913, 20137, 20138],\n",
              " [12, 20139, 8897, 12165, 20140, 3508, 20141, 1221],\n",
              " [657, 20142, 997, 195, 5082, 678, 3914],\n",
              " [20143, 1492, 5, 20144, 398],\n",
              " [20145, 20146, 20147],\n",
              " [4417, 20148, 679, 16, 4],\n",
              " [3915, 12166, 8898, 18, 1632],\n",
              " [2139, 5083, 1266, 67, 3509, 960],\n",
              " [153, 105, 728, 30],\n",
              " [1561, 8, 998, 20149],\n",
              " [20150],\n",
              " [8899, 8900, 11],\n",
              " [8901, 1562, 305, 2152, 7067, 5905],\n",
              " [8, 81, 853, 1090, 8902, 6, 40],\n",
              " [19, 20151, 20152],\n",
              " [34, 114, 1354, 961, 5084, 78, 20153],\n",
              " [313, 20154, 20155, 215],\n",
              " [5070, 54, 32, 33],\n",
              " [5906, 91, 24, 2466, 3916, 20156],\n",
              " [1166, 28, 139, 69, 20157, 1129, 3510, 152],\n",
              " [7068, 7069, 5085, 24, 1222],\n",
              " [20158],\n",
              " [8903, 1710, 1, 7070],\n",
              " [2311, 20159, 20160, 8904],\n",
              " [90, 5907, 2026],\n",
              " [831, 27, 1, 20161, 27, 3174, 49, 65],\n",
              " [7071, 20162, 7072, 20163, 16, 4],\n",
              " [1267, 4418, 5908, 20],\n",
              " [108, 20164, 7073, 20165, 531, 208, 2027, 1906, 345, 75],\n",
              " [12167, 908, 20166, 12168, 40],\n",
              " [20167,\n",
              "  357,\n",
              "  226,\n",
              "  8905,\n",
              "  99,\n",
              "  261,\n",
              "  567,\n",
              "  4419,\n",
              "  226,\n",
              "  20168,\n",
              "  99,\n",
              "  2664,\n",
              "  388,\n",
              "  5086,\n",
              "  244,\n",
              "  2665,\n",
              "  4420,\n",
              "  567,\n",
              "  1414,\n",
              "  20169],\n",
              " [4421, 20170, 6, 3],\n",
              " [1711, 1493, 20171, 20172, 12169, 54, 5],\n",
              " [962, 4422, 5909, 8906, 40],\n",
              " [1633, 38, 23],\n",
              " [2459, 7074, 1, 12170],\n",
              " [522, 1494, 7075, 347, 20173, 1634, 3],\n",
              " [20174],\n",
              " [2028, 1, 4423, 269, 12171, 375, 963],\n",
              " [1091, 12172, 20175, 20176, 9, 1907, 5910, 20177, 2312, 12173, 7076],\n",
              " [291, 1, 2905],\n",
              " [20178, 20179],\n",
              " [20180, 43, 20181, 4424],\n",
              " [63, 2666, 1167, 1818, 20182, 4425, 20183],\n",
              " [5911, 5],\n",
              " [64, 86, 4426, 2, 2466, 1305, 586, 169, 57],\n",
              " [854, 4427, 780, 12174],\n",
              " [170, 8907, 20184, 658, 248, 59, 1712],\n",
              " [20185],\n",
              " [20186, 3175],\n",
              " [32, 20187, 32, 20188, 4],\n",
              " [1268, 1261, 338, 42],\n",
              " [502, 380, 13, 964],\n",
              " [499, 8, 20189, 6, 106],\n",
              " [20190, 292, 630],\n",
              " [3176, 7077, 2, 9, 801],\n",
              " [853, 1495, 2667],\n",
              " [4428, 113, 5087, 21],\n",
              " [4429, 5912, 829],\n",
              " [502, 89, 12175, 4430, 20191, 30],\n",
              " [20192, 587, 389, 414, 12176],\n",
              " [7, 12177],\n",
              " [20193],\n",
              " [62, 58, 5],\n",
              " [7078, 50, 479, 1563],\n",
              " [194, 1223, 5913],\n",
              " [12178, 20194],\n",
              " [20195, 831],\n",
              " [2029, 1496, 417, 6, 25, 8908, 6, 802, 16, 4],\n",
              " [18, 64, 4431, 39, 2467, 20196, 3177, 46, 25, 521, 260],\n",
              " [2668, 15],\n",
              " [20197, 20198, 137, 1705, 105, 2030, 57],\n",
              " [20199],\n",
              " [238, 8909, 20200, 162, 680, 70, 20201],\n",
              " [20202, 15],\n",
              " [12179, 3917, 1057, 2906],\n",
              " [832, 12180],\n",
              " [4432, 20203, 1497, 77],\n",
              " [51, 1027, 20204, 22, 11, 2907, 829],\n",
              " [1713, 20205, 3511, 20206, 20207, 20208, 12181, 20209],\n",
              " [1635, 3178, 3918, 7, 20210, 3512, 1564],\n",
              " [8910, 183, 245],\n",
              " [2669, 20211, 12182, 53, 20212],\n",
              " [20213, 239, 20214, 17, 5914, 1269, 52, 224, 8911],\n",
              " [20215, 12183, 20216, 5088],\n",
              " [12184, 12185, 20, 23],\n",
              " [20217, 20],\n",
              " [20218],\n",
              " [20219, 669, 12186],\n",
              " [729, 2670, 20220, 427, 282, 8912, 205],\n",
              " [962, 2, 8913],\n",
              " [20221, 20222],\n",
              " [4433, 66, 400, 22, 8914, 156],\n",
              " [2153, 2468, 1355],\n",
              " [34, 3513, 8915, 59, 1356, 1266, 1819, 7079, 204, 886, 20223],\n",
              " [145, 1168],\n",
              " [5089, 20224, 1498, 20225],\n",
              " [965, 191, 8916, 631, 99, 24, 55, 20226],\n",
              " [632, 1, 8917],\n",
              " [20227],\n",
              " [8918],\n",
              " [19, 20228, 21],\n",
              " [20229],\n",
              " [12187, 20230],\n",
              " [1561, 581, 20231, 2154, 1, 1714, 615, 20232],\n",
              " [5090, 8919, 1820, 158, 262],\n",
              " [694],\n",
              " [404, 358, 7080, 12188, 7081, 5915, 16, 802],\n",
              " [5091, 7082],\n",
              " [7083, 2671, 17, 32, 1303, 568],\n",
              " [1224, 2313, 261],\n",
              " [20233, 8920, 532],\n",
              " [7, 2031, 7084, 20234, 33],\n",
              " [19, 20235, 20236, 20237, 20238, 20239],\n",
              " [12189, 12190, 1130, 3514, 79, 55],\n",
              " [20240, 474, 2314, 7085, 20241, 111, 12191],\n",
              " [8921, 8922, 261, 85],\n",
              " [12192, 475, 20242, 1028, 2155, 8923, 20243, 20244],\n",
              " [20245],\n",
              " [20246, 20247, 20248, 273, 5082, 428, 569, 14],\n",
              " [12193, 20, 23],\n",
              " [53, 175, 32, 932, 7086, 171, 146, 7087, 48, 1821, 3179, 12194],\n",
              " [3180, 283, 142, 7088, 802, 20249, 3919, 531],\n",
              " [1636, 2032, 50, 7089, 148, 311],\n",
              " [136, 20250, 96, 616],\n",
              " [4434, 432],\n",
              " [1565, 3181, 8924, 401, 833],\n",
              " [20251, 2672],\n",
              " [20252],\n",
              " [110, 1822, 1220, 3182, 348],\n",
              " [174, 29, 1225, 12195, 29, 20253],\n",
              " [1823, 3],\n",
              " [5092, 20254],\n",
              " [20255],\n",
              " [399, 659],\n",
              " [8899, 8900, 13],\n",
              " [20256, 402, 12196, 1557],\n",
              " [1357, 2156, 20257],\n",
              " [20258, 2897, 49],\n",
              " [8925, 1499, 20259, 1715, 20260],\n",
              " [1092, 20261],\n",
              " [7090, 96, 5916, 1908, 4],\n",
              " [12197, 337],\n",
              " [20262, 1824, 20263, 670, 5917],\n",
              " [764, 20264],\n",
              " [12, 20265, 1909, 8926, 8927],\n",
              " [20266, 20267, 644, 137, 104, 8928, 5093],\n",
              " [617, 8929, 2315, 6, 25, 277, 376, 7091, 161],\n",
              " [52, 5094],\n",
              " [108, 528, 633],\n",
              " [433, 12, 5095, 90, 20268],\n",
              " [12198, 20269, 12194],\n",
              " [8930, 7092, 20270, 439],\n",
              " [20271, 292, 261],\n",
              " [2469, 111, 43, 20272],\n",
              " [215, 1825, 399],\n",
              " [3920, 4435, 867],\n",
              " [426, 1358, 3170, 17, 12199],\n",
              " [428, 12200, 1058],\n",
              " [306, 1265, 13],\n",
              " [5096, 20273, 1093, 3921, 286],\n",
              " [12201, 20, 21],\n",
              " [19, 171, 12202, 20274, 12203, 429],\n",
              " [2673, 463, 5907, 2674, 7093, 20275, 913, 20276, 20277],\n",
              " [1637, 12204, 1131, 54, 11],\n",
              " [20278, 20279],\n",
              " [186, 41, 2470, 442, 20280, 5918, 89, 8931],\n",
              " [426, 20281, 20282, 1566, 181, 20283],\n",
              " [12205, 12206, 20284],\n",
              " [2033, 765],\n",
              " [1810, 8932],\n",
              " [12207],\n",
              " [5905, 570],\n",
              " [12208, 5097, 20285, 20286, 443, 20287, 84],\n",
              " [766, 89, 5919, 20288, 112, 272, 329, 1500, 90, 60, 30],\n",
              " [12209, 49, 20289],\n",
              " [1415, 3922, 12210],\n",
              " [8933],\n",
              " [1490, 1910, 4436, 1270],\n",
              " [3515, 1638, 7094, 187, 17, 20290, 5920],\n",
              " [523, 1826],\n",
              " [20291, 12211, 49, 20292],\n",
              " [2675, 319, 464, 933, 730, 456, 7095, 20293, 16, 3516],\n",
              " [1501, 695, 1306, 89, 329],\n",
              " [173, 41, 749, 2034, 26, 8934, 751, 20294],\n",
              " [50, 1094, 155, 934, 46, 25, 138, 12212],\n",
              " [959, 42],\n",
              " [114, 2, 29, 3923, 397],\n",
              " [163, 8905, 3],\n",
              " [868, 7096, 282, 20295],\n",
              " [7, 803],\n",
              " [869, 135, 130, 146, 12213, 3924],\n",
              " [20296, 20297, 1226, 20298, 540, 2157],\n",
              " [140, 381, 20299],\n",
              " [2676, 12214, 5910, 7097, 20300, 3517],\n",
              " [20301, 15, 20302],\n",
              " [12, 20303],\n",
              " [20304, 20305, 20306, 4437, 13],\n",
              " [533, 1, 1827, 1639, 183, 1502, 68, 23],\n",
              " [1359, 7098, 12215, 79, 209, 375, 21],\n",
              " [3183, 20307, 12216, 1491, 34, 473, 20308],\n",
              " [603, 337, 1, 20309, 1271, 603, 20310, 122, 20311, 75],\n",
              " [20312, 135, 165, 1501, 3518, 5098, 12217, 105, 3519],\n",
              " [12218, 306, 56, 20313],\n",
              " [1344, 8935],\n",
              " [20314],\n",
              " [7099, 216, 1828],\n",
              " [2471, 20315, 671],\n",
              " [219, 366, 1416, 20316],\n",
              " [12219, 20317, 20318, 3925],\n",
              " [12,\n",
              "  8936,\n",
              "  20319,\n",
              "  524,\n",
              "  1417,\n",
              "  17,\n",
              "  8937,\n",
              "  7100,\n",
              "  20320,\n",
              "  47,\n",
              "  870,\n",
              "  25,\n",
              "  1169,\n",
              "  7101,\n",
              "  12220],\n",
              " [476, 646, 12221, 20321],\n",
              " [5921, 369, 479, 1360, 731],\n",
              " [51, 483, 1307, 20322, 12222],\n",
              " [20323],\n",
              " [958, 54, 3520, 834, 14],\n",
              " [1361],\n",
              " [12223, 3184],\n",
              " [8938, 835],\n",
              " [438, 534, 116],\n",
              " [3926, 240, 1, 8939],\n",
              " [1716, 7102, 3521, 1717, 7103, 12224],\n",
              " [12225, 568],\n",
              " [20324, 693, 12226, 8940],\n",
              " [20325, 12227, 20326],\n",
              " [412, 719, 5922],\n",
              " [8, 5099, 14],\n",
              " [5100],\n",
              " [32, 20327, 20328, 7104, 1308, 12228, 12229],\n",
              " [20329],\n",
              " [20330, 1029, 278],\n",
              " [173, 457, 3185, 20331, 1567, 133],\n",
              " [20332, 12230, 8941, 20333, 20334],\n",
              " [76, 2677, 3522, 178, 311],\n",
              " [32, 783, 12231, 98, 20335],\n",
              " [293, 708, 3180, 185, 2158, 47, 20336, 2316, 20337],\n",
              " [784, 3186],\n",
              " [20338, 9, 827, 20339, 12232, 20340],\n",
              " [12233, 12234],\n",
              " [3187, 2159, 582, 8942, 453],\n",
              " [1092, 2908, 474, 1485, 604, 1170, 20341, 1272, 261],\n",
              " [8943, 588, 732],\n",
              " [20342, 27, 10, 60, 57],\n",
              " [94, 8944, 85],\n",
              " [20343],\n",
              " [157, 56, 198, 634, 12235, 3927, 20344],\n",
              " [20345, 20346, 20347, 12236, 52, 752, 935],\n",
              " [342, 7053, 2678, 1227, 7105, 2472, 6, 20348],\n",
              " [20349, 96, 20350, 2679, 20351, 20352],\n",
              " [218, 453, 8945],\n",
              " [2160, 237, 871, 491, 8946],\n",
              " [2473, 728, 57],\n",
              " [500, 5875],\n",
              " [695, 17, 785, 20353, 24, 20354, 4438, 223],\n",
              " [7, 20355, 7106, 2161, 12237, 2680],\n",
              " [5923, 20356, 3928, 20357, 3519],\n",
              " [8947, 306, 8948],\n",
              " [20358, 8949, 3188, 3189],\n",
              " [12238, 1219, 3523, 45],\n",
              " [5924, 764],\n",
              " [20359, 96, 20360, 3524, 5925, 11],\n",
              " [1568, 4439, 234],\n",
              " [20361],\n",
              " [12239, 287, 470, 20362, 20363, 304, 85],\n",
              " [3929, 12240, 20364],\n",
              " [3190, 418, 3930, 20365],\n",
              " [7, 1569, 5, 77],\n",
              " [20366],\n",
              " [966],\n",
              " [404, 20367, 9, 20368, 2035],\n",
              " [2474, 2909, 1491, 69, 936, 48, 84],\n",
              " [20369, 296, 149, 299, 297],\n",
              " [167, 1132, 291, 257, 49],\n",
              " [1718, 1640, 49],\n",
              " [1570, 1228, 91, 836, 299, 12241, 20370, 5101],\n",
              " [7107, 62, 5],\n",
              " [165, 322, 999, 12242, 20371, 322, 681],\n",
              " [1719, 1503, 12243, 20372, 20373],\n",
              " [214, 349, 1571, 5926, 376, 8950, 1362, 5883],\n",
              " [20374, 3931, 20375],\n",
              " [20376, 5927, 268, 1059],\n",
              " [258, 2306, 32, 3932, 2162, 696, 12244],\n",
              " [206, 20377, 20378, 2163, 3525],\n",
              " [476, 1273, 1169],\n",
              " [826, 20379],\n",
              " [2036, 49],\n",
              " [18, 34, 5102, 350, 99, 4440, 39, 2037],\n",
              " [12245, 503, 1418, 20380],\n",
              " [543, 68, 567, 21],\n",
              " [12246, 1, 1274],\n",
              " [66, 10, 20381],\n",
              " [12247, 5928, 20382, 20383],\n",
              " [56, 1223],\n",
              " [307, 2306, 12248, 1095, 589],\n",
              " [5103, 629, 1222],\n",
              " [20384, 46, 7067, 1363, 107],\n",
              " [1641, 243, 20385],\n",
              " [20386, 20387, 216, 465, 20388, 193, 12249],\n",
              " [20389, 20390, 7108, 1229],\n",
              " [4441, 2910, 3191, 20391, 2, 1642, 10, 60, 161],\n",
              " [196, 28, 88, 12250, 670, 7109],\n",
              " [34, 7040, 9, 2038, 214, 1090],\n",
              " [51, 330, 458, 68, 380, 13],\n",
              " [134, 2, 78, 20392, 7110, 259, 4442, 660, 45],\n",
              " [2475, 3933, 1413, 2458, 20393, 8951, 31],\n",
              " [20394, 5104],\n",
              " [400, 27],\n",
              " [2317, 357, 646, 41, 20395, 7111, 365, 20396, 7112, 4443, 11],\n",
              " [733, 61],\n",
              " [334, 20397, 20398, 937, 419, 238, 90, 717, 3192],\n",
              " [62, 2039, 2476],\n",
              " [2911, 1720, 246, 15],\n",
              " [7, 279, 678, 9, 78, 8952, 2318, 614],\n",
              " [1000, 1911, 8953, 20399, 1829, 26, 614],\n",
              " [1230, 116],\n",
              " [308, 5105, 12251, 325],\n",
              " [20400, 17, 20401, 12252, 20402],\n",
              " [20403, 370, 20404],\n",
              " [93, 205, 20405, 6, 40],\n",
              " [443, 14],\n",
              " [10, 67, 127, 2164, 69, 20406, 20407, 12253, 1504, 16, 36],\n",
              " [24, 20408, 20409, 618, 20410],\n",
              " [3526, 1, 180, 8954, 20411, 914, 329, 804, 4],\n",
              " [20412, 3193, 12254],\n",
              " [1505, 252, 307, 5929, 18, 181, 53],\n",
              " [20413, 148, 20414, 797],\n",
              " [5106, 20415, 12255, 829, 20416, 123],\n",
              " [967, 20417, 96, 12256],\n",
              " [3191, 20418, 54, 99, 209],\n",
              " [5107, 20419, 7113, 20420, 154],\n",
              " [1133, 5108, 307, 1830, 12257, 20421],\n",
              " [20422, 20423, 784, 20424, 20425],\n",
              " [5109, 268, 20426, 96, 377],\n",
              " [64, 20427, 5930, 269, 5931],\n",
              " [8955, 22, 13],\n",
              " [109, 12258, 1096, 20428, 9, 5110, 48, 84],\n",
              " [8956, 12259, 1091, 78, 277, 535, 691],\n",
              " [26, 272, 46, 41, 915, 420, 16, 36],\n",
              " [1060, 866, 552, 20429, 1309, 5111, 5112],\n",
              " [12260, 12261],\n",
              " [20430],\n",
              " [1001, 2912, 128],\n",
              " [20431, 123],\n",
              " [5932, 431, 5104],\n",
              " [1720, 246, 15],\n",
              " [50, 146, 29, 20432, 20433, 53, 477],\n",
              " [20434],\n",
              " [5933, 682, 263, 2, 9, 209, 1301, 278],\n",
              " [64, 17, 5113],\n",
              " [12262],\n",
              " [164, 753, 1310, 563, 8957, 187, 12263],\n",
              " [19, 2681, 5114, 12, 1490, 615, 7114],\n",
              " [3194, 872, 188, 159],\n",
              " [47, 804, 359],\n",
              " [4444, 1030, 3195, 20435, 20436],\n",
              " [12264, 21, 12265],\n",
              " [191, 734, 268, 5115, 99, 286],\n",
              " [61, 4445, 1134, 101],\n",
              " [20437, 2913, 3934, 138, 61, 7115],\n",
              " [20438, 7116, 38, 3935, 29, 8958, 8959, 6, 25, 5934],\n",
              " [522, 3196, 12266, 520, 298, 42],\n",
              " [51, 2477, 20439, 20440, 2914],\n",
              " [20441, 2682, 20442, 8960, 5116, 7117, 323],\n",
              " [20443, 20444, 20445, 4],\n",
              " [71, 215, 1347, 484, 77, 12, 18, 7, 111],\n",
              " [83, 329, 1171, 12267],\n",
              " [7118, 20446, 90, 7119, 5110, 329, 10, 3936],\n",
              " [20447],\n",
              " [20448, 20449, 354, 735],\n",
              " [805, 1912, 1125, 20450, 736, 1172, 1231],\n",
              " [335, 1275, 451, 20451, 36],\n",
              " [20452, 20453],\n",
              " [63, 20454, 63, 271, 20455, 536],\n",
              " [3527, 59, 1097, 617, 3937, 193, 8961],\n",
              " [737, 2478, 300, 89, 2319, 12268, 3528],\n",
              " [2479, 20456, 20457],\n",
              " [131, 668, 1232, 205, 132, 264, 69, 20458, 45],\n",
              " [2683, 7120, 52, 418, 2480, 146, 29, 3938, 1002, 12269],\n",
              " [34, 130, 8, 20459, 7121, 3529, 118, 781, 12270, 12271],\n",
              " [1831, 12272, 998, 1913, 20460, 1364, 271],\n",
              " [20461, 1061, 259, 1173],\n",
              " [20462, 21],\n",
              " [2684, 304, 12273],\n",
              " [12274, 1914, 1506, 1915, 1643],\n",
              " [19, 3530, 5117, 2165, 77, 227, 5118],\n",
              " [20463, 1507],\n",
              " [466, 20464],\n",
              " [5935, 217, 1062, 7067, 420, 16, 36],\n",
              " [20465, 80, 5119],\n",
              " [50, 20466, 20467, 20468, 5936],\n",
              " [1626, 80, 210, 1419, 4446, 738, 4447],\n",
              " [8, 187, 18, 20469, 20470, 4448, 55],\n",
              " [5937, 20471, 1572, 20472, 20473],\n",
              " [142, 5120, 141, 2481, 59, 1356, 17, 20474, 9, 1088],\n",
              " [20475, 20476, 20477, 7122, 2470, 20478, 719, 2320, 3531, 20479],\n",
              " [887, 8962, 2482, 2915, 12275, 10, 60, 57],\n",
              " [2685, 20480, 12276, 20481, 7123, 1721],\n",
              " [12277, 95, 11],\n",
              " [7124, 20, 211],\n",
              " [7125, 79, 20482, 20483, 12278, 20484],\n",
              " [20485, 910, 568, 568],\n",
              " [12279],\n",
              " [2166, 3939],\n",
              " [1508, 2167],\n",
              " [12280, 20486, 1573, 227, 5121, 8963],\n",
              " [20487, 20488, 45],\n",
              " [766, 1509, 444, 14],\n",
              " [910, 2686, 94, 88, 11, 35],\n",
              " [51, 5938],\n",
              " [20489, 12281, 20490, 20491, 20492, 529, 2916],\n",
              " [20493, 553, 5939, 1003],\n",
              " [20494],\n",
              " [20495, 20496, 17, 12282, 1510, 4449, 30],\n",
              " [445, 9, 120, 12283, 128],\n",
              " [8964, 5940],\n",
              " [94, 46, 52, 3197, 867, 515, 20497, 204, 20498, 12284, 12285],\n",
              " [8965, 20499, 20500],\n",
              " [1027, 12, 3198, 20501, 2687, 12286],\n",
              " [20502],\n",
              " [132, 295, 264, 1916, 20503, 67, 20504],\n",
              " [251, 3532, 5122],\n",
              " [20505, 20506],\n",
              " [2917, 12287, 248, 485, 20507, 7126, 718],\n",
              " [7127, 5941, 8966, 16, 4],\n",
              " [1060, 2321, 5],\n",
              " [1135, 873, 2322, 20508, 382],\n",
              " [3533, 5123, 2483],\n",
              " [754, 38],\n",
              " [20509],\n",
              " [20510, 1722, 7128, 2484],\n",
              " [544, 38, 531, 2028, 524, 93, 17, 3],\n",
              " [2167, 20511, 5942],\n",
              " [12288, 159, 128],\n",
              " [20512],\n",
              " [3534, 336, 20513, 20, 189],\n",
              " [1723, 293, 4450, 20514, 12, 20515],\n",
              " [293, 20516, 10, 2688, 1504, 16, 4],\n",
              " [5943, 167, 7129, 20517, 20518, 20519],\n",
              " [336, 1905, 116],\n",
              " [12289, 7130, 2040],\n",
              " [968, 4451, 2, 220],\n",
              " [20520, 183, 20521, 96, 492],\n",
              " [20522, 90, 1557],\n",
              " [238, 87, 1062, 5944, 12290, 20523],\n",
              " [2477, 71, 3535, 8967, 12291],\n",
              " [3536, 94],\n",
              " [1420, 8968, 99, 256],\n",
              " [7131, 20524, 20525, 101],\n",
              " [888, 398],\n",
              " [1098],\n",
              " [20526, 20527, 2689],\n",
              " [590, 27, 3940, 20528, 11, 121],\n",
              " [7, 2323, 4452, 12292],\n",
              " [3194, 872],\n",
              " [806, 2669, 20529, 20530],\n",
              " [1411, 20531, 248, 2690, 3537, 3538, 2918, 90, 2690, 1644],\n",
              " [2919, 1645, 351, 277, 4453, 12293, 852, 3941, 55],\n",
              " [889, 521, 20532],\n",
              " [20533],\n",
              " [1505, 1365, 61, 348, 20534],\n",
              " [20535],\n",
              " [20536, 20537, 20538],\n",
              " [20539, 2920, 5124, 12294, 20540, 1832, 20541, 20542],\n",
              " [20543],\n",
              " [64, 50, 1174, 5125, 3199, 203],\n",
              " [389, 1175, 20544],\n",
              " [12295, 72, 11],\n",
              " [20545],\n",
              " [3539, 176, 12296, 44, 20546],\n",
              " [1917, 1, 476, 20547, 493, 390, 1574, 20548],\n",
              " [20549, 3200, 1276, 1575, 751, 2485],\n",
              " [3201, 12297, 1031, 2691],\n",
              " [709, 834, 1918, 20550],\n",
              " [3942, 4454, 20551, 20552, 20553],\n",
              " [4455, 458, 1724, 314, 23],\n",
              " [20554, 20555, 20556, 287, 352, 230],\n",
              " [571, 72, 23, 51],\n",
              " [20557, 20558, 25, 20559, 20560],\n",
              " [5126, 3202, 287, 1919, 1493, 8969, 20561],\n",
              " [4456, 20562, 38, 20563, 13],\n",
              " [114, 155, 177, 20564, 6, 44, 20565],\n",
              " [12298, 2, 8970, 47, 1233, 69, 20566],\n",
              " [1004, 5127, 20567, 938, 914, 16, 4],\n",
              " [93, 24, 41, 12299, 12300],\n",
              " [7132, 8971, 383],\n",
              " [12301, 1136, 20568, 679, 7133, 2168],\n",
              " [7134, 631, 523, 4457],\n",
              " [12302],\n",
              " [3203, 400],\n",
              " [20569, 20570, 1491, 52, 207, 992],\n",
              " [2656, 12303, 8972, 807],\n",
              " [164, 12304, 20571, 110, 79, 55, 3943, 8973],\n",
              " [827, 301, 20572, 1024, 3204, 54, 6, 40],\n",
              " [12305, 47, 605],\n",
              " [8974, 20573, 12306, 20574],\n",
              " [12307, 69, 20575],\n",
              " [2692, 1031],\n",
              " [364, 1920, 47, 116],\n",
              " [20576, 49, 20577],\n",
              " [445, 3205, 25, 491, 20578, 4458, 23],\n",
              " [2140, 582, 486],\n",
              " [3540, 20579],\n",
              " [8975, 20580],\n",
              " [8976, 1493, 8977, 2693, 4459, 2169, 335, 12308, 2694],\n",
              " [554, 2459],\n",
              " [238, 3206, 7135, 7136, 494],\n",
              " [8978, 3944, 7137, 12309, 7138, 20581, 12310, 1176, 2, 467],\n",
              " [5128, 2041, 20582, 8979, 39, 1177, 26, 614],\n",
              " [837, 73, 5945],\n",
              " [2695, 322],\n",
              " [5946, 1032, 529],\n",
              " [5947, 3207, 1511, 503, 1575, 391],\n",
              " [5948, 2, 302, 2919, 459, 2324],\n",
              " [12, 8980, 20583, 12311, 12312, 2325, 20584, 2921],\n",
              " [2486, 20585, 141, 135],\n",
              " [80, 739, 1576, 6, 40],\n",
              " [265, 532],\n",
              " [969, 20586],\n",
              " [5946, 530],\n",
              " [2170, 12313, 20587, 7139, 2487],\n",
              " [20588, 1725],\n",
              " [1268, 3926],\n",
              " [8981, 20589, 20590],\n",
              " [2326, 1063, 20591],\n",
              " [237, 3541, 238, 219, 8982],\n",
              " [219, 1833, 3945],\n",
              " [12314, 20592, 20593, 4],\n",
              " [916, 8983, 323, 8984, 84],\n",
              " [668, 661],\n",
              " [682, 5949, 1311, 666, 133],\n",
              " [445, 242, 1223],\n",
              " [117, 1, 12315],\n",
              " [939, 20594, 52, 12316, 12317, 1834, 838],\n",
              " [8985, 20595, 20596, 20597, 20598],\n",
              " [537, 220],\n",
              " [26, 619, 290, 359],\n",
              " [12318, 8986, 635, 41, 3208, 252],\n",
              " [5950, 20599, 59, 12319, 20600],\n",
              " [2148, 1366, 3946, 20601, 104, 20602],\n",
              " [244, 20603, 20604, 20605, 1367, 20606, 20607],\n",
              " [1099, 135, 80, 1064, 409, 403, 1005],\n",
              " [237, 12320, 20608, 2155, 122, 2488, 223, 1033, 3209, 65],\n",
              " [20609, 1500, 545, 4460, 12321],\n",
              " [87, 709, 553, 855],\n",
              " [215, 970],\n",
              " [764, 8987, 8988, 762, 319, 75],\n",
              " [12322, 7140, 8989, 5129],\n",
              " [6, 17, 40],\n",
              " [591, 12323, 12324, 917, 8990, 12325, 31, 257, 95, 591],\n",
              " [766, 20610, 83],\n",
              " [142, 592, 803, 2489, 1312, 5130, 20611, 172],\n",
              " [8991, 971, 4461, 968, 1912, 8, 74, 14],\n",
              " [1277, 874, 42],\n",
              " [4462, 5131],\n",
              " [2171, 786, 22, 116],\n",
              " [246, 126, 787],\n",
              " [20612, 2172, 126, 20613, 583, 20614],\n",
              " [7, 504, 2, 203],\n",
              " [12326, 118, 1368, 5908, 49],\n",
              " [20615, 398],\n",
              " [20616, 10, 3542],\n",
              " [7071, 5132, 2173],\n",
              " [1835, 80, 2174],\n",
              " [12327, 15],\n",
              " [8992, 5951, 20617, 20618, 12192, 8993, 20619],\n",
              " [76, 3210, 8994, 344, 403, 1350, 2175, 303, 4463],\n",
              " [91, 755, 7141, 8995, 1646, 5918, 20620],\n",
              " [342, 2042, 6, 40],\n",
              " [7142, 303, 555, 12328, 220],\n",
              " [5133, 1178, 20621, 5134, 237, 3211],\n",
              " [71, 20622, 20623, 546],\n",
              " [56, 353, 2922, 890],\n",
              " [32, 175, 826, 20624, 1100, 3543, 1421],\n",
              " [71, 20625, 20626, 20627, 168, 20628],\n",
              " [727, 4464, 253, 4465, 227, 20629, 5952],\n",
              " [12329, 2905, 22, 13, 964],\n",
              " [967, 270, 165, 20630],\n",
              " [3947, 146, 1179, 20631, 175, 50, 20632, 417, 20633, 801],\n",
              " [2923, 606, 3948, 20634, 20635, 7143, 7144, 25, 2696, 2697],\n",
              " [20636, 322, 72],\n",
              " [12330, 12331, 12332, 4466, 12333, 20637],\n",
              " [196, 2698, 1, 6, 867],\n",
              " [5953, 73, 3927, 12334, 20638, 7145, 5135, 4467, 5954, 2699, 12335],\n",
              " [7146, 516, 13],\n",
              " [20639, 8996, 1577, 2327],\n",
              " [275, 5955, 8997, 5136, 8998, 1234, 57],\n",
              " [12336, 283, 522, 395, 20640, 720],\n",
              " [2176, 2177, 1631, 268, 5],\n",
              " [5137],\n",
              " [339, 585, 1180],\n",
              " [20641],\n",
              " [12337, 240, 20642, 378],\n",
              " [8999, 20643, 1578, 3949, 20644, 1626],\n",
              " [20645, 81, 6, 25, 26, 5138],\n",
              " [20646, 20647, 20648, 20649, 487],\n",
              " [20650, 259],\n",
              " [12338, 52, 199],\n",
              " [20651, 22],\n",
              " [12339, 20652, 3212, 4468, 2328, 20653],\n",
              " [533, 1, 1827, 2689, 21],\n",
              " [242, 1278, 7147, 33, 7148, 12340, 20654],\n",
              " [275, 697, 368, 20655, 12341, 12342, 3213, 226, 69, 20656],\n",
              " [7149, 20, 116],\n",
              " [2676, 12343, 5139, 20657, 49],\n",
              " [2170, 20658, 231, 20659],\n",
              " [500, 20660, 3544, 27],\n",
              " [20661, 1572, 499, 28],\n",
              " [2043, 20662, 607, 891, 20663, 352, 12344],\n",
              " [2044, 283, 87, 20664, 343, 1834, 20665, 323],\n",
              " [173, 457, 1006, 3545],\n",
              " [5140, 183, 20666, 179, 583, 12345, 20667, 39, 25, 10, 67, 161],\n",
              " [12346, 20668, 368, 61, 9000, 20669, 345, 2924],\n",
              " [2690, 9001, 20670, 1512, 2045],\n",
              " [657, 334],\n",
              " [20671, 12347, 520],\n",
              " [1366, 20672],\n",
              " [856, 12348, 204, 48, 20673, 199],\n",
              " [2178, 20, 189],\n",
              " [5141, 1163, 129, 20674, 405],\n",
              " [831, 4469, 2700],\n",
              " [3950, 788, 3546, 7150, 634, 20675, 1235, 33],\n",
              " [20676],\n",
              " [3214, 5142, 72, 176, 15],\n",
              " [5143, 115, 144],\n",
              " [20677, 12349, 12350, 43, 103, 14, 10, 223, 16, 236],\n",
              " [972, 7151, 3215, 20678, 20679, 20680],\n",
              " [20681],\n",
              " [4470, 280, 1513, 12351, 95, 42],\n",
              " [1726, 347, 1034, 12352, 39, 25, 52, 3216, 169, 30],\n",
              " [20682, 540, 20683],\n",
              " [20684, 20685, 44, 2179],\n",
              " [23, 51, 1313],\n",
              " [20686, 75],\n",
              " [9002, 12353],\n",
              " [212, 890],\n",
              " [20687, 20688],\n",
              " [5956, 2925, 1350, 892, 9, 9003, 20689, 1229],\n",
              " [1921, 20690, 2926, 179, 1007, 12354],\n",
              " [163, 299, 79, 104],\n",
              " [4471, 338, 42],\n",
              " [336, 1836],\n",
              " [20691, 219, 366],\n",
              " [1922],\n",
              " [434, 357, 3951, 20692, 1923, 335, 2329, 383],\n",
              " [1369, 1236, 1266, 216, 7, 973, 3547],\n",
              " [3548, 27, 1, 717],\n",
              " [20693, 20694],\n",
              " [20695, 5144],\n",
              " [20696],\n",
              " [1579, 2490, 1837, 20697, 532],\n",
              " [20698, 120, 1924],\n",
              " [9004, 7152],\n",
              " [12355, 12356, 430],\n",
              " [1727, 2, 3952],\n",
              " [1137, 9005, 535, 1838, 12357],\n",
              " [12358, 1348, 1580, 2180, 112, 330, 491, 460, 36],\n",
              " [20699, 336, 1233, 7153],\n",
              " [733, 129, 122, 317],\n",
              " [389, 12359, 5145, 7154],\n",
              " [52, 12360, 52, 254, 20700],\n",
              " [504, 9006, 10, 20701, 3953, 12361],\n",
              " [12362, 2181, 234, 3549, 5146, 89, 974, 3217, 3550],\n",
              " [9007, 20702],\n",
              " [259, 27, 20703, 345, 12363, 1370, 202, 152],\n",
              " [629, 7155, 243, 3204, 1181, 478],\n",
              " [138, 2491, 85],\n",
              " [12364, 1422, 27, 20704, 1581],\n",
              " [20705, 2330, 384],\n",
              " [163, 5147, 808, 2927, 61, 392, 139, 1925, 39, 55],\n",
              " [137, 1423, 9008, 9, 209, 12365, 30],\n",
              " [2182, 383],\n",
              " [9009, 24, 20706],\n",
              " [222, 9010, 20707, 10, 311],\n",
              " [20708, 20709, 202, 152],\n",
              " [2183, 4472, 282, 20710],\n",
              " [20711, 2184, 20712, 154],\n",
              " [12366, 20713, 50, 2701],\n",
              " [20714],\n",
              " [20715, 12367],\n",
              " [593, 2, 302, 1314, 128],\n",
              " [547, 5, 38, 3174, 20, 202, 556],\n",
              " [20716, 59, 12368, 216, 7156, 20717, 34, 82],\n",
              " [20718, 20719],\n",
              " [5957],\n",
              " [20720, 22],\n",
              " [20721, 12369, 1304, 3218, 940, 20722],\n",
              " [4473, 20723, 3954],\n",
              " [3219, 1035, 5958],\n",
              " [20724],\n",
              " [20725, 380],\n",
              " [20726],\n",
              " [53, 175, 6, 25, 2928, 69, 203],\n",
              " [94, 37, 672],\n",
              " [1926, 7157, 1582, 594, 20727, 20728],\n",
              " [5959, 572, 1647, 20729],\n",
              " [226, 282, 20730, 20731, 975, 31],\n",
              " [4474, 12370, 20732, 9011, 573, 4],\n",
              " [698, 378, 1, 12371, 20733, 20734, 2492, 698, 1065],\n",
              " [2046, 20735, 20736, 796],\n",
              " [7158, 20737, 39, 1177, 20738, 1182],\n",
              " [3955, 216, 14],\n",
              " [1728, 2185, 3],\n",
              " [20739, 631, 9012, 2325, 20740, 1362, 20741],\n",
              " [9013, 20742, 5960, 1101, 20743, 39, 40],\n",
              " [548, 1102, 563, 957, 940, 3956],\n",
              " [80, 20744, 9014, 20745, 530],\n",
              " [20746, 1565, 2186, 17, 20747],\n",
              " [5961, 96, 1729, 6, 421, 2493, 3],\n",
              " [20748],\n",
              " [1424, 12372, 59, 3551, 9015, 98, 158, 1412, 20749, 9016, 12373, 382],\n",
              " [12374, 1, 5],\n",
              " [5148, 9017, 7159, 12375, 20750, 3165, 1583, 346],\n",
              " [20751, 20752, 9018, 3957, 20753],\n",
              " [1927, 2187, 12376],\n",
              " [20754, 20755, 20756],\n",
              " [232,\n",
              "  826,\n",
              "  2494,\n",
              "  1916,\n",
              "  20757,\n",
              "  1100,\n",
              "  7160,\n",
              "  850,\n",
              "  1279,\n",
              "  10,\n",
              "  60,\n",
              "  2047,\n",
              "  7161,\n",
              "  16,\n",
              "  36],\n",
              " [20758, 21],\n",
              " [114, 1280, 134, 18, 7162, 20759],\n",
              " [12377, 2929, 20760, 20761, 20762],\n",
              " [20763, 20],\n",
              " [137, 2, 9, 351, 320],\n",
              " [20764, 20765],\n",
              " [131, 826, 7163],\n",
              " [12378, 491, 156],\n",
              " [522, 9019, 292, 241, 20766, 20767, 20768],\n",
              " [5962, 2495, 20769, 173, 662, 4475, 892],\n",
              " [2930],\n",
              " [160, 3901],\n",
              " [2471, 173, 242, 1315, 2496, 52, 260],\n",
              " [1036, 128],\n",
              " [12379, 4476, 371, 9020],\n",
              " [2931, 1928, 12380, 12381, 620, 918],\n",
              " [272, 5144],\n",
              " [5963],\n",
              " [61, 12382, 12383, 28],\n",
              " [20770],\n",
              " [20771],\n",
              " [7164, 36],\n",
              " [20772],\n",
              " [8997, 5136, 26, 614],\n",
              " [19, 2188, 1929, 1054, 270, 1008, 210, 2331, 4477],\n",
              " [20773, 421, 24, 2932, 20774, 508, 12384, 139, 315, 1304, 20775, 67, 6, 106],\n",
              " [12385, 12386, 370, 1425, 439, 608, 5964, 385],\n",
              " [9021, 1426, 1584, 124, 1730, 7165],\n",
              " [12387, 629, 20776, 162, 20777, 20778],\n",
              " [919, 5149, 1350],\n",
              " [20779, 211],\n",
              " [20780, 642, 2702],\n",
              " [695, 20781],\n",
              " [20782, 574, 20783, 1839],\n",
              " [20784, 7, 12388, 149, 12389, 14],\n",
              " [12390, 20785, 83, 5965, 140, 178, 1371, 525],\n",
              " [258, 221, 312, 999, 12391, 20786, 2933],\n",
              " [2703, 69, 9022],\n",
              " [56, 7166, 56, 2189, 20787, 4],\n",
              " [20788, 740],\n",
              " [8938, 835],\n",
              " [61, 9023, 28, 319, 12392],\n",
              " [515, 20789],\n",
              " [20790, 12393, 4478, 20791, 797],\n",
              " [20792, 557, 9024, 39, 20793],\n",
              " [472, 936, 6, 3],\n",
              " [20794, 1127, 7167],\n",
              " [20795, 122, 117, 65],\n",
              " [20796, 963],\n",
              " [719, 647, 3958],\n",
              " [248, 59, 323, 20797, 523, 22],\n",
              " [20798, 909, 40],\n",
              " [129, 20799],\n",
              " [5966, 699, 163, 20800],\n",
              " ...]"
            ]
          },
          "metadata": {
            "tags": []
          },
          "execution_count": 32
        }
      ]
    },
    {
      "cell_type": "code",
      "metadata": {
        "id": "0_3euExhruuv",
        "outputId": "8e9972e0-9ef0-4b7e-8a6c-264181324fa0",
        "colab": {
          "base_uri": "https://localhost:8080/",
          "height": 1000
        }
      },
      "source": [
        "t_X_encoded = t.texts_to_sequences(test_sentence)\n",
        "t_X_encoded"
      ],
      "execution_count": 33,
      "outputs": [
        {
          "output_type": "execute_result",
          "data": {
            "text/plain": [
              "[[1060, 561, 200, 21],\n",
              " [4137, 745, 47482],\n",
              " [316],\n",
              " [887],\n",
              " [757, 221, 295, 3307, 263],\n",
              " [459, 2890, 35878],\n",
              " [1380, 150, 2300, 241, 988, 383],\n",
              " [32, 70, 7487, 552, 3459],\n",
              " [3814],\n",
              " [2816, 180, 830, 37, 503, 15],\n",
              " [1091, 773, 8819, 3821],\n",
              " [17383, 18477, 5901],\n",
              " [2459, 27, 748, 9290],\n",
              " [29954],\n",
              " [6985],\n",
              " [151, 235, 255, 1565, 2186, 17, 20747],\n",
              " [1986, 647, 31528, 14211, 270, 3450, 78, 10, 311],\n",
              " [76, 340],\n",
              " [3694, 306],\n",
              " [],\n",
              " [1977, 521, 337, 665, 520],\n",
              " [],\n",
              " [53, 50, 78, 29, 323, 1841, 57],\n",
              " [1507],\n",
              " [4258, 94],\n",
              " [37762, 797],\n",
              " [40321, 806, 2, 9, 51315],\n",
              " [47, 89, 15612, 114, 986],\n",
              " [8771, 41, 329, 937, 716, 319, 859, 16, 36],\n",
              " [53, 623, 822, 3442, 33],\n",
              " [56, 4216, 4875],\n",
              " [7, 147, 353, 6761],\n",
              " [3671],\n",
              " [352, 3032],\n",
              " [6393, 27, 1, 217, 947, 22, 23],\n",
              " [946],\n",
              " [206, 52602],\n",
              " [],\n",
              " [900, 42],\n",
              " [952, 636, 1913, 55, 403, 9885, 171, 13],\n",
              " [604, 4088, 42],\n",
              " [4605, 1523, 750, 24, 2549, 10, 5613, 992],\n",
              " [1586, 149, 1778, 3373],\n",
              " [1138, 351],\n",
              " [52450, 20, 211],\n",
              " [438, 49, 37295, 3],\n",
              " [7425, 1425, 799, 11, 35],\n",
              " [705],\n",
              " [],\n",
              " [6978, 5792],\n",
              " [115, 303, 3814, 272, 1348, 7833, 44502, 1005, 1005],\n",
              " [4507, 6334, 11516, 1591],\n",
              " [404, 7075, 5118, 18603, 16231, 484],\n",
              " [7364, 3165, 1728, 6949],\n",
              " [443, 13158, 4132, 6765, 5398, 2024, 57048],\n",
              " [40549, 83, 2628, 301],\n",
              " [29898, 38, 56733, 41],\n",
              " [2352, 46727],\n",
              " [4137],\n",
              " [195, 149, 103, 3444, 2927, 18642],\n",
              " [92, 297],\n",
              " [288, 3386, 23],\n",
              " [17942],\n",
              " [74, 78, 138, 775, 65],\n",
              " [19],\n",
              " [124, 7076],\n",
              " [43, 181, 763],\n",
              " [17332, 396, 2929, 728, 57],\n",
              " [8314, 3, 347, 2747, 6729],\n",
              " [1531, 2644, 18162, 1, 155, 344, 844, 42080, 2672],\n",
              " [2010, 2870, 2714],\n",
              " [218, 9914, 183, 2173],\n",
              " [39354, 2446, 69, 2255],\n",
              " [3835],\n",
              " [333, 225],\n",
              " [11700, 183],\n",
              " [5571],\n",
              " [542, 359],\n",
              " [16094, 4882],\n",
              " [3240, 434, 11305, 4336, 4702, 1120, 46, 159],\n",
              " [15306, 6972, 10943, 123, 4],\n",
              " [3363, 398, 28],\n",
              " [99, 761],\n",
              " [637, 692],\n",
              " [3478],\n",
              " [258, 95, 8300, 380, 2203, 5313, 829, 14794],\n",
              " [471, 4],\n",
              " [8391, 121, 121],\n",
              " [1030, 938, 241, 2439, 4786, 32, 90, 16322, 16, 4],\n",
              " [134, 33],\n",
              " [],\n",
              " [4118],\n",
              " [787, 1, 570, 37, 4048],\n",
              " [34, 467, 3108],\n",
              " [6097, 6385, 1550, 3565],\n",
              " [],\n",
              " [18182, 246],\n",
              " [662, 50, 18, 356, 1057, 39, 914, 850, 3, 26, 519],\n",
              " [19, 71, 737, 464, 5114, 14776],\n",
              " [109, 6893],\n",
              " [219, 1833, 7816],\n",
              " [6423, 20, 23],\n",
              " [3567],\n",
              " [1842, 259, 2002],\n",
              " [2460, 13],\n",
              " [18, 3057],\n",
              " [2314],\n",
              " [7375, 72],\n",
              " [71, 6687, 82, 86, 2190],\n",
              " [476, 5800, 461, 11910, 613, 261],\n",
              " [22, 15],\n",
              " [342, 125, 724, 56529, 38, 2967, 1363, 107],\n",
              " [12, 5674, 1673, 2240, 5486, 396],\n",
              " [2259, 843, 35093],\n",
              " [3633, 1973, 40066, 2806],\n",
              " [],\n",
              " [],\n",
              " [15457, 1425, 14246, 23223, 1191, 2383, 18589],\n",
              " [842, 792, 595, 105, 2030, 57],\n",
              " [8405, 42072, 5393, 91, 4602],\n",
              " [2413, 54, 221, 89, 59, 2099, 6945, 1634, 478],\n",
              " [5995, 4844, 2941, 21841, 3345],\n",
              " [566, 10567, 204, 331, 4],\n",
              " [544, 6237, 835],\n",
              " [417, 1167, 6829, 1474, 25, 34, 592, 24, 4235],\n",
              " [451, 40557],\n",
              " [126, 68109, 7452, 610, 49],\n",
              " [12, 271, 826, 12413, 718],\n",
              " [19, 737, 252],\n",
              " [785],\n",
              " [76, 4118, 1172, 464, 902, 2107, 65],\n",
              " [695, 1335, 8855],\n",
              " [1919, 5774, 94],\n",
              " [10799],\n",
              " [2176, 20],\n",
              " [28678, 521],\n",
              " [],\n",
              " [588, 19895],\n",
              " [16180, 514],\n",
              " [53, 175, 575],\n",
              " [],\n",
              " [192, 197],\n",
              " [180, 503, 183, 745, 2916, 3440],\n",
              " [370, 54, 1114, 434, 193, 10491, 848],\n",
              " [1494, 1477, 5690],\n",
              " [435, 12430, 499, 541],\n",
              " [558, 1553, 3018, 11],\n",
              " [1224, 13636, 3],\n",
              " [3096],\n",
              " [1239, 398],\n",
              " [2457, 11],\n",
              " [2334],\n",
              " [],\n",
              " [63005, 137, 2, 24, 1237],\n",
              " [750, 3299],\n",
              " [6338, 632, 23],\n",
              " [],\n",
              " [8780, 433],\n",
              " [74, 29, 3850, 385],\n",
              " [],\n",
              " [2309, 86, 3582, 2497, 406, 6506, 8497],\n",
              " [],\n",
              " [430, 37, 8556, 15],\n",
              " [5588, 10826, 33160, 52, 12732, 26841, 4],\n",
              " [145],\n",
              " [306, 37981, 90, 62613],\n",
              " [1097, 50, 667, 5418, 1674, 58, 7280, 48, 112, 3639],\n",
              " [548, 147, 5534, 3],\n",
              " [8, 4472, 6, 3],\n",
              " [4239, 2548, 337, 5612, 4],\n",
              " [466],\n",
              " [20, 189],\n",
              " [],\n",
              " [6589],\n",
              " [2638, 2001, 6547, 2293, 4755, 2001, 55, 174, 39, 3832, 2638, 2201, 79, 9128],\n",
              " [2764, 2520, 693, 2890, 405],\n",
              " [1564],\n",
              " [459, 894, 86, 82, 984],\n",
              " [114, 4935, 59],\n",
              " [167, 291, 5686],\n",
              " [2180, 154],\n",
              " [2682, 3416, 4561],\n",
              " [68830, 68831],\n",
              " [8, 473, 623, 14],\n",
              " [45860],\n",
              " [],\n",
              " [6017, 745, 66112, 10318, 17, 32, 14],\n",
              " [15294, 7860],\n",
              " [1961, 5174, 17874, 3022, 365],\n",
              " [4837, 3408, 6789],\n",
              " [475, 1160, 135, 186, 155, 308, 1179, 475, 2387, 308, 4334],\n",
              " [19, 267, 1371, 525],\n",
              " [2262, 3970, 5322, 9327, 724, 263, 104],\n",
              " [],\n",
              " [767, 990, 501],\n",
              " [131, 251, 16640],\n",
              " [819, 905, 1913, 1183],\n",
              " [],\n",
              " [1167, 1564],\n",
              " [411, 758],\n",
              " [553, 65],\n",
              " [3052, 96, 361, 1604, 157, 6464, 38],\n",
              " [129, 580],\n",
              " [813, 5136, 535, 2660, 691],\n",
              " [928, 17, 11651],\n",
              " [1260, 4403, 148, 505, 3928],\n",
              " [185, 287, 105, 4066],\n",
              " [3123, 66, 110, 250, 761],\n",
              " [446, 444, 2, 5790],\n",
              " [4511],\n",
              " [18880],\n",
              " [765, 1891, 377, 4, 1483, 5505],\n",
              " [767, 1996],\n",
              " [2419],\n",
              " [50, 80, 779, 822, 6, 479, 331, 230],\n",
              " [62901, 2454, 2556, 4174, 62902],\n",
              " [1112],\n",
              " [1067, 89, 16744, 5129],\n",
              " [],\n",
              " [416, 5335, 12493, 448],\n",
              " [1667, 43, 2244],\n",
              " [641, 2876],\n",
              " [5302, 1451],\n",
              " [],\n",
              " [606, 81, 4482, 839, 636, 4920, 66, 3425],\n",
              " [3610, 601, 3651, 25, 375, 230],\n",
              " [919, 2721, 59271, 5062],\n",
              " [481, 65],\n",
              " [901, 66686],\n",
              " [528, 22, 11, 77],\n",
              " [291, 1],\n",
              " [606, 7317, 8005, 26479, 2882, 342, 321],\n",
              " [62, 4900],\n",
              " [1616, 11050, 16, 36],\n",
              " [979, 5208],\n",
              " [],\n",
              " [416, 441, 1376, 491, 751, 21],\n",
              " [4290, 158, 1320, 501],\n",
              " [6495, 2056, 89, 1574, 363, 8401, 48],\n",
              " [7355, 6994, 17224],\n",
              " [64435, 1365, 542, 643, 188, 409, 5237, 57],\n",
              " [4432, 91, 3529, 4369, 1115],\n",
              " [127, 5, 143],\n",
              " [2413, 2412, 1010, 3274, 32, 5063, 26, 519],\n",
              " [8745, 135, 951, 134, 33],\n",
              " [19, 483, 522, 533, 88, 9314, 419],\n",
              " [547, 3279, 8764, 44, 3212],\n",
              " [2768, 11],\n",
              " [413, 652, 10, 38, 448, 30],\n",
              " [5937, 3407],\n",
              " [],\n",
              " [],\n",
              " [496, 28222],\n",
              " [32, 1793, 245],\n",
              " [208, 26117, 3],\n",
              " [56, 2945],\n",
              " [90, 152],\n",
              " [400],\n",
              " [978, 493, 1463, 31],\n",
              " [108, 949, 28, 383],\n",
              " [492, 46, 918],\n",
              " [334, 28, 9, 302, 223, 16, 41],\n",
              " [51, 14135],\n",
              " [111, 30840],\n",
              " [1301, 654],\n",
              " [83, 10, 1370],\n",
              " [5245, 16, 41, 10397, 166],\n",
              " [2151, 2211, 2694, 4127, 31],\n",
              " [18, 53, 1641, 158, 4707, 57],\n",
              " [1535, 69, 13, 745, 17367, 1766, 4796, 247, 422],\n",
              " [3645, 882],\n",
              " [315, 2259, 279, 179, 78, 26, 15788],\n",
              " [13323],\n",
              " [11673, 292, 3],\n",
              " [837, 991, 29305],\n",
              " [19713, 13],\n",
              " [1, 28, 177],\n",
              " [436, 18131, 13243],\n",
              " [1921, 11480, 3385, 384],\n",
              " [309, 5942, 2516, 550, 28],\n",
              " [3988, 22, 11],\n",
              " [129, 41, 26037, 17, 2694, 1690, 18445, 464, 199],\n",
              " [803, 5377, 675, 4579, 2996],\n",
              " [1983, 15519, 11, 2907, 520],\n",
              " [1408],\n",
              " [928, 8702, 48, 154],\n",
              " [],\n",
              " [482, 18291, 342, 279, 4216, 14, 331, 230],\n",
              " [80, 6816],\n",
              " [15165, 41259],\n",
              " [469, 9, 742, 1390, 24, 256],\n",
              " [],\n",
              " [11806, 1, 81, 9964, 5, 37, 704, 5],\n",
              " [4487, 241, 522, 69],\n",
              " [21022, 73],\n",
              " [943, 554, 10928, 310],\n",
              " [],\n",
              " [2310, 37, 49204, 5],\n",
              " [621],\n",
              " [878, 63167, 14243, 2438, 3581],\n",
              " [237, 6124, 122, 117, 101, 44, 65],\n",
              " [412, 9, 32227, 58, 161],\n",
              " [521, 22, 13],\n",
              " [296, 4501, 17, 7847, 883, 932],\n",
              " [],\n",
              " [8, 436, 1235, 17225],\n",
              " [10662, 2261],\n",
              " [5015, 651, 1, 56201, 3623],\n",
              " [284, 12845],\n",
              " [8, 125, 428, 5],\n",
              " [4032],\n",
              " [62, 342, 10519, 172],\n",
              " [167, 2338],\n",
              " [],\n",
              " [],\n",
              " [32, 3932, 78, 949, 540, 1839],\n",
              " [275, 1533, 4044, 8168],\n",
              " [13988, 3079, 2280, 18482],\n",
              " [8807, 15245],\n",
              " [],\n",
              " [60802, 118, 4477],\n",
              " [248, 295, 168, 865, 174, 29, 594, 1017, 83, 1788, 947, 732, 382],\n",
              " [7360, 1042, 38885],\n",
              " [1304, 1227, 3333, 134, 14],\n",
              " [389, 423, 646, 40],\n",
              " [2586, 4413],\n",
              " [31412],\n",
              " [1023],\n",
              " [163, 33],\n",
              " [713, 17166, 994, 3788, 460, 478],\n",
              " [2370, 1313],\n",
              " [13207, 3263],\n",
              " [59245, 34, 1865, 18880],\n",
              " [1461, 170, 708, 4266, 14001],\n",
              " [697, 326, 213, 967, 16646, 7025],\n",
              " [1708, 1117, 52, 264, 134, 2004, 52, 8463, 30],\n",
              " [39187, 148, 1547, 747],\n",
              " [1778, 1526, 54, 313],\n",
              " [185],\n",
              " [854, 2908, 159],\n",
              " [4864, 223, 16, 41, 195, 7368, 122, 1398, 44, 65],\n",
              " [334, 717],\n",
              " [2008, 37, 8, 333, 1112],\n",
              " [12, 979, 88, 612, 671],\n",
              " [1907],\n",
              " [1357, 332, 1161, 6006],\n",
              " [8627, 145, 611, 14],\n",
              " [2575, 18, 4212, 8457, 2230],\n",
              " [831, 126, 3917, 1223],\n",
              " [434, 16, 468],\n",
              " [2648, 711],\n",
              " [39790, 4],\n",
              " [1518, 135, 407, 755, 4679, 18796, 91, 7312],\n",
              " [165, 7646, 4552, 240, 156],\n",
              " [876, 341, 70, 91, 5723, 1717, 84],\n",
              " [46213, 5146, 168, 4410, 17383, 10187, 110, 39, 2037, 1100],\n",
              " [151, 5],\n",
              " [65527, 26725],\n",
              " [854, 500, 1490, 24, 4422, 5661],\n",
              " [3557, 2017],\n",
              " [3289, 417, 1459, 11951],\n",
              " [12489, 28],\n",
              " [16219, 7544, 2820, 463, 1359, 3738],\n",
              " [237, 8151, 358, 6058],\n",
              " [436, 8651, 705, 1345],\n",
              " [4802, 5989, 885, 6068, 3],\n",
              " [6302, 62, 945],\n",
              " [],\n",
              " [19056, 6807, 118, 6704, 30],\n",
              " [483, 3111, 3032],\n",
              " [51431, 4540],\n",
              " [185, 6346, 17992, 9229],\n",
              " [19754, 27, 665, 23104, 4165, 4132, 6339, 47357, 213],\n",
              " [43, 581, 996, 1232, 3],\n",
              " [1395, 28680, 7709, 122, 291, 35971, 1550, 4],\n",
              " [23],\n",
              " [1814, 2308, 177, 7, 1340, 198, 1721],\n",
              " [84],\n",
              " [12322, 7140, 8989, 5129],\n",
              " [6638, 1475, 10599, 69, 5312],\n",
              " [5135, 109, 299, 5321, 14],\n",
              " [15974, 8471, 1491, 2, 1255],\n",
              " [1206, 531, 5],\n",
              " [],\n",
              " [608, 2],\n",
              " [334, 4439, 42],\n",
              " [251, 3532],\n",
              " [321, 70, 3256, 741, 229, 403, 1523],\n",
              " [59535],\n",
              " [559, 8298, 6785, 14151, 146, 29, 10389, 384],\n",
              " [404],\n",
              " [125, 259, 326, 213, 1059, 8, 811],\n",
              " [3382],\n",
              " [],\n",
              " [3548, 1],\n",
              " [2389, 157, 2998],\n",
              " [1927],\n",
              " [76, 4729, 5035, 18647, 4308],\n",
              " [208, 6756, 11],\n",
              " [140, 1324, 7805],\n",
              " [14475, 2672],\n",
              " [395, 21013, 886, 3, 71],\n",
              " [],\n",
              " [699, 19142, 137, 1091, 3163, 15793, 182],\n",
              " [1914, 184],\n",
              " [1437, 2291, 633],\n",
              " [11424],\n",
              " [],\n",
              " [19, 3530, 2941, 300],\n",
              " [522, 1146, 63036, 85],\n",
              " [],\n",
              " [7606, 4677, 282, 54823, 18142, 945],\n",
              " [8, 1060, 73, 1152, 23763, 8303, 13],\n",
              " [3026, 1057, 6, 17, 918],\n",
              " [1291, 7, 428, 5],\n",
              " [2588, 6719, 3226],\n",
              " [694, 1, 769],\n",
              " [2132, 807],\n",
              " [56, 2202],\n",
              " [125, 4776, 122, 933, 52, 613, 36],\n",
              " [47884, 29125],\n",
              " [111, 1146, 4133],\n",
              " [64, 602, 233, 1066, 431],\n",
              " [889, 3319, 51, 1478],\n",
              " [9979],\n",
              " [20278, 46333, 1878, 3703],\n",
              " [6, 2553, 106],\n",
              " [436, 1086, 569, 1600],\n",
              " [61, 13555, 776],\n",
              " [6122, 22],\n",
              " [1254, 192, 10604, 16, 36],\n",
              " [14870, 5754],\n",
              " [2253, 2236, 6, 41481],\n",
              " [11],\n",
              " [2768, 776, 72, 10, 4551],\n",
              " [147, 16387, 41162, 78, 4849, 16, 4],\n",
              " [748, 7, 40328, 13],\n",
              " [50137, 27, 10616],\n",
              " [15549, 851, 30, 19109, 1984, 851, 30],\n",
              " [488, 750, 2480, 91, 26, 624],\n",
              " [114, 155, 158, 422, 640],\n",
              " [40247, 3749, 13739, 587, 17153, 4, 218, 550, 5019, 65],\n",
              " [7, 103, 4170, 28],\n",
              " [360, 299, 99, 178, 4274, 57323, 112],\n",
              " [16769, 19617],\n",
              " [2761, 5647],\n",
              " [324, 8920, 238, 933],\n",
              " [1000, 1911, 4080, 449, 172],\n",
              " [275, 972, 47, 153, 105, 2055],\n",
              " [1417, 3052, 5998, 2579, 15859, 878],\n",
              " [682, 4725, 11907],\n",
              " [57173, 51775, 14029, 10912, 69, 9323],\n",
              " [51, 290, 21],\n",
              " [3530, 3, 6614, 89],\n",
              " [339, 4163, 27, 101, 1680],\n",
              " [1663, 493, 261],\n",
              " [2788, 558, 2032],\n",
              " [704, 363],\n",
              " [418, 4537, 1122, 2318, 624],\n",
              " [447, 469, 531],\n",
              " [1508, 626, 1, 42],\n",
              " [1990, 16092, 3919, 2298, 1, 1004, 46022, 90],\n",
              " [229, 12827, 132, 2021],\n",
              " [2350, 130, 99, 104, 108, 528, 260],\n",
              " [216],\n",
              " [17760, 2227, 148, 213, 148, 102, 1249],\n",
              " [7084, 3846],\n",
              " [827, 4127],\n",
              " [9653, 1369, 1364],\n",
              " [1024, 237, 266, 19615, 50, 3932, 98, 2088, 6350, 8262, 886, 19021],\n",
              " [10, 1290],\n",
              " [25226, 243, 4466, 50576, 1449, 6847],\n",
              " [62, 3039, 755, 6548, 2452, 15521, 1327, 186, 1033],\n",
              " [451, 413, 4498, 95, 42],\n",
              " [16479],\n",
              " [60047, 412, 32, 1334, 529],\n",
              " [18728],\n",
              " [416],\n",
              " [157, 1844, 6339, 10, 1028, 2155, 161],\n",
              " [267, 107, 2342],\n",
              " [1059, 59977, 1838],\n",
              " [],\n",
              " [114, 155, 14],\n",
              " [2118, 7936, 27, 1, 11530],\n",
              " [1449, 14],\n",
              " [1295, 1718, 121],\n",
              " [570, 22, 13],\n",
              " [824, 1120, 39, 262],\n",
              " [895, 4182],\n",
              " [],\n",
              " [8, 440, 6, 3],\n",
              " [401, 48, 1839],\n",
              " [5225, 11354],\n",
              " [291, 1443, 1247, 454],\n",
              " [32, 47080],\n",
              " [1636, 11345, 69],\n",
              " [198, 1278, 9395, 39, 31423],\n",
              " [19, 23],\n",
              " [5386, 1493, 1054, 41454, 34783],\n",
              " [1283, 1170],\n",
              " [2675, 122, 1739, 454],\n",
              " [97, 75],\n",
              " [4097, 5509, 1153, 2352],\n",
              " [15281, 2714],\n",
              " [825, 62896, 133],\n",
              " [],\n",
              " [15101],\n",
              " [772, 759, 1434, 6, 950, 3],\n",
              " [17142, 187, 42743, 3924],\n",
              " [1102, 33],\n",
              " [8, 157, 2166, 1042],\n",
              " [17885, 91, 70, 11911, 507, 55],\n",
              " [68113, 49, 202, 545, 1736, 156],\n",
              " [618, 1518, 234, 45, 127, 12699],\n",
              " [733, 18149],\n",
              " [114, 8189],\n",
              " [1325, 72, 11, 3],\n",
              " [5292, 2602, 1507],\n",
              " [1963, 4764, 223, 54, 26256, 10532, 23],\n",
              " [202, 556, 375, 230],\n",
              " [5621, 336, 6700, 42],\n",
              " [64, 43, 1389, 325],\n",
              " [4776, 8316, 4925, 69, 16460],\n",
              " [12820, 55],\n",
              " [455, 400, 448, 183, 47, 706, 22, 13],\n",
              " [3499, 8937, 709, 553, 90, 1609, 182],\n",
              " [413, 10878, 17, 5509, 38725, 400, 1470],\n",
              " [],\n",
              " [14094, 7171, 1398, 67, 6, 4298],\n",
              " [115, 138, 53920, 731],\n",
              " [118, 2696, 186, 13845],\n",
              " [5516, 612, 67849, 10, 6377],\n",
              " [896, 1, 21250],\n",
              " [1407, 260],\n",
              " [4745, 616],\n",
              " [312, 17, 4540],\n",
              " [1153],\n",
              " [721, 64628, 10, 57],\n",
              " [840, 486, 46, 122, 935],\n",
              " [19373, 119, 97],\n",
              " [1852, 4679, 106],\n",
              " [3266, 393, 150, 137, 1255, 10],\n",
              " [],\n",
              " [2151, 974],\n",
              " [10796, 3833, 351, 87, 5337, 2192, 17, 59],\n",
              " [1436],\n",
              " [464, 199],\n",
              " [33646],\n",
              " [11626, 3589, 13313, 4],\n",
              " [130, 362, 17300, 1354],\n",
              " [63, 1699, 965, 43355, 104],\n",
              " [73, 2504, 3529, 14, 26, 519],\n",
              " [3555],\n",
              " [1961, 135, 2114, 271, 9, 256],\n",
              " [1002, 5412, 1163, 47, 97, 31],\n",
              " [3649, 24198, 35121, 3779, 11476, 327],\n",
              " [105, 2083, 1003, 343, 41771, 18],\n",
              " [],\n",
              " [4699, 2152, 69, 301, 325],\n",
              " [34175, 15365, 10560, 3962],\n",
              " [6459],\n",
              " [2072, 14],\n",
              " [71, 319, 13],\n",
              " [6368, 358],\n",
              " [31178],\n",
              " [641, 97, 464, 317],\n",
              " [10494, 7601, 9062, 185, 18516, 670, 60235, 397],\n",
              " [2427, 4750],\n",
              " [],\n",
              " [18, 129, 636, 31063, 3833, 2736, 696, 119, 2552],\n",
              " [2904, 143],\n",
              " [330, 5483, 314, 15, 525],\n",
              " [494, 357, 355],\n",
              " [680, 3297, 1677, 567, 1414, 6205, 9639],\n",
              " [330, 47, 605, 42],\n",
              " [554, 322, 14214, 197, 3475, 283, 121],\n",
              " [92, 2321, 5],\n",
              " [33261],\n",
              " [3310, 524, 1291, 5456],\n",
              " [2422, 4457, 458, 931, 29935, 95, 17, 9924, 2230],\n",
              " [3437, 7508],\n",
              " [19287, 220],\n",
              " [160, 6947],\n",
              " [12025, 68, 23],\n",
              " [303, 574, 10996],\n",
              " [1293, 111, 1146, 61603, 7957, 377, 36],\n",
              " [2476, 13],\n",
              " [93, 8083],\n",
              " [53447, 30943, 111, 1885, 1904, 608, 9840],\n",
              " [475, 1160, 135, 629, 41, 1238, 699, 2841, 17, 1335],\n",
              " [729, 82, 28109, 459, 12003, 2227],\n",
              " [745, 14836, 266, 2482, 4833, 2946, 1821, 1565],\n",
              " [9621, 63682, 1408],\n",
              " [19, 71, 1048, 3654, 71, 602, 38019],\n",
              " [126, 616],\n",
              " [10351],\n",
              " [23],\n",
              " [187],\n",
              " [12, 5445, 19600, 17428, 273, 54, 16141],\n",
              " [39201, 25],\n",
              " [7837, 95, 15],\n",
              " [162, 440, 5],\n",
              " [1731, 769, 2308, 3651, 3],\n",
              " [98, 41, 18973, 48, 427, 2355, 31851, 16, 4],\n",
              " [63489, 1147, 32009],\n",
              " [1138, 2388, 5],\n",
              " [274, 64, 139, 172],\n",
              " [18756, 2149, 200, 23],\n",
              " [131, 395, 5645, 3621],\n",
              " [6507, 125, 70, 46, 52, 586, 169, 30],\n",
              " [17, 256],\n",
              " [704, 211],\n",
              " [1905],\n",
              " [1213, 529, 1507],\n",
              " [475, 2979, 591],\n",
              " [896, 1, 19187],\n",
              " [978, 423],\n",
              " [],\n",
              " [472, 512, 2424, 329, 51711, 4109, 335, 4109, 21],\n",
              " [12508, 67, 174, 4640, 26, 2332, 182],\n",
              " [32, 2, 14, 7005, 17731, 44487, 4533, 31331, 9, 14],\n",
              " [340, 1352, 512],\n",
              " [57796],\n",
              " [436, 615, 73, 2, 530],\n",
              " [5658, 8816],\n",
              " [4045, 1187, 2395, 995, 442, 6387],\n",
              " [8909, 6108, 2052, 18812],\n",
              " [62, 1875, 1677, 628, 4197, 4723, 14, 26, 519],\n",
              " [5005, 4059, 121],\n",
              " [4206, 10648, 7912, 162, 680, 69],\n",
              " [],\n",
              " [],\n",
              " [1754, 99],\n",
              " [56, 646, 1541, 38165, 56, 585, 6, 40],\n",
              " [729, 824, 8475, 39, 262, 87, 103, 26, 272, 182],\n",
              " [127, 15260, 4133],\n",
              " [59, 4348, 10578, 29, 19190, 499, 1062, 3614],\n",
              " [4878, 955],\n",
              " [32, 1114, 11241, 15570, 7345, 5631, 1211, 6, 40, 1674],\n",
              " [538, 7450],\n",
              " [2849, 604],\n",
              " [2234, 771, 1693, 14410, 20675, 18365, 64331, 6, 3],\n",
              " [279, 1818],\n",
              " [2309, 10377],\n",
              " [127, 13],\n",
              " [697, 32442, 18],\n",
              " [14368],\n",
              " [237, 2878, 519],\n",
              " [14043, 218],\n",
              " [],\n",
              " [704, 4876],\n",
              " [],\n",
              " [702, 1159, 42],\n",
              " [111, 280, 225, 144],\n",
              " [76],\n",
              " [],\n",
              " [2600, 1057, 28, 37, 5788, 116],\n",
              " [237, 6124, 122, 117, 65],\n",
              " [951, 56, 2111, 56, 783, 14],\n",
              " [2122, 106],\n",
              " [200],\n",
              " [1273, 7058, 626, 19876],\n",
              " [8, 709, 553, 44, 14],\n",
              " [18],\n",
              " [63295,\n",
              "  782,\n",
              "  18101,\n",
              "  47,\n",
              "  168,\n",
              "  2099,\n",
              "  15390,\n",
              "  1565,\n",
              "  5778,\n",
              "  269,\n",
              "  248,\n",
              "  6912,\n",
              "  2183,\n",
              "  70,\n",
              "  509,\n",
              "  59],\n",
              " [993, 13173, 477],\n",
              " [33890],\n",
              " [],\n",
              " [943, 554, 705, 1127],\n",
              " [5169, 171, 5361, 73, 1080, 3604],\n",
              " [3926, 240, 1, 400],\n",
              " [334, 15],\n",
              " [1267, 1198, 664, 2, 233, 1072],\n",
              " [1166, 1068, 37, 27, 22],\n",
              " [17172, 5711],\n",
              " [7406],\n",
              " [164, 753, 1310],\n",
              " [34, 14061],\n",
              " [54685, 3429, 237],\n",
              " [6758, 2157, 121, 121],\n",
              " [5428, 56328, 839, 428],\n",
              " [2146, 281],\n",
              " [7757],\n",
              " [4225, 4430, 16608],\n",
              " [201],\n",
              " [14680, 61, 6907, 30492],\n",
              " [662, 5563, 14229],\n",
              " [13198, 111, 671, 1187],\n",
              " [19216],\n",
              " [330, 47, 908, 112, 3346, 2053, 36],\n",
              " [764, 1624, 266, 4068, 3504, 3],\n",
              " [],\n",
              " [1567, 1117, 39761, 1411, 929, 4380],\n",
              " [418, 6698, 328, 3550],\n",
              " [3048, 799],\n",
              " [126, 1124, 6],\n",
              " [969, 5362, 42],\n",
              " [20, 23],\n",
              " [85, 1318],\n",
              " [1313, 744, 20, 1104, 189],\n",
              " [12, 858, 1064, 409, 10160, 14410, 2492],\n",
              " [10080],\n",
              " [3085, 2279, 736, 20278, 6, 3],\n",
              " [558, 2698],\n",
              " [1363, 107],\n",
              " [1961, 564, 2245],\n",
              " [],\n",
              " [8, 5],\n",
              " [2326, 3170, 10583],\n",
              " [8, 445, 3368, 39, 40],\n",
              " [819, 21091],\n",
              " [2072, 344],\n",
              " [1156],\n",
              " [10367, 105, 3377],\n",
              " [328, 8],\n",
              " [7624, 94],\n",
              " [1849, 42],\n",
              " [174, 594, 94],\n",
              " [1504, 3053, 272, 51300],\n",
              " [803, 188, 4272, 25230],\n",
              " [194, 49236, 1055, 11, 140, 107],\n",
              " [],\n",
              " [2166],\n",
              " [499, 8353, 6, 3],\n",
              " [15228, 49194, 4],\n",
              " [8, 124, 58],\n",
              " [9253],\n",
              " [],\n",
              " [73, 2224, 1335],\n",
              " [736, 304, 13657],\n",
              " [7134],\n",
              " [12, 4706, 10317, 284, 284],\n",
              " [],\n",
              " [8920, 3545],\n",
              " [118, 6326],\n",
              " [91, 13316, 29, 15657, 459, 24],\n",
              " [],\n",
              " [39792, 38, 1, 793, 3],\n",
              " [1266, 57949, 10640, 1081, 33803, 4596, 25737, 175, 1646, 14],\n",
              " [575, 537, 2, 220],\n",
              " [372],\n",
              " [734, 524, 516, 91, 14698, 45],\n",
              " [246, 268, 11329, 1639],\n",
              " [],\n",
              " [901],\n",
              " [10],\n",
              " [68711, 6397, 63173, 16424, 267],\n",
              " [2829, 3892, 8333, 13],\n",
              " [81, 37, 3389, 5, 88, 13],\n",
              " [4770, 2342, 28],\n",
              " [19, 4030, 134, 21172],\n",
              " [2647, 456, 21],\n",
              " [308, 344, 284, 4305, 1181, 478],\n",
              " [1801, 1896, 45],\n",
              " [52214, 64651, 1771, 31],\n",
              " [5953, 2793],\n",
              " [],\n",
              " [396, 470, 9683, 968],\n",
              " [5025, 3839, 11430, 578, 50501],\n",
              " [928, 1590, 1255],\n",
              " [15859, 6554, 43, 621],\n",
              " [483],\n",
              " [3549, 7367, 345, 69, 728, 57, 121],\n",
              " [9234],\n",
              " [4120, 37595, 6408],\n",
              " [2578, 2949, 1914, 49],\n",
              " [29961, 4071, 264, 810, 3854],\n",
              " [1458, 62781, 9, 948, 10423, 43],\n",
              " [2764],\n",
              " [19158, 2056, 88],\n",
              " [4430, 148, 60, 30],\n",
              " [41816, 282, 4588, 1626, 14],\n",
              " [3547, 1776, 1345, 4931, 67150, 55048, 319],\n",
              " [94, 28],\n",
              " [348, 982],\n",
              " [91, 175, 1521, 172],\n",
              " [1108, 3231, 5069, 335, 957, 80, 131, 739],\n",
              " [177, 9821, 203],\n",
              " [682, 361, 666, 12035, 159],\n",
              " [51, 12, 424, 826, 178, 4033],\n",
              " [445, 38, 1029, 278],\n",
              " [6008, 33733],\n",
              " [19568, 642, 21],\n",
              " [412, 1304, 21629, 2433, 15288],\n",
              " [143],\n",
              " [333, 332, 203],\n",
              " [56382, 1827, 4035],\n",
              " [2917, 34, 3813, 2, 478],\n",
              " [549, 21922, 49],\n",
              " [563, 8957, 18, 7, 187, 124],\n",
              " [68, 22, 835],\n",
              " [3098, 18586, 27],\n",
              " [24, 407, 6332, 32, 11868, 26, 624],\n",
              " [67492],\n",
              " [17003, 2188, 22, 15],\n",
              " [637, 14532, 269, 33],\n",
              " [51, 46507, 3814, 1746, 73, 4955],\n",
              " [2188, 5478, 4511],\n",
              " [1453, 9377],\n",
              " [602, 80, 1385, 26427],\n",
              " [],\n",
              " [4612, 2567, 43332, 543, 1367, 810, 391],\n",
              " [436, 9691, 76, 611, 70, 130, 1057, 1532],\n",
              " [130, 494, 646, 36787, 480],\n",
              " [4474, 228],\n",
              " [702, 2559, 23],\n",
              " [927],\n",
              " [330, 458],\n",
              " [12, 404, 93, 205, 782, 1441],\n",
              " [],\n",
              " [83, 58225, 272, 123, 4800, 4],\n",
              " [64, 12947, 90, 1066, 172],\n",
              " [1091, 5262, 2798, 128, 14730],\n",
              " [1021, 684, 1393, 57023, 1021, 2427, 4750, 326, 213],\n",
              " [3340, 125, 5],\n",
              " [],\n",
              " [951, 64, 3485, 33669],\n",
              " [336, 43471, 1263, 1, 965, 507, 3163],\n",
              " [1610, 433, 35],\n",
              " [237, 7565, 1927, 5775, 1646, 14],\n",
              " [7, 1087, 17687, 6, 40, 3981, 8404],\n",
              " [125, 61778],\n",
              " [8688, 264, 2001, 688, 203, 376, 34413, 2238],\n",
              " [672, 3315],\n",
              " [2149, 4836, 981, 37383, 1145, 1470],\n",
              " [8, 147, 50286, 2, 2402],\n",
              " [10608],\n",
              " [418, 9, 7014, 767, 2878, 9902, 132, 17888],\n",
              " [9655, 63, 7799, 3813, 5352, 641, 5019, 3],\n",
              " [5751, 20893, 26205, 7288, 2474, 1247, 40, 7698, 190],\n",
              " [699, 138, 14718],\n",
              " [61, 46, 1080, 21],\n",
              " [8456, 29337, 104],\n",
              " [17965, 5560, 51913, 14572],\n",
              " [5822, 5259, 20, 250, 401, 2203, 3242],\n",
              " [926, 1263, 1, 2201, 45],\n",
              " [57656, 388, 19338, 6, 98, 57657, 50, 25],\n",
              " [770, 10531],\n",
              " [1402, 333, 2421, 2881, 43381, 1],\n",
              " [907, 1265, 123],\n",
              " [8923, 40790],\n",
              " [196, 864, 41741, 505],\n",
              " [64372, 834, 7005, 917, 382],\n",
              " [],\n",
              " [1351, 14060, 65],\n",
              " [249, 2735, 2130, 73, 16736, 1483, 161],\n",
              " [214],\n",
              " [9, 4029],\n",
              " [921, 921, 2941, 48, 112, 187, 8394],\n",
              " [27989, 1919, 135, 356, 6, 3],\n",
              " [215, 252, 223, 54, 4274, 16637],\n",
              " [66, 1, 2736],\n",
              " [1030, 96, 1197],\n",
              " [66, 1103],\n",
              " [1567, 780, 3],\n",
              " [160, 60200],\n",
              " [4795, 63103, 32974],\n",
              " [10083, 95],\n",
              " [249, 68, 1, 414, 1998],\n",
              " [528, 550],\n",
              " [1726, 347, 141, 146, 214, 2402],\n",
              " [521, 1403, 1857],\n",
              " [13382],\n",
              " [195, 305, 1060, 3973, 3005],\n",
              " [704, 352, 67332, 128, 51],\n",
              " [2416, 5320, 90, 23],\n",
              " [2055, 14801],\n",
              " [979, 326, 790, 10],\n",
              " [18219, 520],\n",
              " [2227, 1, 4805, 7463, 4124, 48, 154],\n",
              " [3337, 10645, 3361, 4822, 277],\n",
              " [24, 2, 656],\n",
              " [596, 13345, 49, 15, 35],\n",
              " [12, 602, 958, 2452, 1675],\n",
              " [10, 59692],\n",
              " [10765, 874, 15],\n",
              " [157, 2241],\n",
              " [125, 621, 5],\n",
              " [451, 690, 2194],\n",
              " [46, 1080, 598],\n",
              " [1685, 7300, 58984, 727, 77, 4782],\n",
              " [],\n",
              " [970, 28, 1061, 6317, 9492, 4477],\n",
              " [1618, 3166, 40],\n",
              " [1375],\n",
              " [18605, 1, 5447, 91, 33],\n",
              " [136, 1226, 50356],\n",
              " [860, 15485, 1101, 312, 113, 1659, 11785],\n",
              " [118, 368, 29, 491, 1049],\n",
              " [42969],\n",
              " [10, 60, 57],\n",
              " [187, 29, 8394],\n",
              " [341, 14],\n",
              " [1637, 66, 6316, 137, 55],\n",
              " [11903, 2500, 5272, 9, 266, 2574],\n",
              " [1813, 33033, 42],\n",
              " [6445, 1192, 730, 4976],\n",
              " [4566, 14509, 326, 790, 105, 97, 232, 12490, 1374, 3552, 478],\n",
              " [62, 627, 13],\n",
              " [16075],\n",
              " [],\n",
              " [447, 469, 62990, 39, 24, 536],\n",
              " [9531],\n",
              " [2732],\n",
              " [56, 2220],\n",
              " [770],\n",
              " [82, 404, 46, 3, 710, 2454, 55656],\n",
              " [32747, 99, 6515, 488, 5578, 2558],\n",
              " [180, 22, 143],\n",
              " [248, 60837],\n",
              " [2719, 1, 61680, 5256],\n",
              " [1833],\n",
              " [7, 3778, 14],\n",
              " [3414, 1353, 7836, 7852, 287],\n",
              " [3571, 4089, 5062, 226, 58, 13170],\n",
              " [10700, 615, 272, 400, 188, 10818, 160, 230],\n",
              " [275, 697, 2721, 81],\n",
              " [764, 1988],\n",
              " [],\n",
              " [5691, 109, 9, 640, 4135, 101, 1924],\n",
              " [602, 146, 2, 742, 1279],\n",
              " [61, 423],\n",
              " [9776],\n",
              " [12007, 376, 4333, 2087, 17645, 4333],\n",
              " [],\n",
              " [1616],\n",
              " [2478, 10353, 11539, 27045, 335],\n",
              " [2197],\n",
              " [7273, 2, 220],\n",
              " [],\n",
              " [8324, 7068, 90, 152],\n",
              " [6760],\n",
              " [830, 383, 121],\n",
              " [22584, 3743, 231],\n",
              " [557, 774],\n",
              " [],\n",
              " [21],\n",
              " [59, 9, 865, 763],\n",
              " [4211, 2, 2224, 5061],\n",
              " [3342],\n",
              " [16416, 9623, 3185, 4422, 30065],\n",
              " [52703, 49],\n",
              " [3615, 54, 175, 1433, 10477, 39, 104],\n",
              " [13, 208, 3885],\n",
              " [307, 186, 4674, 4274, 25739, 9068, 190],\n",
              " [136, 2725, 48, 42, 51],\n",
              " [128, 111, 1541, 520, 64944],\n",
              " [8667, 986, 4212, 94],\n",
              " [5966, 10],\n",
              " [41259],\n",
              " [4212, 2347],\n",
              " [443, 6641, 121, 121],\n",
              " [704, 225, 133],\n",
              " [63, 3047],\n",
              " [1030, 96, 4050, 48, 110, 39, 2869, 16, 4],\n",
              " [10961, 385],\n",
              " [658, 5421, 3, 128],\n",
              " [33759, 217],\n",
              " [125, 177, 222, 145, 193, 8057, 3],\n",
              " [6857],\n",
              " [1194, 805],\n",
              " [1807, 79, 2116],\n",
              " [4888, 9257],\n",
              " [80, 7143],\n",
              " [110, 3360, 317, 113, 279],\n",
              " [400, 526, 15],\n",
              " [29, 10741, 1880, 3632],\n",
              " [3427, 970],\n",
              " [43, 3512, 1849, 488, 347],\n",
              " [92, 2321, 225, 1841, 30],\n",
              " [6340, 106],\n",
              " [1060, 11923],\n",
              " [219, 3568, 47, 2468],\n",
              " [3214, 148, 985, 14283, 747],\n",
              " [40508],\n",
              " [1707, 245],\n",
              " [51, 1306, 204, 6, 396, 89, 1453, 3],\n",
              " [18, 296, 3210, 2678, 11088, 39261, 323, 21611, 620, 14],\n",
              " [2966, 344, 24, 1421],\n",
              " [3807, 20580],\n",
              " [15271],\n",
              " [8, 12457, 192, 964],\n",
              " [920, 1770, 29, 204, 933, 730, 4],\n",
              " [5336, 19884, 13050, 141, 32],\n",
              " [3942, 2057, 953, 34383],\n",
              " [],\n",
              " [283, 18259, 77, 231, 470],\n",
              " [48441, 537, 1024, 53],\n",
              " [32, 35338, 2007, 1548, 2414, 520],\n",
              " [87, 25393, 13819, 10, 1142],\n",
              " [8, 1060, 496, 4216, 14],\n",
              " [445, 512, 2215, 883, 490],\n",
              " [40235, 16949, 15001],\n",
              " [59, 2018],\n",
              " [949, 27, 1, 4966],\n",
              " [8619, 103, 1704, 118, 5236, 36074, 233, 914, 16, 4],\n",
              " [533, 47, 68, 1, 588, 1042],\n",
              " [1587, 50657, 1129],\n",
              " [56630],\n",
              " [1056, 2211, 49928],\n",
              " ...]"
            ]
          },
          "metadata": {
            "tags": []
          },
          "execution_count": 33
        }
      ]
    },
    {
      "cell_type": "code",
      "metadata": {
        "id": "CEb3XHU4Wu4l",
        "outputId": "045a73ff-75ed-45f5-eb93-60217533a294",
        "colab": {
          "base_uri": "https://localhost:8080/",
          "height": 34
        }
      },
      "source": [
        "max_len = max(len(i) for i in X_encoded)\n",
        "max_len"
      ],
      "execution_count": 34,
      "outputs": [
        {
          "output_type": "execute_result",
          "data": {
            "text/plain": [
              "28"
            ]
          },
          "metadata": {
            "tags": []
          },
          "execution_count": 34
        }
      ]
    },
    {
      "cell_type": "code",
      "metadata": {
        "id": "j7Myy3ANW7-D",
        "outputId": "f0064b51-5020-445f-801b-d1076b7f0d25",
        "colab": {
          "base_uri": "https://localhost:8080/",
          "height": 51
        }
      },
      "source": [
        "X_train = pad_sequences(X_encoded, maxlen=max_len, padding='post')\n",
        "Y_train = np.array(train_label)\n",
        "print(X_train.shape)\n",
        "Y_train.shape"
      ],
      "execution_count": 35,
      "outputs": [
        {
          "output_type": "stream",
          "text": [
            "(56199, 28)\n"
          ],
          "name": "stdout"
        },
        {
          "output_type": "execute_result",
          "data": {
            "text/plain": [
              "(56199,)"
            ]
          },
          "metadata": {
            "tags": []
          },
          "execution_count": 35
        }
      ]
    },
    {
      "cell_type": "code",
      "metadata": {
        "id": "8nh9XIFvr-Qq",
        "outputId": "be0da473-b0d9-4508-d17f-08befd60c319",
        "colab": {
          "base_uri": "https://localhost:8080/",
          "height": 51
        }
      },
      "source": [
        "X_test = pad_sequences(t_X_encoded, maxlen=max_len, padding='post')\n",
        "Y_test = np.array(test_label)\n",
        "print(X_test.shape)\n",
        "Y_test.shape"
      ],
      "execution_count": 36,
      "outputs": [
        {
          "output_type": "stream",
          "text": [
            "(14050, 28)\n"
          ],
          "name": "stdout"
        },
        {
          "output_type": "execute_result",
          "data": {
            "text/plain": [
              "(14050,)"
            ]
          },
          "metadata": {
            "tags": []
          },
          "execution_count": 36
        }
      ]
    },
    {
      "cell_type": "markdown",
      "metadata": {
        "id": "_nHkNQCQXqaH"
      },
      "source": [
        "### Pretrained FastText embedding for Korean"
      ]
    },
    {
      "cell_type": "code",
      "metadata": {
        "id": "UipGcZAXYRQD",
        "outputId": "853f48f6-1f94-4ca3-872c-3c6d1769355b",
        "colab": {
          "base_uri": "https://localhost:8080/",
          "height": 85
        }
      },
      "source": [
        "!pip install fasttext"
      ],
      "execution_count": 37,
      "outputs": [
        {
          "output_type": "stream",
          "text": [
            "Requirement already satisfied: fasttext in /usr/local/lib/python3.6/dist-packages (0.9.2)\n",
            "Requirement already satisfied: setuptools>=0.7.0 in /usr/local/lib/python3.6/dist-packages (from fasttext) (50.3.0)\n",
            "Requirement already satisfied: numpy in /usr/local/lib/python3.6/dist-packages (from fasttext) (1.18.5)\n",
            "Requirement already satisfied: pybind11>=2.2 in /usr/local/lib/python3.6/dist-packages (from fasttext) (2.5.0)\n"
          ],
          "name": "stdout"
        }
      ]
    },
    {
      "cell_type": "code",
      "metadata": {
        "id": "9mpXMK03YIfg",
        "outputId": "70c5e475-ce22-4c27-f563-2abbcd2a442c",
        "colab": {
          "base_uri": "https://localhost:8080/",
          "height": 34
        }
      },
      "source": [
        "import fasttext.util\n",
        "fasttext.util.download_model('ko', if_exists='ignore')  # Korean\n",
        "ko_model = fasttext.load_model('cc.ko.300.bin')"
      ],
      "execution_count": 38,
      "outputs": [
        {
          "output_type": "stream",
          "text": [
            "Warning : `load_model` does not return WordVectorModel or SupervisedModel any more, but a `FastText` object which is very similar.\n"
          ],
          "name": "stderr"
        }
      ]
    },
    {
      "cell_type": "code",
      "metadata": {
        "id": "wC6_GWpKkcmz"
      },
      "source": [
        "# from gensim import models\n",
        "\n",
        "# models.fasttext.FastText.load_fasttext_format('cc.ko.300.bin',)"
      ],
      "execution_count": 39,
      "outputs": []
    },
    {
      "cell_type": "code",
      "metadata": {
        "id": "eiAMWU7AZe0T",
        "outputId": "84f47814-61b2-4442-b1a1-82e2031ef9e2",
        "colab": {
          "base_uri": "https://localhost:8080/",
          "height": 34
        }
      },
      "source": [
        "# To make embedding matrix\n",
        "N = ko_model.get_dimension()\n",
        "embedding_matrix = np.zeros((vocab_size, N))\n",
        "# 단어 집합 크기의 행과 N개 열을 가지는 행렬 생성. 값은 전부 0으로 채워진다.\n",
        "embedding_matrix.shape"
      ],
      "execution_count": 40,
      "outputs": [
        {
          "output_type": "execute_result",
          "data": {
            "text/plain": [
              "(69252, 300)"
            ]
          },
          "metadata": {
            "tags": []
          },
          "execution_count": 40
        }
      ]
    },
    {
      "cell_type": "code",
      "metadata": {
        "id": "ctVH_vnCnhSZ",
        "outputId": "9475514b-9966-42ff-d19d-aa40befe4693",
        "colab": {
          "base_uri": "https://localhost:8080/",
          "height": 34
        }
      },
      "source": [
        "ko_model.get_words"
      ],
      "execution_count": 41,
      "outputs": [
        {
          "output_type": "execute_result",
          "data": {
            "text/plain": [
              "<bound method _FastText.get_words of <fasttext.FastText._FastText object at 0x7f07537dd908>>"
            ]
          },
          "metadata": {
            "tags": []
          },
          "execution_count": 41
        }
      ]
    },
    {
      "cell_type": "code",
      "metadata": {
        "id": "tn-xrMNeZ7lt"
      },
      "source": [
        "# def get_vector(word):\n",
        "#   if word in ko_model:\n",
        "#     return ko_model[word]\n",
        "#   else:\n",
        "#     return none"
      ],
      "execution_count": 42,
      "outputs": []
    },
    {
      "cell_type": "code",
      "metadata": {
        "id": "TAKtCYWRaJRZ"
      },
      "source": [
        "for word, i in t.word_index.items(): #훈련 데이터의 단어 집합에서 단어와 정수 인덱스르 1개씩 꺼내온다.\n",
        "  temp = ko_model.get_word_vector(word) #단어(key) 해당되는 임베딩 벡터의 300개의 값(value)를 임시 변수에 저장\n",
        "  if temp is not None:\n",
        "    embedding_matrix[i] = temp\n"
      ],
      "execution_count": 43,
      "outputs": []
    },
    {
      "cell_type": "markdown",
      "metadata": {
        "id": "EOhkIzYtauuo"
      },
      "source": [
        "### LSTM model"
      ]
    },
    {
      "cell_type": "code",
      "metadata": {
        "id": "dbahCb1Uu-aP"
      },
      "source": [
        "from keras.models import Model\n",
        "from keras.layers import Input, Dense, Embedding, SpatialDropout1D, add, concatenate\n",
        "from keras.layers import LSTM, Bidirectional, GlobalMaxPooling1D, GlobalAveragePooling1D"
      ],
      "execution_count": 44,
      "outputs": []
    },
    {
      "cell_type": "code",
      "metadata": {
        "id": "BX7V34zoasFW"
      },
      "source": [
        "embedding_dim = 16\n",
        "model = tf.keras.Sequential([\n",
        "tf.keras.layers.Embedding(vocab_size, N, weights=[embedding_matrix],\n",
        "              input_length=max_len, trainable=False),\n",
        "tf.keras.layers.Bidirectional(tf.keras.layers.LSTM(embedding_dim)),\n",
        "#    tf.keras.layers.Bidirectional(tf.keras.layers.LSTM(32)),\n",
        "    # use ReLU in place of tanh function since they are very good alternatives of each other.\n",
        "tf.keras.layers.Dense(embedding_dim, activation='relu'),\n",
        "    # Add a Dense layer with 6 units and softmax activation.\n",
        "    # When we have multiple outputs, softmax convert outputs layers into a probability distribution.\n",
        "tf.keras.layers.Dense(num_classes, activation='softmax')])\n",
        "# model.add(e)\n",
        "# model.add(bi)\n",
        "# model.add(de)\n",
        "# model.add(de2)"
      ],
      "execution_count": 103,
      "outputs": []
    },
    {
      "cell_type": "code",
      "metadata": {
        "id": "wAadqnFDvbOT",
        "outputId": "a244d596-e5cf-472c-8080-45656e7ce4b8",
        "colab": {
          "base_uri": "https://localhost:8080/",
          "height": 289
        }
      },
      "source": [
        "model.summary()"
      ],
      "execution_count": 104,
      "outputs": [
        {
          "output_type": "stream",
          "text": [
            "Model: \"sequential_1\"\n",
            "_________________________________________________________________\n",
            "Layer (type)                 Output Shape              Param #   \n",
            "=================================================================\n",
            "embedding_1 (Embedding)      (None, 28, 300)           20775600  \n",
            "_________________________________________________________________\n",
            "bidirectional_1 (Bidirection (None, 32)                40576     \n",
            "_________________________________________________________________\n",
            "dense_2 (Dense)              (None, 16)                528       \n",
            "_________________________________________________________________\n",
            "dense_3 (Dense)              (None, 26)                442       \n",
            "=================================================================\n",
            "Total params: 20,817,146\n",
            "Trainable params: 41,546\n",
            "Non-trainable params: 20,775,600\n",
            "_________________________________________________________________\n"
          ],
          "name": "stdout"
        }
      ]
    },
    {
      "cell_type": "markdown",
      "metadata": {
        "id": "rGx8dAhOcTw8"
      },
      "source": [
        "### Compile and training"
      ]
    },
    {
      "cell_type": "code",
      "metadata": {
        "id": "VRaClldIcjAo"
      },
      "source": [
        "# 학습 준비하기\n",
        "optimizer = tf.keras.optimizers.Adam(3e-4)\n",
        "loss = tf.keras.losses.SparseCategoricalCrossentropy(from_logits=True)\n",
        "metric = tf.keras.metrics.SparseCategoricalAccuracy(name='accuracy')"
      ],
      "execution_count": 50,
      "outputs": []
    },
    {
      "cell_type": "code",
      "metadata": {
        "id": "Dk8tnh48vlT9"
      },
      "source": [
        "model.compile(optimizer=optimizer, loss=loss, metrics=[metric], experimental_run_tf_function=False)"
      ],
      "execution_count": 105,
      "outputs": []
    },
    {
      "cell_type": "code",
      "metadata": {
        "id": "DLXWVjurcjAt"
      },
      "source": [
        "model_name = \"tf2_FastText_symptom2class\"\n",
        "\n",
        "\n",
        "\n",
        "# overfitting을 막기 위한 earlystop 추가\n",
        "earlystop_callback = tf.keras.callbacks.EarlyStopping(monitor='val_accuracy', min_delta=0.0001,patience=2)\n",
        "# min_delta: the threshold that triggers the termination (acc should at least improve 0.0001)\n",
        "# patience: no improvment epochs (patience = 1, 1번 이상 상승이 없으면 종료)\\\n",
        "\n",
        "checkpoint_path = os.path.join(DATA_OUT_PATH, model_name, 'weights.h5')\n",
        "checkpoint_dir = os.path.dirname(checkpoint_path)\n",
        "\n",
        "# Create path if exists\n",
        "if os.path.exists(checkpoint_dir):\n",
        "    print(\"{} -- Folder already exists \\n\".format(checkpoint_dir))\n",
        "else:\n",
        "    os.makedirs(checkpoint_dir, exist_ok=True)\n",
        "    print(\"{} -- Folder create complete \\n\".format(checkpoint_dir))\n",
        "    \n",
        "cp_callback = tf.keras.callbacks.ModelCheckpoint(\n",
        "    checkpoint_path, monitor='val_accuracy', verbose=1, save_best_only=True, save_weights_only=True)"
      ],
      "execution_count": null,
      "outputs": []
    },
    {
      "cell_type": "code",
      "metadata": {
        "id": "d4URqX475G7O",
        "outputId": "98c5de6f-cc59-4655-88eb-aa952407ec3f",
        "colab": {
          "base_uri": "https://localhost:8080/",
          "height": 734
        }
      },
      "source": [
        "# 학습과 eval 시작\n",
        "history = model.fit(X_train, Y_train, epochs=NUM_EPOCHS, batch_size=BATCH_SIZE,\n",
        "                    validation_data=(X_test, Y_test),\n",
        "                    validation_steps=(len(Y_test)/BATCH_SIZE), \n",
        "                    callbacks=[cp_callback, earlystop_callback]) ## Cannot use in transformers of TF 2.3 -- NO. WE CAN USE THIS\n",
        "\n",
        "#steps_for_epoch\n",
        "\n",
        "print(history.history)"
      ],
      "execution_count": 106,
      "outputs": [
        {
          "output_type": "stream",
          "text": [
            "Epoch 1/10\n",
            "1752/1757 [============================>.] - ETA: 0s - loss: 3.1300 - accuracy: 0.1999\n",
            "Epoch 00001: val_accuracy did not improve from 0.33893\n",
            "1757/1757 [==============================] - 15s 8ms/step - loss: 3.1299 - accuracy: 0.2000 - val_loss: 3.0962 - val_accuracy: 0.2308\n",
            "Epoch 2/10\n",
            "1753/1757 [============================>.] - ETA: 0s - loss: 3.0913 - accuracy: 0.2319\n",
            "Epoch 00002: val_accuracy did not improve from 0.33893\n",
            "1757/1757 [==============================] - 14s 8ms/step - loss: 3.0911 - accuracy: 0.2321 - val_loss: 3.0901 - val_accuracy: 0.2342\n",
            "Epoch 3/10\n",
            "1754/1757 [============================>.] - ETA: 0s - loss: 3.0866 - accuracy: 0.2359\n",
            "Epoch 00003: val_accuracy did not improve from 0.33893\n",
            "1757/1757 [==============================] - 14s 8ms/step - loss: 3.0867 - accuracy: 0.2359 - val_loss: 3.0890 - val_accuracy: 0.2298\n",
            "Epoch 4/10\n",
            "1754/1757 [============================>.] - ETA: 0s - loss: 3.0842 - accuracy: 0.2381\n",
            "Epoch 00004: val_accuracy did not improve from 0.33893\n",
            "1757/1757 [==============================] - 14s 8ms/step - loss: 3.0842 - accuracy: 0.2381 - val_loss: 3.0860 - val_accuracy: 0.2368\n",
            "Epoch 5/10\n",
            "1751/1757 [============================>.] - ETA: 0s - loss: 3.0750 - accuracy: 0.2478\n",
            "Epoch 00005: val_accuracy did not improve from 0.33893\n",
            "1757/1757 [==============================] - 14s 8ms/step - loss: 3.0749 - accuracy: 0.2479 - val_loss: 3.0651 - val_accuracy: 0.2631\n",
            "Epoch 6/10\n",
            "1751/1757 [============================>.] - ETA: 0s - loss: 3.0540 - accuracy: 0.2704\n",
            "Epoch 00006: val_accuracy did not improve from 0.33893\n",
            "1757/1757 [==============================] - 14s 8ms/step - loss: 3.0540 - accuracy: 0.2704 - val_loss: 3.0535 - val_accuracy: 0.2719\n",
            "Epoch 7/10\n",
            "1757/1757 [==============================] - ETA: 0s - loss: 3.0458 - accuracy: 0.2776\n",
            "Epoch 00007: val_accuracy did not improve from 0.33893\n",
            "1757/1757 [==============================] - 14s 8ms/step - loss: 3.0458 - accuracy: 0.2776 - val_loss: 3.0481 - val_accuracy: 0.2753\n",
            "Epoch 8/10\n",
            "1753/1757 [============================>.] - ETA: 0s - loss: 3.0402 - accuracy: 0.2822\n",
            "Epoch 00008: val_accuracy did not improve from 0.33893\n",
            "1757/1757 [==============================] - 14s 8ms/step - loss: 3.0401 - accuracy: 0.2823 - val_loss: 3.0428 - val_accuracy: 0.2860\n",
            "Epoch 9/10\n",
            "1751/1757 [============================>.] - ETA: 0s - loss: 3.0242 - accuracy: 0.3042\n",
            "Epoch 00009: val_accuracy did not improve from 0.33893\n",
            "1757/1757 [==============================] - 14s 8ms/step - loss: 3.0242 - accuracy: 0.3042 - val_loss: 3.0229 - val_accuracy: 0.3038\n",
            "Epoch 10/10\n",
            "1757/1757 [==============================] - ETA: 0s - loss: 3.0055 - accuracy: 0.3221\n",
            "Epoch 00010: val_accuracy did not improve from 0.33893\n",
            "1757/1757 [==============================] - 14s 8ms/step - loss: 3.0055 - accuracy: 0.3221 - val_loss: 3.0126 - val_accuracy: 0.3137\n",
            "{'loss': [3.129892587661743, 3.091093063354492, 3.0866568088531494, 3.0842061042785645, 3.0749101638793945, 3.053960084915161, 3.045811653137207, 3.0401365756988525, 3.024230480194092, 3.005460023880005], 'accuracy': [0.19998575747013092, 0.23205038905143738, 0.23591166734695435, 0.2380647361278534, 0.24794036149978638, 0.27043184638023376, 0.2775849997997284, 0.2823003828525543, 0.30420470237731934, 0.3220875859260559], 'val_loss': [3.0962095260620117, 3.0900793075561523, 3.08901309967041, 3.085969924926758, 3.0650601387023926, 3.0534610748291016, 3.0480713844299316, 3.0428483486175537, 3.022885799407959, 3.012580633163452], 'val_accuracy': [0.230818510055542, 0.23416370153427124, 0.2297508865594864, 0.23679715394973755, 0.26313167810440063, 0.27188611030578613, 0.2753024995326996, 0.28604981303215027, 0.3037722408771515, 0.3136654794216156]}\n"
          ],
          "name": "stdout"
        }
      ]
    },
    {
      "cell_type": "markdown",
      "metadata": {
        "id": "uxINnt9y1PFL"
      },
      "source": [
        "## Testing for new sentences"
      ]
    },
    {
      "cell_type": "code",
      "metadata": {
        "id": "kkmjeouM1PFN"
      },
      "source": [
        "## To load a best weights from a saved file (.h5)  ====> for tf 2.1\n",
        "# cls_model.load_weights(checkpoint_path)\n",
        "\n",
        "## To load a model file )  ====> for tf 2.3\n",
        "#new_model = tf.keras.models.load_model('my_model.h5')"
      ],
      "execution_count": null,
      "outputs": []
    },
    {
      "cell_type": "code",
      "metadata": {
        "id": "r51Sh1Dt1PFR",
        "outputId": "922a3b51-d1a3-448c-8413-95d31901af4e",
        "colab": {
          "base_uri": "https://localhost:8080/",
          "height": 459
        }
      },
      "source": [
        "# exchanging key and value\n",
        "label_to_class = {v:k for k,v in class_to_label.items()} \n",
        "label_to_class"
      ],
      "execution_count": 57,
      "outputs": [
        {
          "output_type": "execute_result",
          "data": {
            "text/plain": [
              "{0: 'DERM',\n",
              " 1: 'GS',\n",
              " 2: 'IP',\n",
              " 3: 'GI',\n",
              " 4: 'OPH',\n",
              " 5: 'NR',\n",
              " 6: 'ENT',\n",
              " 7: 'PSY',\n",
              " 8: 'HEON',\n",
              " 9: 'RHEU',\n",
              " 10: 'REHM',\n",
              " 11: 'NS',\n",
              " 12: 'AN',\n",
              " 13: 'DENT',\n",
              " 14: 'PS',\n",
              " 15: 'CS',\n",
              " 16: 'INFC',\n",
              " 17: 'OS',\n",
              " 18: 'EMR',\n",
              " 19: 'ENDO',\n",
              " 20: 'CA',\n",
              " 21: 'KTM',\n",
              " 22: 'OBGY',\n",
              " 23: 'URO',\n",
              " 24: 'ALL',\n",
              " 25: 'NPH'}"
            ]
          },
          "metadata": {
            "tags": []
          },
          "execution_count": 57
        }
      ]
    },
    {
      "cell_type": "code",
      "metadata": {
        "id": "IvdLiSRf1PFU"
      },
      "source": [
        "def specialty_predict(new_sentence):\n",
        "  new_encoded = t.texts_to_sequences(new_sentence)\n",
        "  encoded = pad_sequences(new_encoded, maxlen=max_len, padding='post')\n",
        "  y_output = model.predict(encoded)  \n",
        "\n",
        "  y_pred = y_output[0]  # The last hidden-state is the first element of the output tuple\n",
        "  y_label = y_pred.argmax()\n",
        "  y_prob = y_pred[y_label] \n",
        "  y_class = label_to_class.get(y_label)  ### normalize가 필요한 것으로 생각됨. (softmax함수가 아님..)\n",
        "  # loss, acc_score = model.evaluate(encoded)\n",
        "  \n",
        "  # if(y_prob > 0.5):\n",
        "  print(\"{:.2f}% 확률로 {}과를 방문하셔야합니다.\\n\".format(y_prob * 100, y_class))\n",
        "  # else:\n",
        "    # print(\"증상을 좀 더 자세히 적어주세요.\")\n",
        "  # print(y_output.shape)"
      ],
      "execution_count": 128,
      "outputs": []
    },
    {
      "cell_type": "code",
      "metadata": {
        "id": "-5mJSDZu1PFY",
        "outputId": "a0fe5258-ec25-46f6-a7fb-150e0fd279af",
        "colab": {
          "base_uri": "https://localhost:8080/",
          "height": 51
        }
      },
      "source": [
        "input_sentence = \"통풍으로 엄지발가락이 부었어요\"\n",
        "specialty_predict(input_sentence)"
      ],
      "execution_count": 129,
      "outputs": [
        {
          "output_type": "stream",
          "text": [
            "97.98% 확률로 GI과를 방문하셔야합니다.\n",
            "\n"
          ],
          "name": "stdout"
        }
      ]
    },
    {
      "cell_type": "code",
      "metadata": {
        "id": "rwYHuN8d1PFb",
        "outputId": "2b879ef7-3854-4d38-a276-122fc023dc0b",
        "colab": {
          "base_uri": "https://localhost:8080/",
          "height": 51
        }
      },
      "source": [
        "input_sentence = \"잠이 너무 안와서 다음날 몽롱해요\"\n",
        "specialty_predict(input_sentence)"
      ],
      "execution_count": 115,
      "outputs": [
        {
          "output_type": "stream",
          "text": [
            "98.76% 확률로 PSY과를 방문하셔야합니다.\n",
            "\n"
          ],
          "name": "stdout"
        }
      ]
    },
    {
      "cell_type": "code",
      "metadata": {
        "id": "eGtmvyXM1PFe",
        "outputId": "33512515-33fb-460c-f8ba-65c96380f28c",
        "colab": {
          "base_uri": "https://localhost:8080/",
          "height": 51
        }
      },
      "source": [
        "input_sentence = \"오래된 이명과 비염이 있어요\"\n",
        "specialty_predict(input_sentence)"
      ],
      "execution_count": 116,
      "outputs": [
        {
          "output_type": "stream",
          "text": [
            "97.27% 확률로 DERM과를 방문하셔야합니다.\n",
            "\n"
          ],
          "name": "stdout"
        }
      ]
    },
    {
      "cell_type": "code",
      "metadata": {
        "id": "APh7xftD1PFg",
        "outputId": "3e498b0c-b614-4473-850d-f1cfe9534089",
        "colab": {
          "base_uri": "https://localhost:8080/",
          "height": 51
        }
      },
      "source": [
        "input_sentence = \"뇌경색 이후에 어떤 운동을 하는게 좋은가요\"\n",
        "specialty_predict(input_sentence)"
      ],
      "execution_count": 117,
      "outputs": [
        {
          "output_type": "stream",
          "text": [
            "61.21% 확률로 NR과를 방문하셔야합니다.\n",
            "\n"
          ],
          "name": "stdout"
        }
      ]
    },
    {
      "cell_type": "code",
      "metadata": {
        "id": "lSio1uJU1PFi",
        "outputId": "da59163b-c582-4de3-a143-ec754355e38e",
        "colab": {
          "base_uri": "https://localhost:8080/",
          "height": 51
        }
      },
      "source": [
        "input_sentence = \"항문 주변이 따가워요\"\n",
        "specialty_predict(input_sentence)"
      ],
      "execution_count": 118,
      "outputs": [
        {
          "output_type": "stream",
          "text": [
            "99.96% 확률로 GI과를 방문하셔야합니다.\n",
            "\n"
          ],
          "name": "stdout"
        }
      ]
    },
    {
      "cell_type": "code",
      "metadata": {
        "id": "yuSezhMB6IBg",
        "outputId": "a733b0fc-a991-471b-ba34-f7569dae0a79",
        "colab": {
          "base_uri": "https://localhost:8080/",
          "height": 51
        }
      },
      "source": [
        "input_sentence = \"결막염\"\n",
        "specialty_predict(input_sentence)"
      ],
      "execution_count": 131,
      "outputs": [
        {
          "output_type": "stream",
          "text": [
            "86.88% 확률로 GI과를 방문하셔야합니다.\n",
            "\n"
          ],
          "name": "stdout"
        }
      ]
    },
    {
      "cell_type": "code",
      "metadata": {
        "id": "PwNyiG8o1PFk"
      },
      "source": [
        "# 2000개까지 정리: val_acc = 0.6608\n",
        "# 20571개까지 정리: val_acc = 0.6671"
      ],
      "execution_count": null,
      "outputs": []
    },
    {
      "cell_type": "code",
      "metadata": {
        "id": "0vKq-Jen1PFm"
      },
      "source": [
        " # keras 2.1의 predict나 evaluate에 문제가 있거나..아니면 데이터 부족의 문제인듯.\n",
        "# 아무리 심한 Overfit이라고해도 acc 0.00은...\n",
        "## 어떤 sentence를 입력해도 5번 신경과나 나옴... 어떻게 학습되냐에 따라 과가 결정되어져 버림..\n",
        "\n",
        "#   # w_count= {}\n",
        "  # # for lb in y_label:\n",
        "  # #     try: w_count[lb]+= 1\n",
        "  # #     except: w_count[lb]=1\n",
        "  # # print(w_count)"
      ],
      "execution_count": null,
      "outputs": []
    },
    {
      "cell_type": "code",
      "metadata": {
        "id": "2ZxiAmyC1PFn"
      },
      "source": [
        "#imbalanced data... focal loss OR weighted cross entropy OR class_weight arguement in model.fit.   \n",
        "## focal loss: https://3months.tistory.com/414"
      ],
      "execution_count": null,
      "outputs": []
    },
    {
      "cell_type": "code",
      "metadata": {
        "id": "RbRROuAq1PFq"
      },
      "source": [
        "\n"
      ],
      "execution_count": null,
      "outputs": []
    }
  ]
}